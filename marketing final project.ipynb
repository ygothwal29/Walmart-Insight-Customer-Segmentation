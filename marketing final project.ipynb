{
  "nbformat": 4,
  "nbformat_minor": 0,
  "metadata": {
    "colab": {
      "provenance": []
    },
    "kernelspec": {
      "name": "python3",
      "display_name": "Python 3"
    },
    "language_info": {
      "name": "python"
    }
  },
  "cells": [
    {
      "cell_type": "code",
      "execution_count": 219,
      "metadata": {
        "id": "XNC9z_EpN9su"
      },
      "outputs": [],
      "source": [
        "import numpy as np\n",
        "import pandas as pd\n",
        "import matplotlib.pyplot as plt\n"
      ]
    },
    {
      "cell_type": "code",
      "source": [
        "from google.colab import files\n",
        "uploaded = files.upload()"
      ],
      "metadata": {
        "id": "jVPZXd17OZyj",
        "colab": {
          "base_uri": "https://localhost:8080/",
          "height": 73
        },
        "outputId": "d54a6efd-0ee7-4a13-dbda-7cd9e70215a1"
      },
      "execution_count": 220,
      "outputs": [
        {
          "output_type": "display_data",
          "data": {
            "text/plain": [
              "<IPython.core.display.HTML object>"
            ],
            "text/html": [
              "\n",
              "     <input type=\"file\" id=\"files-8c36afbd-ccb4-4afd-8d1c-8897539bc1c4\" name=\"files[]\" multiple disabled\n",
              "        style=\"border:none\" />\n",
              "     <output id=\"result-8c36afbd-ccb4-4afd-8d1c-8897539bc1c4\">\n",
              "      Upload widget is only available when the cell has been executed in the\n",
              "      current browser session. Please rerun this cell to enable.\n",
              "      </output>\n",
              "      <script>// Copyright 2017 Google LLC\n",
              "//\n",
              "// Licensed under the Apache License, Version 2.0 (the \"License\");\n",
              "// you may not use this file except in compliance with the License.\n",
              "// You may obtain a copy of the License at\n",
              "//\n",
              "//      http://www.apache.org/licenses/LICENSE-2.0\n",
              "//\n",
              "// Unless required by applicable law or agreed to in writing, software\n",
              "// distributed under the License is distributed on an \"AS IS\" BASIS,\n",
              "// WITHOUT WARRANTIES OR CONDITIONS OF ANY KIND, either express or implied.\n",
              "// See the License for the specific language governing permissions and\n",
              "// limitations under the License.\n",
              "\n",
              "/**\n",
              " * @fileoverview Helpers for google.colab Python module.\n",
              " */\n",
              "(function(scope) {\n",
              "function span(text, styleAttributes = {}) {\n",
              "  const element = document.createElement('span');\n",
              "  element.textContent = text;\n",
              "  for (const key of Object.keys(styleAttributes)) {\n",
              "    element.style[key] = styleAttributes[key];\n",
              "  }\n",
              "  return element;\n",
              "}\n",
              "\n",
              "// Max number of bytes which will be uploaded at a time.\n",
              "const MAX_PAYLOAD_SIZE = 100 * 1024;\n",
              "\n",
              "function _uploadFiles(inputId, outputId) {\n",
              "  const steps = uploadFilesStep(inputId, outputId);\n",
              "  const outputElement = document.getElementById(outputId);\n",
              "  // Cache steps on the outputElement to make it available for the next call\n",
              "  // to uploadFilesContinue from Python.\n",
              "  outputElement.steps = steps;\n",
              "\n",
              "  return _uploadFilesContinue(outputId);\n",
              "}\n",
              "\n",
              "// This is roughly an async generator (not supported in the browser yet),\n",
              "// where there are multiple asynchronous steps and the Python side is going\n",
              "// to poll for completion of each step.\n",
              "// This uses a Promise to block the python side on completion of each step,\n",
              "// then passes the result of the previous step as the input to the next step.\n",
              "function _uploadFilesContinue(outputId) {\n",
              "  const outputElement = document.getElementById(outputId);\n",
              "  const steps = outputElement.steps;\n",
              "\n",
              "  const next = steps.next(outputElement.lastPromiseValue);\n",
              "  return Promise.resolve(next.value.promise).then((value) => {\n",
              "    // Cache the last promise value to make it available to the next\n",
              "    // step of the generator.\n",
              "    outputElement.lastPromiseValue = value;\n",
              "    return next.value.response;\n",
              "  });\n",
              "}\n",
              "\n",
              "/**\n",
              " * Generator function which is called between each async step of the upload\n",
              " * process.\n",
              " * @param {string} inputId Element ID of the input file picker element.\n",
              " * @param {string} outputId Element ID of the output display.\n",
              " * @return {!Iterable<!Object>} Iterable of next steps.\n",
              " */\n",
              "function* uploadFilesStep(inputId, outputId) {\n",
              "  const inputElement = document.getElementById(inputId);\n",
              "  inputElement.disabled = false;\n",
              "\n",
              "  const outputElement = document.getElementById(outputId);\n",
              "  outputElement.innerHTML = '';\n",
              "\n",
              "  const pickedPromise = new Promise((resolve) => {\n",
              "    inputElement.addEventListener('change', (e) => {\n",
              "      resolve(e.target.files);\n",
              "    });\n",
              "  });\n",
              "\n",
              "  const cancel = document.createElement('button');\n",
              "  inputElement.parentElement.appendChild(cancel);\n",
              "  cancel.textContent = 'Cancel upload';\n",
              "  const cancelPromise = new Promise((resolve) => {\n",
              "    cancel.onclick = () => {\n",
              "      resolve(null);\n",
              "    };\n",
              "  });\n",
              "\n",
              "  // Wait for the user to pick the files.\n",
              "  const files = yield {\n",
              "    promise: Promise.race([pickedPromise, cancelPromise]),\n",
              "    response: {\n",
              "      action: 'starting',\n",
              "    }\n",
              "  };\n",
              "\n",
              "  cancel.remove();\n",
              "\n",
              "  // Disable the input element since further picks are not allowed.\n",
              "  inputElement.disabled = true;\n",
              "\n",
              "  if (!files) {\n",
              "    return {\n",
              "      response: {\n",
              "        action: 'complete',\n",
              "      }\n",
              "    };\n",
              "  }\n",
              "\n",
              "  for (const file of files) {\n",
              "    const li = document.createElement('li');\n",
              "    li.append(span(file.name, {fontWeight: 'bold'}));\n",
              "    li.append(span(\n",
              "        `(${file.type || 'n/a'}) - ${file.size} bytes, ` +\n",
              "        `last modified: ${\n",
              "            file.lastModifiedDate ? file.lastModifiedDate.toLocaleDateString() :\n",
              "                                    'n/a'} - `));\n",
              "    const percent = span('0% done');\n",
              "    li.appendChild(percent);\n",
              "\n",
              "    outputElement.appendChild(li);\n",
              "\n",
              "    const fileDataPromise = new Promise((resolve) => {\n",
              "      const reader = new FileReader();\n",
              "      reader.onload = (e) => {\n",
              "        resolve(e.target.result);\n",
              "      };\n",
              "      reader.readAsArrayBuffer(file);\n",
              "    });\n",
              "    // Wait for the data to be ready.\n",
              "    let fileData = yield {\n",
              "      promise: fileDataPromise,\n",
              "      response: {\n",
              "        action: 'continue',\n",
              "      }\n",
              "    };\n",
              "\n",
              "    // Use a chunked sending to avoid message size limits. See b/62115660.\n",
              "    let position = 0;\n",
              "    do {\n",
              "      const length = Math.min(fileData.byteLength - position, MAX_PAYLOAD_SIZE);\n",
              "      const chunk = new Uint8Array(fileData, position, length);\n",
              "      position += length;\n",
              "\n",
              "      const base64 = btoa(String.fromCharCode.apply(null, chunk));\n",
              "      yield {\n",
              "        response: {\n",
              "          action: 'append',\n",
              "          file: file.name,\n",
              "          data: base64,\n",
              "        },\n",
              "      };\n",
              "\n",
              "      let percentDone = fileData.byteLength === 0 ?\n",
              "          100 :\n",
              "          Math.round((position / fileData.byteLength) * 100);\n",
              "      percent.textContent = `${percentDone}% done`;\n",
              "\n",
              "    } while (position < fileData.byteLength);\n",
              "  }\n",
              "\n",
              "  // All done.\n",
              "  yield {\n",
              "    response: {\n",
              "      action: 'complete',\n",
              "    }\n",
              "  };\n",
              "}\n",
              "\n",
              "scope.google = scope.google || {};\n",
              "scope.google.colab = scope.google.colab || {};\n",
              "scope.google.colab._files = {\n",
              "  _uploadFiles,\n",
              "  _uploadFilesContinue,\n",
              "};\n",
              "})(self);\n",
              "</script> "
            ]
          },
          "metadata": {}
        },
        {
          "output_type": "stream",
          "name": "stdout",
          "text": [
            "Saving walmart-retail-dataset-QueryResult (1).csv to walmart-retail-dataset-QueryResult (1) (7).csv\n"
          ]
        }
      ]
    },
    {
      "cell_type": "code",
      "source": [
        "data = pd.read_csv('walmart-retail-dataset-QueryResult (1).csv')"
      ],
      "metadata": {
        "id": "dJ4gHXRvZY4Y"
      },
      "execution_count": 221,
      "outputs": []
    },
    {
      "cell_type": "code",
      "source": [
        "data.shape"
      ],
      "metadata": {
        "colab": {
          "base_uri": "https://localhost:8080/"
        },
        "id": "HPBcpU9uOjdl",
        "outputId": "fad97ad0-05ed-4eb1-e01e-810489636fd0"
      },
      "execution_count": 222,
      "outputs": [
        {
          "output_type": "execute_result",
          "data": {
            "text/plain": [
              "(8399, 24)"
            ]
          },
          "metadata": {},
          "execution_count": 222
        }
      ]
    },
    {
      "cell_type": "code",
      "source": [
        "data.head()"
      ],
      "metadata": {
        "colab": {
          "base_uri": "https://localhost:8080/",
          "height": 386
        },
        "id": "yRyJlHcOOkIQ",
        "outputId": "c5b898af-99ed-439c-dde1-29dee1b3b0b3"
      },
      "execution_count": 223,
      "outputs": [
        {
          "output_type": "execute_result",
          "data": {
            "text/plain": [
              "         city      customer_name customer_segment  discount  \\\n",
              "0  McKeesport     Jessica Myrick   Small Business      0.10   \n",
              "1       Bowie     Matt Collister      Home Office      0.08   \n",
              "2        Napa  Alan Schoenberger        Corporate      0.00   \n",
              "3  Montebello  Elizabeth Moffitt         Consumer      0.08   \n",
              "4        Napa  Alan Schoenberger        Corporate      0.07   \n",
              "\n",
              "   number_of_records  order_date  order_id order_priority  order_quantity  \\\n",
              "0                  1  2012-01-01     28774           High              32   \n",
              "1                  1  2012-01-01     13729  Not Specified               9   \n",
              "2                  1  2012-01-02     37537            Low               4   \n",
              "3                  1  2012-01-02     44069       Critical              43   \n",
              "4                  1  2012-01-02     37537            Low              43   \n",
              "\n",
              "   product_base_margin  ...   profit region row_id    sales   ship_date  \\\n",
              "0                 0.68  ...  -111.80   East   4031   180.36  2012-01-02   \n",
              "1                  NaN  ...  -342.91   East   1914   872.48  2012-01-03   \n",
              "2                 0.56  ...  -193.08   West   5272  1239.06  2012-01-02   \n",
              "3                 0.39  ...   247.79   West   6225   614.80  2012-01-02   \n",
              "4                 0.69  ... -1049.85   West   5273  4083.19  2012-01-04   \n",
              "\n",
              "        ship_mode  shipping_cost         state unit_price zip_code  \n",
              "0     Regular Air           4.69  Pennsylvania       5.98    15131  \n",
              "1     Express Air          35.00      Maryland      95.99    20715  \n",
              "2  Delivery Truck          48.80    California     291.73    94559  \n",
              "3     Regular Air           1.97    California      15.04    90640  \n",
              "4  Delivery Truck          45.00    California     100.98    94559  \n",
              "\n",
              "[5 rows x 24 columns]"
            ],
            "text/html": [
              "\n",
              "  <div id=\"df-86f85051-7f35-4a30-9c26-9bbfabef7e73\">\n",
              "    <div class=\"colab-df-container\">\n",
              "      <div>\n",
              "<style scoped>\n",
              "    .dataframe tbody tr th:only-of-type {\n",
              "        vertical-align: middle;\n",
              "    }\n",
              "\n",
              "    .dataframe tbody tr th {\n",
              "        vertical-align: top;\n",
              "    }\n",
              "\n",
              "    .dataframe thead th {\n",
              "        text-align: right;\n",
              "    }\n",
              "</style>\n",
              "<table border=\"1\" class=\"dataframe\">\n",
              "  <thead>\n",
              "    <tr style=\"text-align: right;\">\n",
              "      <th></th>\n",
              "      <th>city</th>\n",
              "      <th>customer_name</th>\n",
              "      <th>customer_segment</th>\n",
              "      <th>discount</th>\n",
              "      <th>number_of_records</th>\n",
              "      <th>order_date</th>\n",
              "      <th>order_id</th>\n",
              "      <th>order_priority</th>\n",
              "      <th>order_quantity</th>\n",
              "      <th>product_base_margin</th>\n",
              "      <th>...</th>\n",
              "      <th>profit</th>\n",
              "      <th>region</th>\n",
              "      <th>row_id</th>\n",
              "      <th>sales</th>\n",
              "      <th>ship_date</th>\n",
              "      <th>ship_mode</th>\n",
              "      <th>shipping_cost</th>\n",
              "      <th>state</th>\n",
              "      <th>unit_price</th>\n",
              "      <th>zip_code</th>\n",
              "    </tr>\n",
              "  </thead>\n",
              "  <tbody>\n",
              "    <tr>\n",
              "      <th>0</th>\n",
              "      <td>McKeesport</td>\n",
              "      <td>Jessica Myrick</td>\n",
              "      <td>Small Business</td>\n",
              "      <td>0.10</td>\n",
              "      <td>1</td>\n",
              "      <td>2012-01-01</td>\n",
              "      <td>28774</td>\n",
              "      <td>High</td>\n",
              "      <td>32</td>\n",
              "      <td>0.68</td>\n",
              "      <td>...</td>\n",
              "      <td>-111.80</td>\n",
              "      <td>East</td>\n",
              "      <td>4031</td>\n",
              "      <td>180.36</td>\n",
              "      <td>2012-01-02</td>\n",
              "      <td>Regular Air</td>\n",
              "      <td>4.69</td>\n",
              "      <td>Pennsylvania</td>\n",
              "      <td>5.98</td>\n",
              "      <td>15131</td>\n",
              "    </tr>\n",
              "    <tr>\n",
              "      <th>1</th>\n",
              "      <td>Bowie</td>\n",
              "      <td>Matt Collister</td>\n",
              "      <td>Home Office</td>\n",
              "      <td>0.08</td>\n",
              "      <td>1</td>\n",
              "      <td>2012-01-01</td>\n",
              "      <td>13729</td>\n",
              "      <td>Not Specified</td>\n",
              "      <td>9</td>\n",
              "      <td>NaN</td>\n",
              "      <td>...</td>\n",
              "      <td>-342.91</td>\n",
              "      <td>East</td>\n",
              "      <td>1914</td>\n",
              "      <td>872.48</td>\n",
              "      <td>2012-01-03</td>\n",
              "      <td>Express Air</td>\n",
              "      <td>35.00</td>\n",
              "      <td>Maryland</td>\n",
              "      <td>95.99</td>\n",
              "      <td>20715</td>\n",
              "    </tr>\n",
              "    <tr>\n",
              "      <th>2</th>\n",
              "      <td>Napa</td>\n",
              "      <td>Alan Schoenberger</td>\n",
              "      <td>Corporate</td>\n",
              "      <td>0.00</td>\n",
              "      <td>1</td>\n",
              "      <td>2012-01-02</td>\n",
              "      <td>37537</td>\n",
              "      <td>Low</td>\n",
              "      <td>4</td>\n",
              "      <td>0.56</td>\n",
              "      <td>...</td>\n",
              "      <td>-193.08</td>\n",
              "      <td>West</td>\n",
              "      <td>5272</td>\n",
              "      <td>1239.06</td>\n",
              "      <td>2012-01-02</td>\n",
              "      <td>Delivery Truck</td>\n",
              "      <td>48.80</td>\n",
              "      <td>California</td>\n",
              "      <td>291.73</td>\n",
              "      <td>94559</td>\n",
              "    </tr>\n",
              "    <tr>\n",
              "      <th>3</th>\n",
              "      <td>Montebello</td>\n",
              "      <td>Elizabeth Moffitt</td>\n",
              "      <td>Consumer</td>\n",
              "      <td>0.08</td>\n",
              "      <td>1</td>\n",
              "      <td>2012-01-02</td>\n",
              "      <td>44069</td>\n",
              "      <td>Critical</td>\n",
              "      <td>43</td>\n",
              "      <td>0.39</td>\n",
              "      <td>...</td>\n",
              "      <td>247.79</td>\n",
              "      <td>West</td>\n",
              "      <td>6225</td>\n",
              "      <td>614.80</td>\n",
              "      <td>2012-01-02</td>\n",
              "      <td>Regular Air</td>\n",
              "      <td>1.97</td>\n",
              "      <td>California</td>\n",
              "      <td>15.04</td>\n",
              "      <td>90640</td>\n",
              "    </tr>\n",
              "    <tr>\n",
              "      <th>4</th>\n",
              "      <td>Napa</td>\n",
              "      <td>Alan Schoenberger</td>\n",
              "      <td>Corporate</td>\n",
              "      <td>0.07</td>\n",
              "      <td>1</td>\n",
              "      <td>2012-01-02</td>\n",
              "      <td>37537</td>\n",
              "      <td>Low</td>\n",
              "      <td>43</td>\n",
              "      <td>0.69</td>\n",
              "      <td>...</td>\n",
              "      <td>-1049.85</td>\n",
              "      <td>West</td>\n",
              "      <td>5273</td>\n",
              "      <td>4083.19</td>\n",
              "      <td>2012-01-04</td>\n",
              "      <td>Delivery Truck</td>\n",
              "      <td>45.00</td>\n",
              "      <td>California</td>\n",
              "      <td>100.98</td>\n",
              "      <td>94559</td>\n",
              "    </tr>\n",
              "  </tbody>\n",
              "</table>\n",
              "<p>5 rows × 24 columns</p>\n",
              "</div>\n",
              "      <button class=\"colab-df-convert\" onclick=\"convertToInteractive('df-86f85051-7f35-4a30-9c26-9bbfabef7e73')\"\n",
              "              title=\"Convert this dataframe to an interactive table.\"\n",
              "              style=\"display:none;\">\n",
              "        \n",
              "  <svg xmlns=\"http://www.w3.org/2000/svg\" height=\"24px\"viewBox=\"0 0 24 24\"\n",
              "       width=\"24px\">\n",
              "    <path d=\"M0 0h24v24H0V0z\" fill=\"none\"/>\n",
              "    <path d=\"M18.56 5.44l.94 2.06.94-2.06 2.06-.94-2.06-.94-.94-2.06-.94 2.06-2.06.94zm-11 1L8.5 8.5l.94-2.06 2.06-.94-2.06-.94L8.5 2.5l-.94 2.06-2.06.94zm10 10l.94 2.06.94-2.06 2.06-.94-2.06-.94-.94-2.06-.94 2.06-2.06.94z\"/><path d=\"M17.41 7.96l-1.37-1.37c-.4-.4-.92-.59-1.43-.59-.52 0-1.04.2-1.43.59L10.3 9.45l-7.72 7.72c-.78.78-.78 2.05 0 2.83L4 21.41c.39.39.9.59 1.41.59.51 0 1.02-.2 1.41-.59l7.78-7.78 2.81-2.81c.8-.78.8-2.07 0-2.86zM5.41 20L4 18.59l7.72-7.72 1.47 1.35L5.41 20z\"/>\n",
              "  </svg>\n",
              "      </button>\n",
              "      \n",
              "  <style>\n",
              "    .colab-df-container {\n",
              "      display:flex;\n",
              "      flex-wrap:wrap;\n",
              "      gap: 12px;\n",
              "    }\n",
              "\n",
              "    .colab-df-convert {\n",
              "      background-color: #E8F0FE;\n",
              "      border: none;\n",
              "      border-radius: 50%;\n",
              "      cursor: pointer;\n",
              "      display: none;\n",
              "      fill: #1967D2;\n",
              "      height: 32px;\n",
              "      padding: 0 0 0 0;\n",
              "      width: 32px;\n",
              "    }\n",
              "\n",
              "    .colab-df-convert:hover {\n",
              "      background-color: #E2EBFA;\n",
              "      box-shadow: 0px 1px 2px rgba(60, 64, 67, 0.3), 0px 1px 3px 1px rgba(60, 64, 67, 0.15);\n",
              "      fill: #174EA6;\n",
              "    }\n",
              "\n",
              "    [theme=dark] .colab-df-convert {\n",
              "      background-color: #3B4455;\n",
              "      fill: #D2E3FC;\n",
              "    }\n",
              "\n",
              "    [theme=dark] .colab-df-convert:hover {\n",
              "      background-color: #434B5C;\n",
              "      box-shadow: 0px 1px 3px 1px rgba(0, 0, 0, 0.15);\n",
              "      filter: drop-shadow(0px 1px 2px rgba(0, 0, 0, 0.3));\n",
              "      fill: #FFFFFF;\n",
              "    }\n",
              "  </style>\n",
              "\n",
              "      <script>\n",
              "        const buttonEl =\n",
              "          document.querySelector('#df-86f85051-7f35-4a30-9c26-9bbfabef7e73 button.colab-df-convert');\n",
              "        buttonEl.style.display =\n",
              "          google.colab.kernel.accessAllowed ? 'block' : 'none';\n",
              "\n",
              "        async function convertToInteractive(key) {\n",
              "          const element = document.querySelector('#df-86f85051-7f35-4a30-9c26-9bbfabef7e73');\n",
              "          const dataTable =\n",
              "            await google.colab.kernel.invokeFunction('convertToInteractive',\n",
              "                                                     [key], {});\n",
              "          if (!dataTable) return;\n",
              "\n",
              "          const docLinkHtml = 'Like what you see? Visit the ' +\n",
              "            '<a target=\"_blank\" href=https://colab.research.google.com/notebooks/data_table.ipynb>data table notebook</a>'\n",
              "            + ' to learn more about interactive tables.';\n",
              "          element.innerHTML = '';\n",
              "          dataTable['output_type'] = 'display_data';\n",
              "          await google.colab.output.renderOutput(dataTable, element);\n",
              "          const docLink = document.createElement('div');\n",
              "          docLink.innerHTML = docLinkHtml;\n",
              "          element.appendChild(docLink);\n",
              "        }\n",
              "      </script>\n",
              "    </div>\n",
              "  </div>\n",
              "  "
            ]
          },
          "metadata": {},
          "execution_count": 223
        }
      ]
    },
    {
      "cell_type": "code",
      "source": [
        "data.tail()"
      ],
      "metadata": {
        "colab": {
          "base_uri": "https://localhost:8080/",
          "height": 386
        },
        "id": "RD4WOH06VSDS",
        "outputId": "8e0facac-0d10-460b-bb61-08f89487148a"
      },
      "execution_count": 224,
      "outputs": [
        {
          "output_type": "execute_result",
          "data": {
            "text/plain": [
              "                city    customer_name customer_segment  discount  \\\n",
              "8394       Fairfield    Tony Molinari        Corporate      0.10   \n",
              "8395  Harker Heights  Matt Hagelstein      Home Office      0.09   \n",
              "8396       Riverview    Theresa Swint         Consumer      0.10   \n",
              "8397   Nicholasville  Maribeth Yedwab      Home Office      0.09   \n",
              "8398   Nicholasville  Maribeth Yedwab      Home Office      0.00   \n",
              "\n",
              "      number_of_records  order_date  order_id order_priority  order_quantity  \\\n",
              "8394                  1  2015-12-30     50950  Not Specified              35   \n",
              "8395                  1  2015-12-30     25542            Low              37   \n",
              "8396                  1  2015-12-30     45127         Medium              10   \n",
              "8397                  1  2015-12-30     49344            Low               1   \n",
              "8398                  1  2015-12-30     49344            Low              31   \n",
              "\n",
              "      product_base_margin  ...  profit   region row_id   sales   ship_date  \\\n",
              "8394                 0.59  ...  -15.07     West   7142  448.10  2015-12-30   \n",
              "8395                 0.39  ...  -18.66  Central   3583  257.46  2015-12-30   \n",
              "8396                 0.37  ...   -1.29    South   6361   14.15  2015-12-30   \n",
              "8397                 0.83  ... -745.20    South   6916  803.33  2015-12-30   \n",
              "8398                 0.68  ...   27.85    South   6915  672.93  2015-12-30   \n",
              "\n",
              "        ship_mode  shipping_cost       state unit_price zip_code  \n",
              "8394  Express Air           4.51  California      13.48    94533  \n",
              "8395  Express Air           4.23       Texas       7.28    76543  \n",
              "8396  Regular Air           0.70     Florida       1.48    33569  \n",
              "8397  Regular Air          24.49    Kentucky     832.81    40356  \n",
              "8398  Regular Air           4.00    Kentucky      19.98    40356  \n",
              "\n",
              "[5 rows x 24 columns]"
            ],
            "text/html": [
              "\n",
              "  <div id=\"df-ee399d4f-691c-4d7e-8f4d-95a08ab70336\">\n",
              "    <div class=\"colab-df-container\">\n",
              "      <div>\n",
              "<style scoped>\n",
              "    .dataframe tbody tr th:only-of-type {\n",
              "        vertical-align: middle;\n",
              "    }\n",
              "\n",
              "    .dataframe tbody tr th {\n",
              "        vertical-align: top;\n",
              "    }\n",
              "\n",
              "    .dataframe thead th {\n",
              "        text-align: right;\n",
              "    }\n",
              "</style>\n",
              "<table border=\"1\" class=\"dataframe\">\n",
              "  <thead>\n",
              "    <tr style=\"text-align: right;\">\n",
              "      <th></th>\n",
              "      <th>city</th>\n",
              "      <th>customer_name</th>\n",
              "      <th>customer_segment</th>\n",
              "      <th>discount</th>\n",
              "      <th>number_of_records</th>\n",
              "      <th>order_date</th>\n",
              "      <th>order_id</th>\n",
              "      <th>order_priority</th>\n",
              "      <th>order_quantity</th>\n",
              "      <th>product_base_margin</th>\n",
              "      <th>...</th>\n",
              "      <th>profit</th>\n",
              "      <th>region</th>\n",
              "      <th>row_id</th>\n",
              "      <th>sales</th>\n",
              "      <th>ship_date</th>\n",
              "      <th>ship_mode</th>\n",
              "      <th>shipping_cost</th>\n",
              "      <th>state</th>\n",
              "      <th>unit_price</th>\n",
              "      <th>zip_code</th>\n",
              "    </tr>\n",
              "  </thead>\n",
              "  <tbody>\n",
              "    <tr>\n",
              "      <th>8394</th>\n",
              "      <td>Fairfield</td>\n",
              "      <td>Tony Molinari</td>\n",
              "      <td>Corporate</td>\n",
              "      <td>0.10</td>\n",
              "      <td>1</td>\n",
              "      <td>2015-12-30</td>\n",
              "      <td>50950</td>\n",
              "      <td>Not Specified</td>\n",
              "      <td>35</td>\n",
              "      <td>0.59</td>\n",
              "      <td>...</td>\n",
              "      <td>-15.07</td>\n",
              "      <td>West</td>\n",
              "      <td>7142</td>\n",
              "      <td>448.10</td>\n",
              "      <td>2015-12-30</td>\n",
              "      <td>Express Air</td>\n",
              "      <td>4.51</td>\n",
              "      <td>California</td>\n",
              "      <td>13.48</td>\n",
              "      <td>94533</td>\n",
              "    </tr>\n",
              "    <tr>\n",
              "      <th>8395</th>\n",
              "      <td>Harker Heights</td>\n",
              "      <td>Matt Hagelstein</td>\n",
              "      <td>Home Office</td>\n",
              "      <td>0.09</td>\n",
              "      <td>1</td>\n",
              "      <td>2015-12-30</td>\n",
              "      <td>25542</td>\n",
              "      <td>Low</td>\n",
              "      <td>37</td>\n",
              "      <td>0.39</td>\n",
              "      <td>...</td>\n",
              "      <td>-18.66</td>\n",
              "      <td>Central</td>\n",
              "      <td>3583</td>\n",
              "      <td>257.46</td>\n",
              "      <td>2015-12-30</td>\n",
              "      <td>Express Air</td>\n",
              "      <td>4.23</td>\n",
              "      <td>Texas</td>\n",
              "      <td>7.28</td>\n",
              "      <td>76543</td>\n",
              "    </tr>\n",
              "    <tr>\n",
              "      <th>8396</th>\n",
              "      <td>Riverview</td>\n",
              "      <td>Theresa Swint</td>\n",
              "      <td>Consumer</td>\n",
              "      <td>0.10</td>\n",
              "      <td>1</td>\n",
              "      <td>2015-12-30</td>\n",
              "      <td>45127</td>\n",
              "      <td>Medium</td>\n",
              "      <td>10</td>\n",
              "      <td>0.37</td>\n",
              "      <td>...</td>\n",
              "      <td>-1.29</td>\n",
              "      <td>South</td>\n",
              "      <td>6361</td>\n",
              "      <td>14.15</td>\n",
              "      <td>2015-12-30</td>\n",
              "      <td>Regular Air</td>\n",
              "      <td>0.70</td>\n",
              "      <td>Florida</td>\n",
              "      <td>1.48</td>\n",
              "      <td>33569</td>\n",
              "    </tr>\n",
              "    <tr>\n",
              "      <th>8397</th>\n",
              "      <td>Nicholasville</td>\n",
              "      <td>Maribeth Yedwab</td>\n",
              "      <td>Home Office</td>\n",
              "      <td>0.09</td>\n",
              "      <td>1</td>\n",
              "      <td>2015-12-30</td>\n",
              "      <td>49344</td>\n",
              "      <td>Low</td>\n",
              "      <td>1</td>\n",
              "      <td>0.83</td>\n",
              "      <td>...</td>\n",
              "      <td>-745.20</td>\n",
              "      <td>South</td>\n",
              "      <td>6916</td>\n",
              "      <td>803.33</td>\n",
              "      <td>2015-12-30</td>\n",
              "      <td>Regular Air</td>\n",
              "      <td>24.49</td>\n",
              "      <td>Kentucky</td>\n",
              "      <td>832.81</td>\n",
              "      <td>40356</td>\n",
              "    </tr>\n",
              "    <tr>\n",
              "      <th>8398</th>\n",
              "      <td>Nicholasville</td>\n",
              "      <td>Maribeth Yedwab</td>\n",
              "      <td>Home Office</td>\n",
              "      <td>0.00</td>\n",
              "      <td>1</td>\n",
              "      <td>2015-12-30</td>\n",
              "      <td>49344</td>\n",
              "      <td>Low</td>\n",
              "      <td>31</td>\n",
              "      <td>0.68</td>\n",
              "      <td>...</td>\n",
              "      <td>27.85</td>\n",
              "      <td>South</td>\n",
              "      <td>6915</td>\n",
              "      <td>672.93</td>\n",
              "      <td>2015-12-30</td>\n",
              "      <td>Regular Air</td>\n",
              "      <td>4.00</td>\n",
              "      <td>Kentucky</td>\n",
              "      <td>19.98</td>\n",
              "      <td>40356</td>\n",
              "    </tr>\n",
              "  </tbody>\n",
              "</table>\n",
              "<p>5 rows × 24 columns</p>\n",
              "</div>\n",
              "      <button class=\"colab-df-convert\" onclick=\"convertToInteractive('df-ee399d4f-691c-4d7e-8f4d-95a08ab70336')\"\n",
              "              title=\"Convert this dataframe to an interactive table.\"\n",
              "              style=\"display:none;\">\n",
              "        \n",
              "  <svg xmlns=\"http://www.w3.org/2000/svg\" height=\"24px\"viewBox=\"0 0 24 24\"\n",
              "       width=\"24px\">\n",
              "    <path d=\"M0 0h24v24H0V0z\" fill=\"none\"/>\n",
              "    <path d=\"M18.56 5.44l.94 2.06.94-2.06 2.06-.94-2.06-.94-.94-2.06-.94 2.06-2.06.94zm-11 1L8.5 8.5l.94-2.06 2.06-.94-2.06-.94L8.5 2.5l-.94 2.06-2.06.94zm10 10l.94 2.06.94-2.06 2.06-.94-2.06-.94-.94-2.06-.94 2.06-2.06.94z\"/><path d=\"M17.41 7.96l-1.37-1.37c-.4-.4-.92-.59-1.43-.59-.52 0-1.04.2-1.43.59L10.3 9.45l-7.72 7.72c-.78.78-.78 2.05 0 2.83L4 21.41c.39.39.9.59 1.41.59.51 0 1.02-.2 1.41-.59l7.78-7.78 2.81-2.81c.8-.78.8-2.07 0-2.86zM5.41 20L4 18.59l7.72-7.72 1.47 1.35L5.41 20z\"/>\n",
              "  </svg>\n",
              "      </button>\n",
              "      \n",
              "  <style>\n",
              "    .colab-df-container {\n",
              "      display:flex;\n",
              "      flex-wrap:wrap;\n",
              "      gap: 12px;\n",
              "    }\n",
              "\n",
              "    .colab-df-convert {\n",
              "      background-color: #E8F0FE;\n",
              "      border: none;\n",
              "      border-radius: 50%;\n",
              "      cursor: pointer;\n",
              "      display: none;\n",
              "      fill: #1967D2;\n",
              "      height: 32px;\n",
              "      padding: 0 0 0 0;\n",
              "      width: 32px;\n",
              "    }\n",
              "\n",
              "    .colab-df-convert:hover {\n",
              "      background-color: #E2EBFA;\n",
              "      box-shadow: 0px 1px 2px rgba(60, 64, 67, 0.3), 0px 1px 3px 1px rgba(60, 64, 67, 0.15);\n",
              "      fill: #174EA6;\n",
              "    }\n",
              "\n",
              "    [theme=dark] .colab-df-convert {\n",
              "      background-color: #3B4455;\n",
              "      fill: #D2E3FC;\n",
              "    }\n",
              "\n",
              "    [theme=dark] .colab-df-convert:hover {\n",
              "      background-color: #434B5C;\n",
              "      box-shadow: 0px 1px 3px 1px rgba(0, 0, 0, 0.15);\n",
              "      filter: drop-shadow(0px 1px 2px rgba(0, 0, 0, 0.3));\n",
              "      fill: #FFFFFF;\n",
              "    }\n",
              "  </style>\n",
              "\n",
              "      <script>\n",
              "        const buttonEl =\n",
              "          document.querySelector('#df-ee399d4f-691c-4d7e-8f4d-95a08ab70336 button.colab-df-convert');\n",
              "        buttonEl.style.display =\n",
              "          google.colab.kernel.accessAllowed ? 'block' : 'none';\n",
              "\n",
              "        async function convertToInteractive(key) {\n",
              "          const element = document.querySelector('#df-ee399d4f-691c-4d7e-8f4d-95a08ab70336');\n",
              "          const dataTable =\n",
              "            await google.colab.kernel.invokeFunction('convertToInteractive',\n",
              "                                                     [key], {});\n",
              "          if (!dataTable) return;\n",
              "\n",
              "          const docLinkHtml = 'Like what you see? Visit the ' +\n",
              "            '<a target=\"_blank\" href=https://colab.research.google.com/notebooks/data_table.ipynb>data table notebook</a>'\n",
              "            + ' to learn more about interactive tables.';\n",
              "          element.innerHTML = '';\n",
              "          dataTable['output_type'] = 'display_data';\n",
              "          await google.colab.output.renderOutput(dataTable, element);\n",
              "          const docLink = document.createElement('div');\n",
              "          docLink.innerHTML = docLinkHtml;\n",
              "          element.appendChild(docLink);\n",
              "        }\n",
              "      </script>\n",
              "    </div>\n",
              "  </div>\n",
              "  "
            ]
          },
          "metadata": {},
          "execution_count": 224
        }
      ]
    },
    {
      "cell_type": "code",
      "source": [
        "len(pd.unique(data['order_id']))"
      ],
      "metadata": {
        "colab": {
          "base_uri": "https://localhost:8080/"
        },
        "id": "hZCesasBOopl",
        "outputId": "d0c546d0-622f-4499-eb43-269e3d803fca"
      },
      "execution_count": 225,
      "outputs": [
        {
          "output_type": "execute_result",
          "data": {
            "text/plain": [
              "5496"
            ]
          },
          "metadata": {},
          "execution_count": 225
        }
      ]
    },
    {
      "cell_type": "code",
      "source": [
        "len(data['order_id'])"
      ],
      "metadata": {
        "colab": {
          "base_uri": "https://localhost:8080/"
        },
        "id": "UsbN2yJfPGX1",
        "outputId": "1218b410-1b1f-4373-c371-37d7d02dc49b"
      },
      "execution_count": 226,
      "outputs": [
        {
          "output_type": "execute_result",
          "data": {
            "text/plain": [
              "8399"
            ]
          },
          "metadata": {},
          "execution_count": 226
        }
      ]
    },
    {
      "cell_type": "code",
      "source": [
        "len(pd.unique(data['row_id']))"
      ],
      "metadata": {
        "colab": {
          "base_uri": "https://localhost:8080/"
        },
        "id": "Y5ZsCMG4P3a_",
        "outputId": "fb8f7739-8c77-4e18-8bbe-6ddfcffa5cb5"
      },
      "execution_count": 227,
      "outputs": [
        {
          "output_type": "execute_result",
          "data": {
            "text/plain": [
              "8399"
            ]
          },
          "metadata": {},
          "execution_count": 227
        }
      ]
    },
    {
      "cell_type": "code",
      "source": [
        "len(data['row_id'])"
      ],
      "metadata": {
        "colab": {
          "base_uri": "https://localhost:8080/"
        },
        "id": "81qMnZOSP7Xo",
        "outputId": "3e3260e9-6a71-42b7-c92f-33d1bdf4c387"
      },
      "execution_count": 228,
      "outputs": [
        {
          "output_type": "execute_result",
          "data": {
            "text/plain": [
              "8399"
            ]
          },
          "metadata": {},
          "execution_count": 228
        }
      ]
    },
    {
      "cell_type": "code",
      "source": [
        "data.isnull().sum()"
      ],
      "metadata": {
        "colab": {
          "base_uri": "https://localhost:8080/"
        },
        "id": "DURsMWoFP-Nx",
        "outputId": "a21775b2-7019-4a9b-afe5-64efb2b29267"
      },
      "execution_count": 229,
      "outputs": [
        {
          "output_type": "execute_result",
          "data": {
            "text/plain": [
              "city                     0\n",
              "customer_name            0\n",
              "customer_segment         0\n",
              "discount                 0\n",
              "number_of_records        0\n",
              "order_date               0\n",
              "order_id                 0\n",
              "order_priority           0\n",
              "order_quantity           0\n",
              "product_base_margin     63\n",
              "product_category         0\n",
              "product_container        0\n",
              "product_name             0\n",
              "product_sub_category     0\n",
              "profit                   0\n",
              "region                   0\n",
              "row_id                   0\n",
              "sales                    0\n",
              "ship_date                0\n",
              "ship_mode                0\n",
              "shipping_cost            0\n",
              "state                    0\n",
              "unit_price               0\n",
              "zip_code                 0\n",
              "dtype: int64"
            ]
          },
          "metadata": {},
          "execution_count": 229
        }
      ]
    },
    {
      "cell_type": "code",
      "source": [
        "data.describe()"
      ],
      "metadata": {
        "colab": {
          "base_uri": "https://localhost:8080/",
          "height": 364
        },
        "id": "etWtLBBXQA95",
        "outputId": "3c3dab28-752f-492c-d0a8-194d58431533"
      },
      "execution_count": 230,
      "outputs": [
        {
          "output_type": "execute_result",
          "data": {
            "text/plain": [
              "          discount  number_of_records      order_id  order_quantity  \\\n",
              "count  8399.000000             8399.0   8399.000000     8399.000000   \n",
              "mean      0.049671                1.0  29965.179783       25.571735   \n",
              "std       0.031823                0.0  17260.883447       14.481071   \n",
              "min       0.000000                1.0      3.000000        1.000000   \n",
              "25%       0.020000                1.0  15011.500000       13.000000   \n",
              "50%       0.050000                1.0  29857.000000       26.000000   \n",
              "75%       0.080000                1.0  44596.000000       38.000000   \n",
              "max       0.250000                1.0  59973.000000       50.000000   \n",
              "\n",
              "       product_base_margin        profit       row_id         sales  \\\n",
              "count          8336.000000   8399.000000  8399.000000   8399.000000   \n",
              "mean              0.512513    181.184422  4200.000000   1775.878179   \n",
              "std               0.135589   1196.653326  2424.726789   3585.050525   \n",
              "min               0.350000 -14140.701600     1.000000      2.240000   \n",
              "25%               0.380000    -83.315000  2100.500000    143.195000   \n",
              "50%               0.520000     -1.500000  4200.000000    449.420000   \n",
              "75%               0.590000    162.748000  6299.500000   1709.320000   \n",
              "max               0.850000  27220.690000  8399.000000  89061.050000   \n",
              "\n",
              "       shipping_cost   unit_price      zip_code  \n",
              "count    8399.000000  8399.000000   8399.000000  \n",
              "mean       12.838557    89.346259  52839.139421  \n",
              "std        17.264052   290.354383  28509.535635  \n",
              "min         0.490000     0.990000   1001.000000  \n",
              "25%         3.300000     6.480000  30337.000000  \n",
              "50%         6.070000    20.990000  52732.000000  \n",
              "75%        13.990000    85.990000  77577.000000  \n",
              "max       164.730000  6783.020000  99362.000000  "
            ],
            "text/html": [
              "\n",
              "  <div id=\"df-b554a426-065c-4e19-8205-5d094623ccac\">\n",
              "    <div class=\"colab-df-container\">\n",
              "      <div>\n",
              "<style scoped>\n",
              "    .dataframe tbody tr th:only-of-type {\n",
              "        vertical-align: middle;\n",
              "    }\n",
              "\n",
              "    .dataframe tbody tr th {\n",
              "        vertical-align: top;\n",
              "    }\n",
              "\n",
              "    .dataframe thead th {\n",
              "        text-align: right;\n",
              "    }\n",
              "</style>\n",
              "<table border=\"1\" class=\"dataframe\">\n",
              "  <thead>\n",
              "    <tr style=\"text-align: right;\">\n",
              "      <th></th>\n",
              "      <th>discount</th>\n",
              "      <th>number_of_records</th>\n",
              "      <th>order_id</th>\n",
              "      <th>order_quantity</th>\n",
              "      <th>product_base_margin</th>\n",
              "      <th>profit</th>\n",
              "      <th>row_id</th>\n",
              "      <th>sales</th>\n",
              "      <th>shipping_cost</th>\n",
              "      <th>unit_price</th>\n",
              "      <th>zip_code</th>\n",
              "    </tr>\n",
              "  </thead>\n",
              "  <tbody>\n",
              "    <tr>\n",
              "      <th>count</th>\n",
              "      <td>8399.000000</td>\n",
              "      <td>8399.0</td>\n",
              "      <td>8399.000000</td>\n",
              "      <td>8399.000000</td>\n",
              "      <td>8336.000000</td>\n",
              "      <td>8399.000000</td>\n",
              "      <td>8399.000000</td>\n",
              "      <td>8399.000000</td>\n",
              "      <td>8399.000000</td>\n",
              "      <td>8399.000000</td>\n",
              "      <td>8399.000000</td>\n",
              "    </tr>\n",
              "    <tr>\n",
              "      <th>mean</th>\n",
              "      <td>0.049671</td>\n",
              "      <td>1.0</td>\n",
              "      <td>29965.179783</td>\n",
              "      <td>25.571735</td>\n",
              "      <td>0.512513</td>\n",
              "      <td>181.184422</td>\n",
              "      <td>4200.000000</td>\n",
              "      <td>1775.878179</td>\n",
              "      <td>12.838557</td>\n",
              "      <td>89.346259</td>\n",
              "      <td>52839.139421</td>\n",
              "    </tr>\n",
              "    <tr>\n",
              "      <th>std</th>\n",
              "      <td>0.031823</td>\n",
              "      <td>0.0</td>\n",
              "      <td>17260.883447</td>\n",
              "      <td>14.481071</td>\n",
              "      <td>0.135589</td>\n",
              "      <td>1196.653326</td>\n",
              "      <td>2424.726789</td>\n",
              "      <td>3585.050525</td>\n",
              "      <td>17.264052</td>\n",
              "      <td>290.354383</td>\n",
              "      <td>28509.535635</td>\n",
              "    </tr>\n",
              "    <tr>\n",
              "      <th>min</th>\n",
              "      <td>0.000000</td>\n",
              "      <td>1.0</td>\n",
              "      <td>3.000000</td>\n",
              "      <td>1.000000</td>\n",
              "      <td>0.350000</td>\n",
              "      <td>-14140.701600</td>\n",
              "      <td>1.000000</td>\n",
              "      <td>2.240000</td>\n",
              "      <td>0.490000</td>\n",
              "      <td>0.990000</td>\n",
              "      <td>1001.000000</td>\n",
              "    </tr>\n",
              "    <tr>\n",
              "      <th>25%</th>\n",
              "      <td>0.020000</td>\n",
              "      <td>1.0</td>\n",
              "      <td>15011.500000</td>\n",
              "      <td>13.000000</td>\n",
              "      <td>0.380000</td>\n",
              "      <td>-83.315000</td>\n",
              "      <td>2100.500000</td>\n",
              "      <td>143.195000</td>\n",
              "      <td>3.300000</td>\n",
              "      <td>6.480000</td>\n",
              "      <td>30337.000000</td>\n",
              "    </tr>\n",
              "    <tr>\n",
              "      <th>50%</th>\n",
              "      <td>0.050000</td>\n",
              "      <td>1.0</td>\n",
              "      <td>29857.000000</td>\n",
              "      <td>26.000000</td>\n",
              "      <td>0.520000</td>\n",
              "      <td>-1.500000</td>\n",
              "      <td>4200.000000</td>\n",
              "      <td>449.420000</td>\n",
              "      <td>6.070000</td>\n",
              "      <td>20.990000</td>\n",
              "      <td>52732.000000</td>\n",
              "    </tr>\n",
              "    <tr>\n",
              "      <th>75%</th>\n",
              "      <td>0.080000</td>\n",
              "      <td>1.0</td>\n",
              "      <td>44596.000000</td>\n",
              "      <td>38.000000</td>\n",
              "      <td>0.590000</td>\n",
              "      <td>162.748000</td>\n",
              "      <td>6299.500000</td>\n",
              "      <td>1709.320000</td>\n",
              "      <td>13.990000</td>\n",
              "      <td>85.990000</td>\n",
              "      <td>77577.000000</td>\n",
              "    </tr>\n",
              "    <tr>\n",
              "      <th>max</th>\n",
              "      <td>0.250000</td>\n",
              "      <td>1.0</td>\n",
              "      <td>59973.000000</td>\n",
              "      <td>50.000000</td>\n",
              "      <td>0.850000</td>\n",
              "      <td>27220.690000</td>\n",
              "      <td>8399.000000</td>\n",
              "      <td>89061.050000</td>\n",
              "      <td>164.730000</td>\n",
              "      <td>6783.020000</td>\n",
              "      <td>99362.000000</td>\n",
              "    </tr>\n",
              "  </tbody>\n",
              "</table>\n",
              "</div>\n",
              "      <button class=\"colab-df-convert\" onclick=\"convertToInteractive('df-b554a426-065c-4e19-8205-5d094623ccac')\"\n",
              "              title=\"Convert this dataframe to an interactive table.\"\n",
              "              style=\"display:none;\">\n",
              "        \n",
              "  <svg xmlns=\"http://www.w3.org/2000/svg\" height=\"24px\"viewBox=\"0 0 24 24\"\n",
              "       width=\"24px\">\n",
              "    <path d=\"M0 0h24v24H0V0z\" fill=\"none\"/>\n",
              "    <path d=\"M18.56 5.44l.94 2.06.94-2.06 2.06-.94-2.06-.94-.94-2.06-.94 2.06-2.06.94zm-11 1L8.5 8.5l.94-2.06 2.06-.94-2.06-.94L8.5 2.5l-.94 2.06-2.06.94zm10 10l.94 2.06.94-2.06 2.06-.94-2.06-.94-.94-2.06-.94 2.06-2.06.94z\"/><path d=\"M17.41 7.96l-1.37-1.37c-.4-.4-.92-.59-1.43-.59-.52 0-1.04.2-1.43.59L10.3 9.45l-7.72 7.72c-.78.78-.78 2.05 0 2.83L4 21.41c.39.39.9.59 1.41.59.51 0 1.02-.2 1.41-.59l7.78-7.78 2.81-2.81c.8-.78.8-2.07 0-2.86zM5.41 20L4 18.59l7.72-7.72 1.47 1.35L5.41 20z\"/>\n",
              "  </svg>\n",
              "      </button>\n",
              "      \n",
              "  <style>\n",
              "    .colab-df-container {\n",
              "      display:flex;\n",
              "      flex-wrap:wrap;\n",
              "      gap: 12px;\n",
              "    }\n",
              "\n",
              "    .colab-df-convert {\n",
              "      background-color: #E8F0FE;\n",
              "      border: none;\n",
              "      border-radius: 50%;\n",
              "      cursor: pointer;\n",
              "      display: none;\n",
              "      fill: #1967D2;\n",
              "      height: 32px;\n",
              "      padding: 0 0 0 0;\n",
              "      width: 32px;\n",
              "    }\n",
              "\n",
              "    .colab-df-convert:hover {\n",
              "      background-color: #E2EBFA;\n",
              "      box-shadow: 0px 1px 2px rgba(60, 64, 67, 0.3), 0px 1px 3px 1px rgba(60, 64, 67, 0.15);\n",
              "      fill: #174EA6;\n",
              "    }\n",
              "\n",
              "    [theme=dark] .colab-df-convert {\n",
              "      background-color: #3B4455;\n",
              "      fill: #D2E3FC;\n",
              "    }\n",
              "\n",
              "    [theme=dark] .colab-df-convert:hover {\n",
              "      background-color: #434B5C;\n",
              "      box-shadow: 0px 1px 3px 1px rgba(0, 0, 0, 0.15);\n",
              "      filter: drop-shadow(0px 1px 2px rgba(0, 0, 0, 0.3));\n",
              "      fill: #FFFFFF;\n",
              "    }\n",
              "  </style>\n",
              "\n",
              "      <script>\n",
              "        const buttonEl =\n",
              "          document.querySelector('#df-b554a426-065c-4e19-8205-5d094623ccac button.colab-df-convert');\n",
              "        buttonEl.style.display =\n",
              "          google.colab.kernel.accessAllowed ? 'block' : 'none';\n",
              "\n",
              "        async function convertToInteractive(key) {\n",
              "          const element = document.querySelector('#df-b554a426-065c-4e19-8205-5d094623ccac');\n",
              "          const dataTable =\n",
              "            await google.colab.kernel.invokeFunction('convertToInteractive',\n",
              "                                                     [key], {});\n",
              "          if (!dataTable) return;\n",
              "\n",
              "          const docLinkHtml = 'Like what you see? Visit the ' +\n",
              "            '<a target=\"_blank\" href=https://colab.research.google.com/notebooks/data_table.ipynb>data table notebook</a>'\n",
              "            + ' to learn more about interactive tables.';\n",
              "          element.innerHTML = '';\n",
              "          dataTable['output_type'] = 'display_data';\n",
              "          await google.colab.output.renderOutput(dataTable, element);\n",
              "          const docLink = document.createElement('div');\n",
              "          docLink.innerHTML = docLinkHtml;\n",
              "          element.appendChild(docLink);\n",
              "        }\n",
              "      </script>\n",
              "    </div>\n",
              "  </div>\n",
              "  "
            ]
          },
          "metadata": {},
          "execution_count": 230
        }
      ]
    },
    {
      "cell_type": "code",
      "source": [],
      "metadata": {
        "id": "M55mgqXKvJ5G"
      },
      "execution_count": 230,
      "outputs": []
    },
    {
      "cell_type": "markdown",
      "source": [
        "**Unique customer ID**"
      ],
      "metadata": {
        "id": "QSCstuPLvKf_"
      }
    },
    {
      "cell_type": "markdown",
      "source": [
        "I created a unique customer id for each customer based on zip code and customer name so that thetwo same name person can have different ids to make analysis easy"
      ],
      "metadata": {
        "id": "5mfcA5HuatN4"
      }
    },
    {
      "cell_type": "code",
      "source": [
        "data['zip_code'] = data['zip_code'].apply(str)"
      ],
      "metadata": {
        "id": "_-NobtaWCa-L"
      },
      "execution_count": 231,
      "outputs": []
    },
    {
      "cell_type": "code",
      "source": [
        "data['zip_code'].dtype"
      ],
      "metadata": {
        "colab": {
          "base_uri": "https://localhost:8080/"
        },
        "id": "TAmvkz8HChuq",
        "outputId": "272f751b-c1e3-401f-e399-412eae5b76d4"
      },
      "execution_count": 232,
      "outputs": [
        {
          "output_type": "execute_result",
          "data": {
            "text/plain": [
              "dtype('O')"
            ]
          },
          "metadata": {},
          "execution_count": 232
        }
      ]
    },
    {
      "cell_type": "code",
      "source": [
        "unique = data[['zip_code', 'customer_name',]].agg(' '.join, 1).unique().tolist()"
      ],
      "metadata": {
        "id": "2nooB0g-YZES"
      },
      "execution_count": 233,
      "outputs": []
    },
    {
      "cell_type": "code",
      "source": [
        "ids = np.random.randint(low=1e9, high=1e10, size = len(unique))"
      ],
      "metadata": {
        "id": "zM7qXUqwbhCB"
      },
      "execution_count": 234,
      "outputs": []
    },
    {
      "cell_type": "code",
      "source": [
        "maps = {k:v for k,v in zip(unique, ids)}"
      ],
      "metadata": {
        "id": "5XwrKYscbhqc"
      },
      "execution_count": 235,
      "outputs": []
    },
    {
      "cell_type": "code",
      "source": [
        "data['id'] = data[['zip_code', 'customer_name']].agg(' '.join, 1).map(maps)"
      ],
      "metadata": {
        "id": "zUB9hmEPb7lo"
      },
      "execution_count": 236,
      "outputs": []
    },
    {
      "cell_type": "markdown",
      "source": [
        "# CHECKING TIME PERIOD"
      ],
      "metadata": {
        "id": "gHruOIDObONm"
      }
    },
    {
      "cell_type": "code",
      "source": [
        "print('Min date: %s\\nMax date: %s' % (data['ship_date'].min(), data['ship_date'].max()))"
      ],
      "metadata": {
        "colab": {
          "base_uri": "https://localhost:8080/"
        },
        "id": "OUPVYfDfVC--",
        "outputId": "4895ed8d-4dc4-4fec-dd22-565074c14e6f"
      },
      "execution_count": 237,
      "outputs": [
        {
          "output_type": "stream",
          "name": "stdout",
          "text": [
            "Min date: 2012-01-02\n",
            "Max date: 2015-12-30\n"
          ]
        }
      ]
    },
    {
      "cell_type": "code",
      "source": [
        "\n",
        "print('Min date: %s\\nMax date: %s' % (data['order_date'].min(), data['order_date'].max()))"
      ],
      "metadata": {
        "colab": {
          "base_uri": "https://localhost:8080/"
        },
        "id": "2i2zS2tuV4dI",
        "outputId": "6427b4ee-aff4-427d-c515-c3d11772be92"
      },
      "execution_count": 238,
      "outputs": [
        {
          "output_type": "stream",
          "name": "stdout",
          "text": [
            "Min date: 2012-01-01\n",
            "Max date: 2015-12-30\n"
          ]
        }
      ]
    },
    {
      "cell_type": "code",
      "source": [
        "data['order_date'] = pd.to_datetime(data['order_date'])"
      ],
      "metadata": {
        "id": "ji_z3PeeV83B"
      },
      "execution_count": 239,
      "outputs": []
    },
    {
      "cell_type": "code",
      "source": [
        "data['ship_date'] = pd.to_datetime(data['ship_date'])"
      ],
      "metadata": {
        "id": "fAaoGtKOWfsD"
      },
      "execution_count": 240,
      "outputs": []
    },
    {
      "cell_type": "code",
      "source": [
        "print('Min date: %s\\nMax date: %s' % (data['order_date'].min(), data['order_date'].max()))"
      ],
      "metadata": {
        "colab": {
          "base_uri": "https://localhost:8080/"
        },
        "id": "Qy8R-q4BX1sa",
        "outputId": "275244db-7ef5-42e7-b8b7-f2265737913d"
      },
      "execution_count": 241,
      "outputs": [
        {
          "output_type": "stream",
          "name": "stdout",
          "text": [
            "Min date: 2012-01-01 00:00:00\n",
            "Max date: 2015-12-30 00:00:00\n"
          ]
        }
      ]
    },
    {
      "cell_type": "markdown",
      "source": [
        "GROUPING DATA BY YEAR"
      ],
      "metadata": {
        "id": "lsOCVi5wbUWg"
      }
    },
    {
      "cell_type": "code",
      "source": [
        "data.set_index('order_date')['id'].resample('Y').nunique()"
      ],
      "metadata": {
        "colab": {
          "base_uri": "https://localhost:8080/"
        },
        "id": "ChwbDK_T6TG1",
        "outputId": "2db3dec3-9bfa-4cb0-d4ec-1ab4fd6edff5"
      },
      "execution_count": 242,
      "outputs": [
        {
          "output_type": "execute_result",
          "data": {
            "text/plain": [
              "order_date\n",
              "2012-12-31    1193\n",
              "2013-12-31    1218\n",
              "2014-12-31    1155\n",
              "2015-12-31    1205\n",
              "Freq: A-DEC, Name: id, dtype: int64"
            ]
          },
          "metadata": {},
          "execution_count": 242
        }
      ]
    },
    {
      "cell_type": "code",
      "source": [
        "data2= data.set_index('order_date')['id'].resample('Y').nunique()"
      ],
      "metadata": {
        "id": "fLR3q0YcX3zF"
      },
      "execution_count": 243,
      "outputs": []
    },
    {
      "cell_type": "code",
      "source": [
        "data2"
      ],
      "metadata": {
        "colab": {
          "base_uri": "https://localhost:8080/"
        },
        "id": "RloRqPcdYAsc",
        "outputId": "5efc528b-5f5b-4dec-cee7-c94959ab7baf"
      },
      "execution_count": 244,
      "outputs": [
        {
          "output_type": "execute_result",
          "data": {
            "text/plain": [
              "order_date\n",
              "2012-12-31    1193\n",
              "2013-12-31    1218\n",
              "2014-12-31    1155\n",
              "2015-12-31    1205\n",
              "Freq: A-DEC, Name: id, dtype: int64"
            ]
          },
          "metadata": {},
          "execution_count": 244
        }
      ]
    },
    {
      "cell_type": "code",
      "source": [
        "data.head()"
      ],
      "metadata": {
        "colab": {
          "base_uri": "https://localhost:8080/",
          "height": 386
        },
        "id": "1XNRYhVPcN4h",
        "outputId": "5e12a8f3-d7c8-43b6-efc3-5341f2dc47ff"
      },
      "execution_count": 245,
      "outputs": [
        {
          "output_type": "execute_result",
          "data": {
            "text/plain": [
              "         city      customer_name customer_segment  discount  \\\n",
              "0  McKeesport     Jessica Myrick   Small Business      0.10   \n",
              "1       Bowie     Matt Collister      Home Office      0.08   \n",
              "2        Napa  Alan Schoenberger        Corporate      0.00   \n",
              "3  Montebello  Elizabeth Moffitt         Consumer      0.08   \n",
              "4        Napa  Alan Schoenberger        Corporate      0.07   \n",
              "\n",
              "   number_of_records order_date  order_id order_priority  order_quantity  \\\n",
              "0                  1 2012-01-01     28774           High              32   \n",
              "1                  1 2012-01-01     13729  Not Specified               9   \n",
              "2                  1 2012-01-02     37537            Low               4   \n",
              "3                  1 2012-01-02     44069       Critical              43   \n",
              "4                  1 2012-01-02     37537            Low              43   \n",
              "\n",
              "   product_base_margin  ... region row_id    sales  ship_date       ship_mode  \\\n",
              "0                 0.68  ...   East   4031   180.36 2012-01-02     Regular Air   \n",
              "1                  NaN  ...   East   1914   872.48 2012-01-03     Express Air   \n",
              "2                 0.56  ...   West   5272  1239.06 2012-01-02  Delivery Truck   \n",
              "3                 0.39  ...   West   6225   614.80 2012-01-02     Regular Air   \n",
              "4                 0.69  ...   West   5273  4083.19 2012-01-04  Delivery Truck   \n",
              "\n",
              "  shipping_cost         state  unit_price zip_code          id  \n",
              "0          4.69  Pennsylvania        5.98    15131  3325312404  \n",
              "1         35.00      Maryland       95.99    20715  7920705914  \n",
              "2         48.80    California      291.73    94559  3789229188  \n",
              "3          1.97    California       15.04    90640  2596322363  \n",
              "4         45.00    California      100.98    94559  3789229188  \n",
              "\n",
              "[5 rows x 25 columns]"
            ],
            "text/html": [
              "\n",
              "  <div id=\"df-cc4b3a96-3f85-4c56-a735-adb07a9c4b28\">\n",
              "    <div class=\"colab-df-container\">\n",
              "      <div>\n",
              "<style scoped>\n",
              "    .dataframe tbody tr th:only-of-type {\n",
              "        vertical-align: middle;\n",
              "    }\n",
              "\n",
              "    .dataframe tbody tr th {\n",
              "        vertical-align: top;\n",
              "    }\n",
              "\n",
              "    .dataframe thead th {\n",
              "        text-align: right;\n",
              "    }\n",
              "</style>\n",
              "<table border=\"1\" class=\"dataframe\">\n",
              "  <thead>\n",
              "    <tr style=\"text-align: right;\">\n",
              "      <th></th>\n",
              "      <th>city</th>\n",
              "      <th>customer_name</th>\n",
              "      <th>customer_segment</th>\n",
              "      <th>discount</th>\n",
              "      <th>number_of_records</th>\n",
              "      <th>order_date</th>\n",
              "      <th>order_id</th>\n",
              "      <th>order_priority</th>\n",
              "      <th>order_quantity</th>\n",
              "      <th>product_base_margin</th>\n",
              "      <th>...</th>\n",
              "      <th>region</th>\n",
              "      <th>row_id</th>\n",
              "      <th>sales</th>\n",
              "      <th>ship_date</th>\n",
              "      <th>ship_mode</th>\n",
              "      <th>shipping_cost</th>\n",
              "      <th>state</th>\n",
              "      <th>unit_price</th>\n",
              "      <th>zip_code</th>\n",
              "      <th>id</th>\n",
              "    </tr>\n",
              "  </thead>\n",
              "  <tbody>\n",
              "    <tr>\n",
              "      <th>0</th>\n",
              "      <td>McKeesport</td>\n",
              "      <td>Jessica Myrick</td>\n",
              "      <td>Small Business</td>\n",
              "      <td>0.10</td>\n",
              "      <td>1</td>\n",
              "      <td>2012-01-01</td>\n",
              "      <td>28774</td>\n",
              "      <td>High</td>\n",
              "      <td>32</td>\n",
              "      <td>0.68</td>\n",
              "      <td>...</td>\n",
              "      <td>East</td>\n",
              "      <td>4031</td>\n",
              "      <td>180.36</td>\n",
              "      <td>2012-01-02</td>\n",
              "      <td>Regular Air</td>\n",
              "      <td>4.69</td>\n",
              "      <td>Pennsylvania</td>\n",
              "      <td>5.98</td>\n",
              "      <td>15131</td>\n",
              "      <td>3325312404</td>\n",
              "    </tr>\n",
              "    <tr>\n",
              "      <th>1</th>\n",
              "      <td>Bowie</td>\n",
              "      <td>Matt Collister</td>\n",
              "      <td>Home Office</td>\n",
              "      <td>0.08</td>\n",
              "      <td>1</td>\n",
              "      <td>2012-01-01</td>\n",
              "      <td>13729</td>\n",
              "      <td>Not Specified</td>\n",
              "      <td>9</td>\n",
              "      <td>NaN</td>\n",
              "      <td>...</td>\n",
              "      <td>East</td>\n",
              "      <td>1914</td>\n",
              "      <td>872.48</td>\n",
              "      <td>2012-01-03</td>\n",
              "      <td>Express Air</td>\n",
              "      <td>35.00</td>\n",
              "      <td>Maryland</td>\n",
              "      <td>95.99</td>\n",
              "      <td>20715</td>\n",
              "      <td>7920705914</td>\n",
              "    </tr>\n",
              "    <tr>\n",
              "      <th>2</th>\n",
              "      <td>Napa</td>\n",
              "      <td>Alan Schoenberger</td>\n",
              "      <td>Corporate</td>\n",
              "      <td>0.00</td>\n",
              "      <td>1</td>\n",
              "      <td>2012-01-02</td>\n",
              "      <td>37537</td>\n",
              "      <td>Low</td>\n",
              "      <td>4</td>\n",
              "      <td>0.56</td>\n",
              "      <td>...</td>\n",
              "      <td>West</td>\n",
              "      <td>5272</td>\n",
              "      <td>1239.06</td>\n",
              "      <td>2012-01-02</td>\n",
              "      <td>Delivery Truck</td>\n",
              "      <td>48.80</td>\n",
              "      <td>California</td>\n",
              "      <td>291.73</td>\n",
              "      <td>94559</td>\n",
              "      <td>3789229188</td>\n",
              "    </tr>\n",
              "    <tr>\n",
              "      <th>3</th>\n",
              "      <td>Montebello</td>\n",
              "      <td>Elizabeth Moffitt</td>\n",
              "      <td>Consumer</td>\n",
              "      <td>0.08</td>\n",
              "      <td>1</td>\n",
              "      <td>2012-01-02</td>\n",
              "      <td>44069</td>\n",
              "      <td>Critical</td>\n",
              "      <td>43</td>\n",
              "      <td>0.39</td>\n",
              "      <td>...</td>\n",
              "      <td>West</td>\n",
              "      <td>6225</td>\n",
              "      <td>614.80</td>\n",
              "      <td>2012-01-02</td>\n",
              "      <td>Regular Air</td>\n",
              "      <td>1.97</td>\n",
              "      <td>California</td>\n",
              "      <td>15.04</td>\n",
              "      <td>90640</td>\n",
              "      <td>2596322363</td>\n",
              "    </tr>\n",
              "    <tr>\n",
              "      <th>4</th>\n",
              "      <td>Napa</td>\n",
              "      <td>Alan Schoenberger</td>\n",
              "      <td>Corporate</td>\n",
              "      <td>0.07</td>\n",
              "      <td>1</td>\n",
              "      <td>2012-01-02</td>\n",
              "      <td>37537</td>\n",
              "      <td>Low</td>\n",
              "      <td>43</td>\n",
              "      <td>0.69</td>\n",
              "      <td>...</td>\n",
              "      <td>West</td>\n",
              "      <td>5273</td>\n",
              "      <td>4083.19</td>\n",
              "      <td>2012-01-04</td>\n",
              "      <td>Delivery Truck</td>\n",
              "      <td>45.00</td>\n",
              "      <td>California</td>\n",
              "      <td>100.98</td>\n",
              "      <td>94559</td>\n",
              "      <td>3789229188</td>\n",
              "    </tr>\n",
              "  </tbody>\n",
              "</table>\n",
              "<p>5 rows × 25 columns</p>\n",
              "</div>\n",
              "      <button class=\"colab-df-convert\" onclick=\"convertToInteractive('df-cc4b3a96-3f85-4c56-a735-adb07a9c4b28')\"\n",
              "              title=\"Convert this dataframe to an interactive table.\"\n",
              "              style=\"display:none;\">\n",
              "        \n",
              "  <svg xmlns=\"http://www.w3.org/2000/svg\" height=\"24px\"viewBox=\"0 0 24 24\"\n",
              "       width=\"24px\">\n",
              "    <path d=\"M0 0h24v24H0V0z\" fill=\"none\"/>\n",
              "    <path d=\"M18.56 5.44l.94 2.06.94-2.06 2.06-.94-2.06-.94-.94-2.06-.94 2.06-2.06.94zm-11 1L8.5 8.5l.94-2.06 2.06-.94-2.06-.94L8.5 2.5l-.94 2.06-2.06.94zm10 10l.94 2.06.94-2.06 2.06-.94-2.06-.94-.94-2.06-.94 2.06-2.06.94z\"/><path d=\"M17.41 7.96l-1.37-1.37c-.4-.4-.92-.59-1.43-.59-.52 0-1.04.2-1.43.59L10.3 9.45l-7.72 7.72c-.78.78-.78 2.05 0 2.83L4 21.41c.39.39.9.59 1.41.59.51 0 1.02-.2 1.41-.59l7.78-7.78 2.81-2.81c.8-.78.8-2.07 0-2.86zM5.41 20L4 18.59l7.72-7.72 1.47 1.35L5.41 20z\"/>\n",
              "  </svg>\n",
              "      </button>\n",
              "      \n",
              "  <style>\n",
              "    .colab-df-container {\n",
              "      display:flex;\n",
              "      flex-wrap:wrap;\n",
              "      gap: 12px;\n",
              "    }\n",
              "\n",
              "    .colab-df-convert {\n",
              "      background-color: #E8F0FE;\n",
              "      border: none;\n",
              "      border-radius: 50%;\n",
              "      cursor: pointer;\n",
              "      display: none;\n",
              "      fill: #1967D2;\n",
              "      height: 32px;\n",
              "      padding: 0 0 0 0;\n",
              "      width: 32px;\n",
              "    }\n",
              "\n",
              "    .colab-df-convert:hover {\n",
              "      background-color: #E2EBFA;\n",
              "      box-shadow: 0px 1px 2px rgba(60, 64, 67, 0.3), 0px 1px 3px 1px rgba(60, 64, 67, 0.15);\n",
              "      fill: #174EA6;\n",
              "    }\n",
              "\n",
              "    [theme=dark] .colab-df-convert {\n",
              "      background-color: #3B4455;\n",
              "      fill: #D2E3FC;\n",
              "    }\n",
              "\n",
              "    [theme=dark] .colab-df-convert:hover {\n",
              "      background-color: #434B5C;\n",
              "      box-shadow: 0px 1px 3px 1px rgba(0, 0, 0, 0.15);\n",
              "      filter: drop-shadow(0px 1px 2px rgba(0, 0, 0, 0.3));\n",
              "      fill: #FFFFFF;\n",
              "    }\n",
              "  </style>\n",
              "\n",
              "      <script>\n",
              "        const buttonEl =\n",
              "          document.querySelector('#df-cc4b3a96-3f85-4c56-a735-adb07a9c4b28 button.colab-df-convert');\n",
              "        buttonEl.style.display =\n",
              "          google.colab.kernel.accessAllowed ? 'block' : 'none';\n",
              "\n",
              "        async function convertToInteractive(key) {\n",
              "          const element = document.querySelector('#df-cc4b3a96-3f85-4c56-a735-adb07a9c4b28');\n",
              "          const dataTable =\n",
              "            await google.colab.kernel.invokeFunction('convertToInteractive',\n",
              "                                                     [key], {});\n",
              "          if (!dataTable) return;\n",
              "\n",
              "          const docLinkHtml = 'Like what you see? Visit the ' +\n",
              "            '<a target=\"_blank\" href=https://colab.research.google.com/notebooks/data_table.ipynb>data table notebook</a>'\n",
              "            + ' to learn more about interactive tables.';\n",
              "          element.innerHTML = '';\n",
              "          dataTable['output_type'] = 'display_data';\n",
              "          await google.colab.output.renderOutput(dataTable, element);\n",
              "          const docLink = document.createElement('div');\n",
              "          docLink.innerHTML = docLinkHtml;\n",
              "          element.appendChild(docLink);\n",
              "        }\n",
              "      </script>\n",
              "    </div>\n",
              "  </div>\n",
              "  "
            ]
          },
          "metadata": {},
          "execution_count": 245
        }
      ]
    },
    {
      "cell_type": "markdown",
      "source": [
        "# **RFM**"
      ],
      "metadata": {
        "id": "egKGhSnf19VZ"
      }
    },
    {
      "cell_type": "markdown",
      "source": [
        "## ***SALES***"
      ],
      "metadata": {
        "id": "3ZmcbjzIbe0T"
      }
    },
    {
      "cell_type": "code",
      "source": [
        "df1=data.astype({\"order_quantity\": float})\n",
        "\n",
        "\n",
        "df1.head()"
      ],
      "metadata": {
        "id": "w2NY3S0KckJG",
        "colab": {
          "base_uri": "https://localhost:8080/",
          "height": 386
        },
        "outputId": "68299877-4742-44bb-8e8f-c8ccbcde8dab"
      },
      "execution_count": 246,
      "outputs": [
        {
          "output_type": "execute_result",
          "data": {
            "text/plain": [
              "         city      customer_name customer_segment  discount  \\\n",
              "0  McKeesport     Jessica Myrick   Small Business      0.10   \n",
              "1       Bowie     Matt Collister      Home Office      0.08   \n",
              "2        Napa  Alan Schoenberger        Corporate      0.00   \n",
              "3  Montebello  Elizabeth Moffitt         Consumer      0.08   \n",
              "4        Napa  Alan Schoenberger        Corporate      0.07   \n",
              "\n",
              "   number_of_records order_date  order_id order_priority  order_quantity  \\\n",
              "0                  1 2012-01-01     28774           High            32.0   \n",
              "1                  1 2012-01-01     13729  Not Specified             9.0   \n",
              "2                  1 2012-01-02     37537            Low             4.0   \n",
              "3                  1 2012-01-02     44069       Critical            43.0   \n",
              "4                  1 2012-01-02     37537            Low            43.0   \n",
              "\n",
              "   product_base_margin  ... region row_id    sales  ship_date       ship_mode  \\\n",
              "0                 0.68  ...   East   4031   180.36 2012-01-02     Regular Air   \n",
              "1                  NaN  ...   East   1914   872.48 2012-01-03     Express Air   \n",
              "2                 0.56  ...   West   5272  1239.06 2012-01-02  Delivery Truck   \n",
              "3                 0.39  ...   West   6225   614.80 2012-01-02     Regular Air   \n",
              "4                 0.69  ...   West   5273  4083.19 2012-01-04  Delivery Truck   \n",
              "\n",
              "  shipping_cost         state  unit_price zip_code          id  \n",
              "0          4.69  Pennsylvania        5.98    15131  3325312404  \n",
              "1         35.00      Maryland       95.99    20715  7920705914  \n",
              "2         48.80    California      291.73    94559  3789229188  \n",
              "3          1.97    California       15.04    90640  2596322363  \n",
              "4         45.00    California      100.98    94559  3789229188  \n",
              "\n",
              "[5 rows x 25 columns]"
            ],
            "text/html": [
              "\n",
              "  <div id=\"df-9a4a4096-a207-4aeb-acaf-b3fa778fe767\">\n",
              "    <div class=\"colab-df-container\">\n",
              "      <div>\n",
              "<style scoped>\n",
              "    .dataframe tbody tr th:only-of-type {\n",
              "        vertical-align: middle;\n",
              "    }\n",
              "\n",
              "    .dataframe tbody tr th {\n",
              "        vertical-align: top;\n",
              "    }\n",
              "\n",
              "    .dataframe thead th {\n",
              "        text-align: right;\n",
              "    }\n",
              "</style>\n",
              "<table border=\"1\" class=\"dataframe\">\n",
              "  <thead>\n",
              "    <tr style=\"text-align: right;\">\n",
              "      <th></th>\n",
              "      <th>city</th>\n",
              "      <th>customer_name</th>\n",
              "      <th>customer_segment</th>\n",
              "      <th>discount</th>\n",
              "      <th>number_of_records</th>\n",
              "      <th>order_date</th>\n",
              "      <th>order_id</th>\n",
              "      <th>order_priority</th>\n",
              "      <th>order_quantity</th>\n",
              "      <th>product_base_margin</th>\n",
              "      <th>...</th>\n",
              "      <th>region</th>\n",
              "      <th>row_id</th>\n",
              "      <th>sales</th>\n",
              "      <th>ship_date</th>\n",
              "      <th>ship_mode</th>\n",
              "      <th>shipping_cost</th>\n",
              "      <th>state</th>\n",
              "      <th>unit_price</th>\n",
              "      <th>zip_code</th>\n",
              "      <th>id</th>\n",
              "    </tr>\n",
              "  </thead>\n",
              "  <tbody>\n",
              "    <tr>\n",
              "      <th>0</th>\n",
              "      <td>McKeesport</td>\n",
              "      <td>Jessica Myrick</td>\n",
              "      <td>Small Business</td>\n",
              "      <td>0.10</td>\n",
              "      <td>1</td>\n",
              "      <td>2012-01-01</td>\n",
              "      <td>28774</td>\n",
              "      <td>High</td>\n",
              "      <td>32.0</td>\n",
              "      <td>0.68</td>\n",
              "      <td>...</td>\n",
              "      <td>East</td>\n",
              "      <td>4031</td>\n",
              "      <td>180.36</td>\n",
              "      <td>2012-01-02</td>\n",
              "      <td>Regular Air</td>\n",
              "      <td>4.69</td>\n",
              "      <td>Pennsylvania</td>\n",
              "      <td>5.98</td>\n",
              "      <td>15131</td>\n",
              "      <td>3325312404</td>\n",
              "    </tr>\n",
              "    <tr>\n",
              "      <th>1</th>\n",
              "      <td>Bowie</td>\n",
              "      <td>Matt Collister</td>\n",
              "      <td>Home Office</td>\n",
              "      <td>0.08</td>\n",
              "      <td>1</td>\n",
              "      <td>2012-01-01</td>\n",
              "      <td>13729</td>\n",
              "      <td>Not Specified</td>\n",
              "      <td>9.0</td>\n",
              "      <td>NaN</td>\n",
              "      <td>...</td>\n",
              "      <td>East</td>\n",
              "      <td>1914</td>\n",
              "      <td>872.48</td>\n",
              "      <td>2012-01-03</td>\n",
              "      <td>Express Air</td>\n",
              "      <td>35.00</td>\n",
              "      <td>Maryland</td>\n",
              "      <td>95.99</td>\n",
              "      <td>20715</td>\n",
              "      <td>7920705914</td>\n",
              "    </tr>\n",
              "    <tr>\n",
              "      <th>2</th>\n",
              "      <td>Napa</td>\n",
              "      <td>Alan Schoenberger</td>\n",
              "      <td>Corporate</td>\n",
              "      <td>0.00</td>\n",
              "      <td>1</td>\n",
              "      <td>2012-01-02</td>\n",
              "      <td>37537</td>\n",
              "      <td>Low</td>\n",
              "      <td>4.0</td>\n",
              "      <td>0.56</td>\n",
              "      <td>...</td>\n",
              "      <td>West</td>\n",
              "      <td>5272</td>\n",
              "      <td>1239.06</td>\n",
              "      <td>2012-01-02</td>\n",
              "      <td>Delivery Truck</td>\n",
              "      <td>48.80</td>\n",
              "      <td>California</td>\n",
              "      <td>291.73</td>\n",
              "      <td>94559</td>\n",
              "      <td>3789229188</td>\n",
              "    </tr>\n",
              "    <tr>\n",
              "      <th>3</th>\n",
              "      <td>Montebello</td>\n",
              "      <td>Elizabeth Moffitt</td>\n",
              "      <td>Consumer</td>\n",
              "      <td>0.08</td>\n",
              "      <td>1</td>\n",
              "      <td>2012-01-02</td>\n",
              "      <td>44069</td>\n",
              "      <td>Critical</td>\n",
              "      <td>43.0</td>\n",
              "      <td>0.39</td>\n",
              "      <td>...</td>\n",
              "      <td>West</td>\n",
              "      <td>6225</td>\n",
              "      <td>614.80</td>\n",
              "      <td>2012-01-02</td>\n",
              "      <td>Regular Air</td>\n",
              "      <td>1.97</td>\n",
              "      <td>California</td>\n",
              "      <td>15.04</td>\n",
              "      <td>90640</td>\n",
              "      <td>2596322363</td>\n",
              "    </tr>\n",
              "    <tr>\n",
              "      <th>4</th>\n",
              "      <td>Napa</td>\n",
              "      <td>Alan Schoenberger</td>\n",
              "      <td>Corporate</td>\n",
              "      <td>0.07</td>\n",
              "      <td>1</td>\n",
              "      <td>2012-01-02</td>\n",
              "      <td>37537</td>\n",
              "      <td>Low</td>\n",
              "      <td>43.0</td>\n",
              "      <td>0.69</td>\n",
              "      <td>...</td>\n",
              "      <td>West</td>\n",
              "      <td>5273</td>\n",
              "      <td>4083.19</td>\n",
              "      <td>2012-01-04</td>\n",
              "      <td>Delivery Truck</td>\n",
              "      <td>45.00</td>\n",
              "      <td>California</td>\n",
              "      <td>100.98</td>\n",
              "      <td>94559</td>\n",
              "      <td>3789229188</td>\n",
              "    </tr>\n",
              "  </tbody>\n",
              "</table>\n",
              "<p>5 rows × 25 columns</p>\n",
              "</div>\n",
              "      <button class=\"colab-df-convert\" onclick=\"convertToInteractive('df-9a4a4096-a207-4aeb-acaf-b3fa778fe767')\"\n",
              "              title=\"Convert this dataframe to an interactive table.\"\n",
              "              style=\"display:none;\">\n",
              "        \n",
              "  <svg xmlns=\"http://www.w3.org/2000/svg\" height=\"24px\"viewBox=\"0 0 24 24\"\n",
              "       width=\"24px\">\n",
              "    <path d=\"M0 0h24v24H0V0z\" fill=\"none\"/>\n",
              "    <path d=\"M18.56 5.44l.94 2.06.94-2.06 2.06-.94-2.06-.94-.94-2.06-.94 2.06-2.06.94zm-11 1L8.5 8.5l.94-2.06 2.06-.94-2.06-.94L8.5 2.5l-.94 2.06-2.06.94zm10 10l.94 2.06.94-2.06 2.06-.94-2.06-.94-.94-2.06-.94 2.06-2.06.94z\"/><path d=\"M17.41 7.96l-1.37-1.37c-.4-.4-.92-.59-1.43-.59-.52 0-1.04.2-1.43.59L10.3 9.45l-7.72 7.72c-.78.78-.78 2.05 0 2.83L4 21.41c.39.39.9.59 1.41.59.51 0 1.02-.2 1.41-.59l7.78-7.78 2.81-2.81c.8-.78.8-2.07 0-2.86zM5.41 20L4 18.59l7.72-7.72 1.47 1.35L5.41 20z\"/>\n",
              "  </svg>\n",
              "      </button>\n",
              "      \n",
              "  <style>\n",
              "    .colab-df-container {\n",
              "      display:flex;\n",
              "      flex-wrap:wrap;\n",
              "      gap: 12px;\n",
              "    }\n",
              "\n",
              "    .colab-df-convert {\n",
              "      background-color: #E8F0FE;\n",
              "      border: none;\n",
              "      border-radius: 50%;\n",
              "      cursor: pointer;\n",
              "      display: none;\n",
              "      fill: #1967D2;\n",
              "      height: 32px;\n",
              "      padding: 0 0 0 0;\n",
              "      width: 32px;\n",
              "    }\n",
              "\n",
              "    .colab-df-convert:hover {\n",
              "      background-color: #E2EBFA;\n",
              "      box-shadow: 0px 1px 2px rgba(60, 64, 67, 0.3), 0px 1px 3px 1px rgba(60, 64, 67, 0.15);\n",
              "      fill: #174EA6;\n",
              "    }\n",
              "\n",
              "    [theme=dark] .colab-df-convert {\n",
              "      background-color: #3B4455;\n",
              "      fill: #D2E3FC;\n",
              "    }\n",
              "\n",
              "    [theme=dark] .colab-df-convert:hover {\n",
              "      background-color: #434B5C;\n",
              "      box-shadow: 0px 1px 3px 1px rgba(0, 0, 0, 0.15);\n",
              "      filter: drop-shadow(0px 1px 2px rgba(0, 0, 0, 0.3));\n",
              "      fill: #FFFFFF;\n",
              "    }\n",
              "  </style>\n",
              "\n",
              "      <script>\n",
              "        const buttonEl =\n",
              "          document.querySelector('#df-9a4a4096-a207-4aeb-acaf-b3fa778fe767 button.colab-df-convert');\n",
              "        buttonEl.style.display =\n",
              "          google.colab.kernel.accessAllowed ? 'block' : 'none';\n",
              "\n",
              "        async function convertToInteractive(key) {\n",
              "          const element = document.querySelector('#df-9a4a4096-a207-4aeb-acaf-b3fa778fe767');\n",
              "          const dataTable =\n",
              "            await google.colab.kernel.invokeFunction('convertToInteractive',\n",
              "                                                     [key], {});\n",
              "          if (!dataTable) return;\n",
              "\n",
              "          const docLinkHtml = 'Like what you see? Visit the ' +\n",
              "            '<a target=\"_blank\" href=https://colab.research.google.com/notebooks/data_table.ipynb>data table notebook</a>'\n",
              "            + ' to learn more about interactive tables.';\n",
              "          element.innerHTML = '';\n",
              "          dataTable['output_type'] = 'display_data';\n",
              "          await google.colab.output.renderOutput(dataTable, element);\n",
              "          const docLink = document.createElement('div');\n",
              "          docLink.innerHTML = docLinkHtml;\n",
              "          element.appendChild(docLink);\n",
              "        }\n",
              "      </script>\n",
              "    </div>\n",
              "  </div>\n",
              "  "
            ]
          },
          "metadata": {},
          "execution_count": 246
        }
      ]
    },
    {
      "cell_type": "code",
      "source": [
        "m_revenue_df = df1.set_index('order_date')['sales'].round(2).resample('Y').sum() # using round function to get 2 values after decimal point\n",
        "m_revenue_df "
      ],
      "metadata": {
        "colab": {
          "base_uri": "https://localhost:8080/"
        },
        "id": "_eq8BAMDRYah",
        "outputId": "299a90ca-3fcd-4075-88db-0a698b901ef4"
      },
      "execution_count": 247,
      "outputs": [
        {
          "output_type": "execute_result",
          "data": {
            "text/plain": [
              "order_date\n",
              "2012-12-31    4209139.45\n",
              "2013-12-31    3549680.84\n",
              "2014-12-31    3436816.77\n",
              "2015-12-31    3719963.86\n",
              "Freq: A-DEC, Name: sales, dtype: float64"
            ]
          },
          "metadata": {},
          "execution_count": 247
        }
      ]
    },
    {
      "cell_type": "code",
      "source": [
        "ax = pd.DataFrame(m_revenue_df.values).plot(\n",
        "    grid=True,\n",
        "    figsize=(10,7),\n",
        "    legend=False\n",
        ")\n",
        "\n",
        "ax.set_xlabel('Year')\n",
        "ax.set_ylabel('Revenue')\n",
        "ax.set_title('Total Revenue over time')\n",
        "\n",
        "# use x.strftime('%m.%Y'), where x is the Pythondate object, %m is the placeholder for\n",
        "# the month value, and %Y is the placeholder for the year value. The strftime function\n",
        "# of the Pythondate object formats the date into the given format.\n",
        "\n",
        "plt.xticks(\n",
        "    range(len(m_revenue_df.index)), \n",
        "    [x.strftime('%m.%Y') for x in m_revenue_df.index], \n",
        "    rotation=45\n",
        ")\n",
        "\n",
        "plt.show()"
      ],
      "metadata": {
        "colab": {
          "base_uri": "https://localhost:8080/",
          "height": 485
        },
        "id": "dOJoFyRU3dJE",
        "outputId": "832930d0-1a42-45b2-952a-260761c8c9c2"
      },
      "execution_count": 248,
      "outputs": [
        {
          "output_type": "display_data",
          "data": {
            "text/plain": [
              "<Figure size 720x504 with 1 Axes>"
            ],
            "image/png": "[encoded data removed]"
          },
          "metadata": {
            "needs_background": "light"
          }
        }
      ]
    },
    {
      "cell_type": "markdown",
      "source": [
        "According to the above graph, sales decreased steadily from 2012 to 2014 before abruptly increasing in 2015."
      ],
      "metadata": {
        "id": "azj5MIEKcia9"
      }
    },
    {
      "cell_type": "code",
      "source": [
        "invoice_df = df1.groupby(\n",
        "    by=['order_date']\n",
        ").agg({\n",
        "    'sales': sum,\n",
        "    'id': max,\n",
        "    'state': max,\n",
        "}).reset_index()"
      ],
      "metadata": {
        "id": "TOi4IEL936-q"
      },
      "execution_count": 249,
      "outputs": []
    },
    {
      "cell_type": "code",
      "source": [
        "invoice_df.head()"
      ],
      "metadata": {
        "colab": {
          "base_uri": "https://localhost:8080/",
          "height": 206
        },
        "id": "9uMHJVSb4WGg",
        "outputId": "1c0a50d6-f6cf-41a1-de90-35bc00be8c96"
      },
      "execution_count": 250,
      "outputs": [
        {
          "output_type": "execute_result",
          "data": {
            "text/plain": [
              "  order_date       sales          id         state\n",
              "0 2012-01-01   1052.8400  7920705914  Pennsylvania\n",
              "1 2012-01-02  11101.8700  4036193629     Minnesota\n",
              "2 2012-01-03  31997.8555  9615279344          Utah\n",
              "3 2012-01-04   1254.2500  5846145421         Texas\n",
              "4 2012-01-05  39734.4040  9004396531         Texas"
            ],
            "text/html": [
              "\n",
              "  <div id=\"df-f252c491-33ca-4cff-a9ab-c7723fa23d26\">\n",
              "    <div class=\"colab-df-container\">\n",
              "      <div>\n",
              "<style scoped>\n",
              "    .dataframe tbody tr th:only-of-type {\n",
              "        vertical-align: middle;\n",
              "    }\n",
              "\n",
              "    .dataframe tbody tr th {\n",
              "        vertical-align: top;\n",
              "    }\n",
              "\n",
              "    .dataframe thead th {\n",
              "        text-align: right;\n",
              "    }\n",
              "</style>\n",
              "<table border=\"1\" class=\"dataframe\">\n",
              "  <thead>\n",
              "    <tr style=\"text-align: right;\">\n",
              "      <th></th>\n",
              "      <th>order_date</th>\n",
              "      <th>sales</th>\n",
              "      <th>id</th>\n",
              "      <th>state</th>\n",
              "    </tr>\n",
              "  </thead>\n",
              "  <tbody>\n",
              "    <tr>\n",
              "      <th>0</th>\n",
              "      <td>2012-01-01</td>\n",
              "      <td>1052.8400</td>\n",
              "      <td>7920705914</td>\n",
              "      <td>Pennsylvania</td>\n",
              "    </tr>\n",
              "    <tr>\n",
              "      <th>1</th>\n",
              "      <td>2012-01-02</td>\n",
              "      <td>11101.8700</td>\n",
              "      <td>4036193629</td>\n",
              "      <td>Minnesota</td>\n",
              "    </tr>\n",
              "    <tr>\n",
              "      <th>2</th>\n",
              "      <td>2012-01-03</td>\n",
              "      <td>31997.8555</td>\n",
              "      <td>9615279344</td>\n",
              "      <td>Utah</td>\n",
              "    </tr>\n",
              "    <tr>\n",
              "      <th>3</th>\n",
              "      <td>2012-01-04</td>\n",
              "      <td>1254.2500</td>\n",
              "      <td>5846145421</td>\n",
              "      <td>Texas</td>\n",
              "    </tr>\n",
              "    <tr>\n",
              "      <th>4</th>\n",
              "      <td>2012-01-05</td>\n",
              "      <td>39734.4040</td>\n",
              "      <td>9004396531</td>\n",
              "      <td>Texas</td>\n",
              "    </tr>\n",
              "  </tbody>\n",
              "</table>\n",
              "</div>\n",
              "      <button class=\"colab-df-convert\" onclick=\"convertToInteractive('df-f252c491-33ca-4cff-a9ab-c7723fa23d26')\"\n",
              "              title=\"Convert this dataframe to an interactive table.\"\n",
              "              style=\"display:none;\">\n",
              "        \n",
              "  <svg xmlns=\"http://www.w3.org/2000/svg\" height=\"24px\"viewBox=\"0 0 24 24\"\n",
              "       width=\"24px\">\n",
              "    <path d=\"M0 0h24v24H0V0z\" fill=\"none\"/>\n",
              "    <path d=\"M18.56 5.44l.94 2.06.94-2.06 2.06-.94-2.06-.94-.94-2.06-.94 2.06-2.06.94zm-11 1L8.5 8.5l.94-2.06 2.06-.94-2.06-.94L8.5 2.5l-.94 2.06-2.06.94zm10 10l.94 2.06.94-2.06 2.06-.94-2.06-.94-.94-2.06-.94 2.06-2.06.94z\"/><path d=\"M17.41 7.96l-1.37-1.37c-.4-.4-.92-.59-1.43-.59-.52 0-1.04.2-1.43.59L10.3 9.45l-7.72 7.72c-.78.78-.78 2.05 0 2.83L4 21.41c.39.39.9.59 1.41.59.51 0 1.02-.2 1.41-.59l7.78-7.78 2.81-2.81c.8-.78.8-2.07 0-2.86zM5.41 20L4 18.59l7.72-7.72 1.47 1.35L5.41 20z\"/>\n",
              "  </svg>\n",
              "      </button>\n",
              "      \n",
              "  <style>\n",
              "    .colab-df-container {\n",
              "      display:flex;\n",
              "      flex-wrap:wrap;\n",
              "      gap: 12px;\n",
              "    }\n",
              "\n",
              "    .colab-df-convert {\n",
              "      background-color: #E8F0FE;\n",
              "      border: none;\n",
              "      border-radius: 50%;\n",
              "      cursor: pointer;\n",
              "      display: none;\n",
              "      fill: #1967D2;\n",
              "      height: 32px;\n",
              "      padding: 0 0 0 0;\n",
              "      width: 32px;\n",
              "    }\n",
              "\n",
              "    .colab-df-convert:hover {\n",
              "      background-color: #E2EBFA;\n",
              "      box-shadow: 0px 1px 2px rgba(60, 64, 67, 0.3), 0px 1px 3px 1px rgba(60, 64, 67, 0.15);\n",
              "      fill: #174EA6;\n",
              "    }\n",
              "\n",
              "    [theme=dark] .colab-df-convert {\n",
              "      background-color: #3B4455;\n",
              "      fill: #D2E3FC;\n",
              "    }\n",
              "\n",
              "    [theme=dark] .colab-df-convert:hover {\n",
              "      background-color: #434B5C;\n",
              "      box-shadow: 0px 1px 3px 1px rgba(0, 0, 0, 0.15);\n",
              "      filter: drop-shadow(0px 1px 2px rgba(0, 0, 0, 0.3));\n",
              "      fill: #FFFFFF;\n",
              "    }\n",
              "  </style>\n",
              "\n",
              "      <script>\n",
              "        const buttonEl =\n",
              "          document.querySelector('#df-f252c491-33ca-4cff-a9ab-c7723fa23d26 button.colab-df-convert');\n",
              "        buttonEl.style.display =\n",
              "          google.colab.kernel.accessAllowed ? 'block' : 'none';\n",
              "\n",
              "        async function convertToInteractive(key) {\n",
              "          const element = document.querySelector('#df-f252c491-33ca-4cff-a9ab-c7723fa23d26');\n",
              "          const dataTable =\n",
              "            await google.colab.kernel.invokeFunction('convertToInteractive',\n",
              "                                                     [key], {});\n",
              "          if (!dataTable) return;\n",
              "\n",
              "          const docLinkHtml = 'Like what you see? Visit the ' +\n",
              "            '<a target=\"_blank\" href=https://colab.research.google.com/notebooks/data_table.ipynb>data table notebook</a>'\n",
              "            + ' to learn more about interactive tables.';\n",
              "          element.innerHTML = '';\n",
              "          dataTable['output_type'] = 'display_data';\n",
              "          await google.colab.output.renderOutput(dataTable, element);\n",
              "          const docLink = document.createElement('div');\n",
              "          docLink.innerHTML = docLinkHtml;\n",
              "          element.appendChild(docLink);\n",
              "        }\n",
              "      </script>\n",
              "    </div>\n",
              "  </div>\n",
              "  "
            ]
          },
          "metadata": {},
          "execution_count": 250
        }
      ]
    },
    {
      "cell_type": "code",
      "source": [
        "invoice_df.max()"
      ],
      "metadata": {
        "colab": {
          "base_uri": "https://localhost:8080/"
        },
        "id": "mgV6IFhjdU0L",
        "outputId": "c005d8c1-f825-418c-fb9b-5957c6dea84e"
      },
      "execution_count": 251,
      "outputs": [
        {
          "output_type": "execute_result",
          "data": {
            "text/plain": [
              "order_date    2015-12-30 00:00:00\n",
              "sales                  117076.414\n",
              "id                     9986921047\n",
              "state                     Wyoming\n",
              "dtype: object"
            ]
          },
          "metadata": {},
          "execution_count": 251
        }
      ]
    },
    {
      "cell_type": "markdown",
      "source": [
        "**Repeated customer**"
      ],
      "metadata": {
        "id": "IVEdExvidgXx"
      }
    },
    {
      "cell_type": "code",
      "source": [
        "m_repeat_customers_df = invoice_df.set_index('order_date').groupby([\n",
        "    pd.Grouper(freq='Y'), 'id'\n",
        "]).filter(lambda x: len(x) > 1).resample('Y').nunique()['id']"
      ],
      "metadata": {
        "id": "Fj_MLpdo4wqj"
      },
      "execution_count": 252,
      "outputs": []
    },
    {
      "cell_type": "code",
      "source": [
        "m_repeat_customers_df"
      ],
      "metadata": {
        "colab": {
          "base_uri": "https://localhost:8080/"
        },
        "id": "KcilyN7F5AyU",
        "outputId": "48a62fe6-9e66-486e-d122-7efab01b9cea"
      },
      "execution_count": 253,
      "outputs": [
        {
          "output_type": "execute_result",
          "data": {
            "text/plain": [
              "order_date\n",
              "2012-12-31    39\n",
              "2013-12-31    42\n",
              "2014-12-31    38\n",
              "2015-12-31    42\n",
              "Freq: A-DEC, Name: id, dtype: int64"
            ]
          },
          "metadata": {},
          "execution_count": 253
        }
      ]
    },
    {
      "cell_type": "markdown",
      "source": [
        "**Unique customers**"
      ],
      "metadata": {
        "id": "CqpdhhQYdlpB"
      }
    },
    {
      "cell_type": "code",
      "source": [
        "m_unique_customers_df = df1.set_index('order_date')['id'].resample('Y').nunique()"
      ],
      "metadata": {
        "id": "FzqTzagX5F4w"
      },
      "execution_count": 254,
      "outputs": []
    },
    {
      "cell_type": "code",
      "source": [
        "m_unique_customers_df"
      ],
      "metadata": {
        "colab": {
          "base_uri": "https://localhost:8080/"
        },
        "id": "tdn7JLU75ghD",
        "outputId": "d209be3b-0754-49e8-d61c-740188e59439"
      },
      "execution_count": 255,
      "outputs": [
        {
          "output_type": "execute_result",
          "data": {
            "text/plain": [
              "order_date\n",
              "2012-12-31    1193\n",
              "2013-12-31    1218\n",
              "2014-12-31    1155\n",
              "2015-12-31    1205\n",
              "Freq: A-DEC, Name: id, dtype: int64"
            ]
          },
          "metadata": {},
          "execution_count": 255
        }
      ]
    },
    {
      "cell_type": "code",
      "source": [
        "m_repeat_percentage = (m_repeat_customers_df/m_unique_customers_df)*100\n",
        "m_repeat_percentage"
      ],
      "metadata": {
        "colab": {
          "base_uri": "https://localhost:8080/"
        },
        "id": "L_y8Fl8z5in9",
        "outputId": "cfcf8238-2138-4cdf-db51-15c95e507e72"
      },
      "execution_count": 256,
      "outputs": [
        {
          "output_type": "execute_result",
          "data": {
            "text/plain": [
              "order_date\n",
              "2012-12-31    3.269070\n",
              "2013-12-31    3.448276\n",
              "2014-12-31    3.290043\n",
              "2015-12-31    3.485477\n",
              "Freq: A-DEC, Name: id, dtype: float64"
            ]
          },
          "metadata": {},
          "execution_count": 256
        }
      ]
    },
    {
      "cell_type": "code",
      "source": [
        "plot1 = pd.DataFrame(m_repeat_customers_df.values).plot(\n",
        "    figsize=(10,7))\n",
        "\n",
        "pd.DataFrame(m_unique_customers_df.values).plot(\n",
        "    ax=plot1,\n",
        "    grid=True\n",
        ")\n",
        "\n",
        "plot2 = pd.DataFrame(m_repeat_percentage.values).plot.bar(\n",
        "    ax=plot1,\n",
        "    grid=True,\n",
        "    secondary_y=True,# for dual axis with different scale\n",
        "    color='green',\n",
        "    alpha=0.2\n",
        ")\n",
        "\n",
        "plot1.set_xlabel('date')\n",
        "plot1.set_ylabel('number of customers')\n",
        "plot1.set_title('Number of All vs. Repeat Customers Over Time')\n",
        "\n",
        "plot2.set_ylabel('percentage (%)')\n",
        "\n",
        "plot1.legend(['Repeat Customers', 'All Customers'])\n",
        "plot2.legend(['Percentage of Repeat'], loc='upper right')\n",
        "\n",
        "plot1.set_ylim([0, m_unique_customers_df.values.max()+100])\n",
        "plot2.set_ylim([0, 100])\n",
        "\n",
        "plt.xticks(\n",
        "    range(len(m_repeat_customers_df.index)), \n",
        "    [x.strftime('%m.%Y') for x in m_repeat_customers_df.index], \n",
        "    rotation=45\n",
        ")\n",
        "plt.show()"
      ],
      "metadata": {
        "colab": {
          "base_uri": "https://localhost:8080/",
          "height": 490
        },
        "id": "xoiABjRU5sik",
        "outputId": "73fa82c3-3bd8-4fa4-f6c9-70f32361fde8"
      },
      "execution_count": 257,
      "outputs": [
        {
          "output_type": "display_data",
          "data": {
            "text/plain": [
              "<Figure size 720x504 with 2 Axes>"
            ],
            "image/png": "[encoded data removed]"
          },
          "metadata": {
            "needs_background": "light"
          }
        }
      ]
    },
    {
      "cell_type": "markdown",
      "source": [
        "**Recency**"
      ],
      "metadata": {
        "id": "Av_1tNz1d0ap"
      }
    },
    {
      "cell_type": "code",
      "source": [
        "data['order_date'] = pd.DatetimeIndex(data['order_date']).date"
      ],
      "metadata": {
        "id": "MvxcM-ueBTCe"
      },
      "execution_count": 258,
      "outputs": []
    },
    {
      "cell_type": "code",
      "source": [
        "recency_df = data.groupby(by='id', as_index=False)['order_date'].max()\n",
        "recency_df.columns = ['id','LastPurchaseDate']\n",
        "recency_df"
      ],
      "metadata": {
        "colab": {
          "base_uri": "https://localhost:8080/",
          "height": 424
        },
        "id": "YDtZ3MgB5wuB",
        "outputId": "d534432c-493f-42ad-d124-89e4216d1eab"
      },
      "execution_count": 259,
      "outputs": [
        {
          "output_type": "execute_result",
          "data": {
            "text/plain": [
              "              id LastPurchaseDate\n",
              "0     1001772396       2013-06-04\n",
              "1     1004398895       2012-11-21\n",
              "2     1005295963       2015-10-04\n",
              "3     1018688725       2014-09-08\n",
              "4     1018994080       2015-11-18\n",
              "...          ...              ...\n",
              "2601  9969596156       2014-08-03\n",
              "2602  9971307432       2013-08-13\n",
              "2603  9983031996       2015-09-13\n",
              "2604  9986718355       2012-11-14\n",
              "2605  9986921047       2015-07-18\n",
              "\n",
              "[2606 rows x 2 columns]"
            ],
            "text/html": [
              "\n",
              "  <div id=\"df-ff92fb7b-5527-4780-a1a1-a9b4dfc6aa4b\">\n",
              "    <div class=\"colab-df-container\">\n",
              "      <div>\n",
              "<style scoped>\n",
              "    .dataframe tbody tr th:only-of-type {\n",
              "        vertical-align: middle;\n",
              "    }\n",
              "\n",
              "    .dataframe tbody tr th {\n",
              "        vertical-align: top;\n",
              "    }\n",
              "\n",
              "    .dataframe thead th {\n",
              "        text-align: right;\n",
              "    }\n",
              "</style>\n",
              "<table border=\"1\" class=\"dataframe\">\n",
              "  <thead>\n",
              "    <tr style=\"text-align: right;\">\n",
              "      <th></th>\n",
              "      <th>id</th>\n",
              "      <th>LastPurchaseDate</th>\n",
              "    </tr>\n",
              "  </thead>\n",
              "  <tbody>\n",
              "    <tr>\n",
              "      <th>0</th>\n",
              "      <td>1001772396</td>\n",
              "      <td>2013-06-04</td>\n",
              "    </tr>\n",
              "    <tr>\n",
              "      <th>1</th>\n",
              "      <td>1004398895</td>\n",
              "      <td>2012-11-21</td>\n",
              "    </tr>\n",
              "    <tr>\n",
              "      <th>2</th>\n",
              "      <td>1005295963</td>\n",
              "      <td>2015-10-04</td>\n",
              "    </tr>\n",
              "    <tr>\n",
              "      <th>3</th>\n",
              "      <td>1018688725</td>\n",
              "      <td>2014-09-08</td>\n",
              "    </tr>\n",
              "    <tr>\n",
              "      <th>4</th>\n",
              "      <td>1018994080</td>\n",
              "      <td>2015-11-18</td>\n",
              "    </tr>\n",
              "    <tr>\n",
              "      <th>...</th>\n",
              "      <td>...</td>\n",
              "      <td>...</td>\n",
              "    </tr>\n",
              "    <tr>\n",
              "      <th>2601</th>\n",
              "      <td>9969596156</td>\n",
              "      <td>2014-08-03</td>\n",
              "    </tr>\n",
              "    <tr>\n",
              "      <th>2602</th>\n",
              "      <td>9971307432</td>\n",
              "      <td>2013-08-13</td>\n",
              "    </tr>\n",
              "    <tr>\n",
              "      <th>2603</th>\n",
              "      <td>9983031996</td>\n",
              "      <td>2015-09-13</td>\n",
              "    </tr>\n",
              "    <tr>\n",
              "      <th>2604</th>\n",
              "      <td>9986718355</td>\n",
              "      <td>2012-11-14</td>\n",
              "    </tr>\n",
              "    <tr>\n",
              "      <th>2605</th>\n",
              "      <td>9986921047</td>\n",
              "      <td>2015-07-18</td>\n",
              "    </tr>\n",
              "  </tbody>\n",
              "</table>\n",
              "<p>2606 rows × 2 columns</p>\n",
              "</div>\n",
              "      <button class=\"colab-df-convert\" onclick=\"convertToInteractive('df-ff92fb7b-5527-4780-a1a1-a9b4dfc6aa4b')\"\n",
              "              title=\"Convert this dataframe to an interactive table.\"\n",
              "              style=\"display:none;\">\n",
              "        \n",
              "  <svg xmlns=\"http://www.w3.org/2000/svg\" height=\"24px\"viewBox=\"0 0 24 24\"\n",
              "       width=\"24px\">\n",
              "    <path d=\"M0 0h24v24H0V0z\" fill=\"none\"/>\n",
              "    <path d=\"M18.56 5.44l.94 2.06.94-2.06 2.06-.94-2.06-.94-.94-2.06-.94 2.06-2.06.94zm-11 1L8.5 8.5l.94-2.06 2.06-.94-2.06-.94L8.5 2.5l-.94 2.06-2.06.94zm10 10l.94 2.06.94-2.06 2.06-.94-2.06-.94-.94-2.06-.94 2.06-2.06.94z\"/><path d=\"M17.41 7.96l-1.37-1.37c-.4-.4-.92-.59-1.43-.59-.52 0-1.04.2-1.43.59L10.3 9.45l-7.72 7.72c-.78.78-.78 2.05 0 2.83L4 21.41c.39.39.9.59 1.41.59.51 0 1.02-.2 1.41-.59l7.78-7.78 2.81-2.81c.8-.78.8-2.07 0-2.86zM5.41 20L4 18.59l7.72-7.72 1.47 1.35L5.41 20z\"/>\n",
              "  </svg>\n",
              "      </button>\n",
              "      \n",
              "  <style>\n",
              "    .colab-df-container {\n",
              "      display:flex;\n",
              "      flex-wrap:wrap;\n",
              "      gap: 12px;\n",
              "    }\n",
              "\n",
              "    .colab-df-convert {\n",
              "      background-color: #E8F0FE;\n",
              "      border: none;\n",
              "      border-radius: 50%;\n",
              "      cursor: pointer;\n",
              "      display: none;\n",
              "      fill: #1967D2;\n",
              "      height: 32px;\n",
              "      padding: 0 0 0 0;\n",
              "      width: 32px;\n",
              "    }\n",
              "\n",
              "    .colab-df-convert:hover {\n",
              "      background-color: #E2EBFA;\n",
              "      box-shadow: 0px 1px 2px rgba(60, 64, 67, 0.3), 0px 1px 3px 1px rgba(60, 64, 67, 0.15);\n",
              "      fill: #174EA6;\n",
              "    }\n",
              "\n",
              "    [theme=dark] .colab-df-convert {\n",
              "      background-color: #3B4455;\n",
              "      fill: #D2E3FC;\n",
              "    }\n",
              "\n",
              "    [theme=dark] .colab-df-convert:hover {\n",
              "      background-color: #434B5C;\n",
              "      box-shadow: 0px 1px 3px 1px rgba(0, 0, 0, 0.15);\n",
              "      filter: drop-shadow(0px 1px 2px rgba(0, 0, 0, 0.3));\n",
              "      fill: #FFFFFF;\n",
              "    }\n",
              "  </style>\n",
              "\n",
              "      <script>\n",
              "        const buttonEl =\n",
              "          document.querySelector('#df-ff92fb7b-5527-4780-a1a1-a9b4dfc6aa4b button.colab-df-convert');\n",
              "        buttonEl.style.display =\n",
              "          google.colab.kernel.accessAllowed ? 'block' : 'none';\n",
              "\n",
              "        async function convertToInteractive(key) {\n",
              "          const element = document.querySelector('#df-ff92fb7b-5527-4780-a1a1-a9b4dfc6aa4b');\n",
              "          const dataTable =\n",
              "            await google.colab.kernel.invokeFunction('convertToInteractive',\n",
              "                                                     [key], {});\n",
              "          if (!dataTable) return;\n",
              "\n",
              "          const docLinkHtml = 'Like what you see? Visit the ' +\n",
              "            '<a target=\"_blank\" href=https://colab.research.google.com/notebooks/data_table.ipynb>data table notebook</a>'\n",
              "            + ' to learn more about interactive tables.';\n",
              "          element.innerHTML = '';\n",
              "          dataTable['output_type'] = 'display_data';\n",
              "          await google.colab.output.renderOutput(dataTable, element);\n",
              "          const docLink = document.createElement('div');\n",
              "          docLink.innerHTML = docLinkHtml;\n",
              "          element.appendChild(docLink);\n",
              "        }\n",
              "      </script>\n",
              "    </div>\n",
              "  </div>\n",
              "  "
            ]
          },
          "metadata": {},
          "execution_count": 259
        }
      ]
    },
    {
      "cell_type": "code",
      "source": [
        "import datetime as dt"
      ],
      "metadata": {
        "id": "p-1eNc8j6Kp8"
      },
      "execution_count": 260,
      "outputs": []
    },
    {
      "cell_type": "code",
      "source": [
        "recency_df['LastPurchaseDate']"
      ],
      "metadata": {
        "colab": {
          "base_uri": "https://localhost:8080/"
        },
        "id": "hqYD24tR6Qox",
        "outputId": "84b35c65-b80a-465f-e7a8-33f01380c2f5"
      },
      "execution_count": 261,
      "outputs": [
        {
          "output_type": "execute_result",
          "data": {
            "text/plain": [
              "0       2013-06-04\n",
              "1       2012-11-21\n",
              "2       2015-10-04\n",
              "3       2014-09-08\n",
              "4       2015-11-18\n",
              "           ...    \n",
              "2601    2014-08-03\n",
              "2602    2013-08-13\n",
              "2603    2015-09-13\n",
              "2604    2012-11-14\n",
              "2605    2015-07-18\n",
              "Name: LastPurchaseDate, Length: 2606, dtype: object"
            ]
          },
          "metadata": {},
          "execution_count": 261
        }
      ]
    },
    {
      "cell_type": "code",
      "source": [
        "last = dt.date(2015,12,31)\n",
        "recency_df['Recency'] = recency_df['LastPurchaseDate'].apply(lambda x: (last - x))\n",
        "recency_df['Recency'] = recency_df['Recency']+pd.Timedelta('1D')\n",
        "recency_df.drop('LastPurchaseDate',axis=1,inplace=True)\n",
        "recency_df"
      ],
      "metadata": {
        "colab": {
          "base_uri": "https://localhost:8080/",
          "height": 424
        },
        "id": "LoGy1itTyuo_",
        "outputId": "987b30b9-9717-48a2-d9f0-31882cef8bdc"
      },
      "execution_count": 262,
      "outputs": [
        {
          "output_type": "execute_result",
          "data": {
            "text/plain": [
              "              id   Recency\n",
              "0     1001772396  941 days\n",
              "1     1004398895 1136 days\n",
              "2     1005295963   89 days\n",
              "3     1018688725  480 days\n",
              "4     1018994080   44 days\n",
              "...          ...       ...\n",
              "2601  9969596156  516 days\n",
              "2602  9971307432  871 days\n",
              "2603  9983031996  110 days\n",
              "2604  9986718355 1143 days\n",
              "2605  9986921047  167 days\n",
              "\n",
              "[2606 rows x 2 columns]"
            ],
            "text/html": [
              "\n",
              "  <div id=\"df-934455f0-e34a-4897-8c12-82be27064229\">\n",
              "    <div class=\"colab-df-container\">\n",
              "      <div>\n",
              "<style scoped>\n",
              "    .dataframe tbody tr th:only-of-type {\n",
              "        vertical-align: middle;\n",
              "    }\n",
              "\n",
              "    .dataframe tbody tr th {\n",
              "        vertical-align: top;\n",
              "    }\n",
              "\n",
              "    .dataframe thead th {\n",
              "        text-align: right;\n",
              "    }\n",
              "</style>\n",
              "<table border=\"1\" class=\"dataframe\">\n",
              "  <thead>\n",
              "    <tr style=\"text-align: right;\">\n",
              "      <th></th>\n",
              "      <th>id</th>\n",
              "      <th>Recency</th>\n",
              "    </tr>\n",
              "  </thead>\n",
              "  <tbody>\n",
              "    <tr>\n",
              "      <th>0</th>\n",
              "      <td>1001772396</td>\n",
              "      <td>941 days</td>\n",
              "    </tr>\n",
              "    <tr>\n",
              "      <th>1</th>\n",
              "      <td>1004398895</td>\n",
              "      <td>1136 days</td>\n",
              "    </tr>\n",
              "    <tr>\n",
              "      <th>2</th>\n",
              "      <td>1005295963</td>\n",
              "      <td>89 days</td>\n",
              "    </tr>\n",
              "    <tr>\n",
              "      <th>3</th>\n",
              "      <td>1018688725</td>\n",
              "      <td>480 days</td>\n",
              "    </tr>\n",
              "    <tr>\n",
              "      <th>4</th>\n",
              "      <td>1018994080</td>\n",
              "      <td>44 days</td>\n",
              "    </tr>\n",
              "    <tr>\n",
              "      <th>...</th>\n",
              "      <td>...</td>\n",
              "      <td>...</td>\n",
              "    </tr>\n",
              "    <tr>\n",
              "      <th>2601</th>\n",
              "      <td>9969596156</td>\n",
              "      <td>516 days</td>\n",
              "    </tr>\n",
              "    <tr>\n",
              "      <th>2602</th>\n",
              "      <td>9971307432</td>\n",
              "      <td>871 days</td>\n",
              "    </tr>\n",
              "    <tr>\n",
              "      <th>2603</th>\n",
              "      <td>9983031996</td>\n",
              "      <td>110 days</td>\n",
              "    </tr>\n",
              "    <tr>\n",
              "      <th>2604</th>\n",
              "      <td>9986718355</td>\n",
              "      <td>1143 days</td>\n",
              "    </tr>\n",
              "    <tr>\n",
              "      <th>2605</th>\n",
              "      <td>9986921047</td>\n",
              "      <td>167 days</td>\n",
              "    </tr>\n",
              "  </tbody>\n",
              "</table>\n",
              "<p>2606 rows × 2 columns</p>\n",
              "</div>\n",
              "      <button class=\"colab-df-convert\" onclick=\"convertToInteractive('df-934455f0-e34a-4897-8c12-82be27064229')\"\n",
              "              title=\"Convert this dataframe to an interactive table.\"\n",
              "              style=\"display:none;\">\n",
              "        \n",
              "  <svg xmlns=\"http://www.w3.org/2000/svg\" height=\"24px\"viewBox=\"0 0 24 24\"\n",
              "       width=\"24px\">\n",
              "    <path d=\"M0 0h24v24H0V0z\" fill=\"none\"/>\n",
              "    <path d=\"M18.56 5.44l.94 2.06.94-2.06 2.06-.94-2.06-.94-.94-2.06-.94 2.06-2.06.94zm-11 1L8.5 8.5l.94-2.06 2.06-.94-2.06-.94L8.5 2.5l-.94 2.06-2.06.94zm10 10l.94 2.06.94-2.06 2.06-.94-2.06-.94-.94-2.06-.94 2.06-2.06.94z\"/><path d=\"M17.41 7.96l-1.37-1.37c-.4-.4-.92-.59-1.43-.59-.52 0-1.04.2-1.43.59L10.3 9.45l-7.72 7.72c-.78.78-.78 2.05 0 2.83L4 21.41c.39.39.9.59 1.41.59.51 0 1.02-.2 1.41-.59l7.78-7.78 2.81-2.81c.8-.78.8-2.07 0-2.86zM5.41 20L4 18.59l7.72-7.72 1.47 1.35L5.41 20z\"/>\n",
              "  </svg>\n",
              "      </button>\n",
              "      \n",
              "  <style>\n",
              "    .colab-df-container {\n",
              "      display:flex;\n",
              "      flex-wrap:wrap;\n",
              "      gap: 12px;\n",
              "    }\n",
              "\n",
              "    .colab-df-convert {\n",
              "      background-color: #E8F0FE;\n",
              "      border: none;\n",
              "      border-radius: 50%;\n",
              "      cursor: pointer;\n",
              "      display: none;\n",
              "      fill: #1967D2;\n",
              "      height: 32px;\n",
              "      padding: 0 0 0 0;\n",
              "      width: 32px;\n",
              "    }\n",
              "\n",
              "    .colab-df-convert:hover {\n",
              "      background-color: #E2EBFA;\n",
              "      box-shadow: 0px 1px 2px rgba(60, 64, 67, 0.3), 0px 1px 3px 1px rgba(60, 64, 67, 0.15);\n",
              "      fill: #174EA6;\n",
              "    }\n",
              "\n",
              "    [theme=dark] .colab-df-convert {\n",
              "      background-color: #3B4455;\n",
              "      fill: #D2E3FC;\n",
              "    }\n",
              "\n",
              "    [theme=dark] .colab-df-convert:hover {\n",
              "      background-color: #434B5C;\n",
              "      box-shadow: 0px 1px 3px 1px rgba(0, 0, 0, 0.15);\n",
              "      filter: drop-shadow(0px 1px 2px rgba(0, 0, 0, 0.3));\n",
              "      fill: #FFFFFF;\n",
              "    }\n",
              "  </style>\n",
              "\n",
              "      <script>\n",
              "        const buttonEl =\n",
              "          document.querySelector('#df-934455f0-e34a-4897-8c12-82be27064229 button.colab-df-convert');\n",
              "        buttonEl.style.display =\n",
              "          google.colab.kernel.accessAllowed ? 'block' : 'none';\n",
              "\n",
              "        async function convertToInteractive(key) {\n",
              "          const element = document.querySelector('#df-934455f0-e34a-4897-8c12-82be27064229');\n",
              "          const dataTable =\n",
              "            await google.colab.kernel.invokeFunction('convertToInteractive',\n",
              "                                                     [key], {});\n",
              "          if (!dataTable) return;\n",
              "\n",
              "          const docLinkHtml = 'Like what you see? Visit the ' +\n",
              "            '<a target=\"_blank\" href=https://colab.research.google.com/notebooks/data_table.ipynb>data table notebook</a>'\n",
              "            + ' to learn more about interactive tables.';\n",
              "          element.innerHTML = '';\n",
              "          dataTable['output_type'] = 'display_data';\n",
              "          await google.colab.output.renderOutput(dataTable, element);\n",
              "          const docLink = document.createElement('div');\n",
              "          docLink.innerHTML = docLinkHtml;\n",
              "          element.appendChild(docLink);\n",
              "        }\n",
              "      </script>\n",
              "    </div>\n",
              "  </div>\n",
              "  "
            ]
          },
          "metadata": {},
          "execution_count": 262
        }
      ]
    },
    {
      "cell_type": "code",
      "source": [
        "recency_df['Recency'] = recency_df['Recency'].astype(str).str.replace('days', '') #removing days from recency column to get number only"
      ],
      "metadata": {
        "id": "5PoDidnkCNtg"
      },
      "execution_count": 263,
      "outputs": []
    },
    {
      "cell_type": "code",
      "source": [
        "recency_df"
      ],
      "metadata": {
        "colab": {
          "base_uri": "https://localhost:8080/",
          "height": 424
        },
        "id": "c64wlrABDVCl",
        "outputId": "a6fc1a9a-3283-44ab-b571-8d62f6ae6fbd"
      },
      "execution_count": 264,
      "outputs": [
        {
          "output_type": "execute_result",
          "data": {
            "text/plain": [
              "              id Recency\n",
              "0     1001772396    941 \n",
              "1     1004398895   1136 \n",
              "2     1005295963     89 \n",
              "3     1018688725    480 \n",
              "4     1018994080     44 \n",
              "...          ...     ...\n",
              "2601  9969596156    516 \n",
              "2602  9971307432    871 \n",
              "2603  9983031996    110 \n",
              "2604  9986718355   1143 \n",
              "2605  9986921047    167 \n",
              "\n",
              "[2606 rows x 2 columns]"
            ],
            "text/html": [
              "\n",
              "  <div id=\"df-dffe9844-5477-47e6-afc5-c186d42bdcc1\">\n",
              "    <div class=\"colab-df-container\">\n",
              "      <div>\n",
              "<style scoped>\n",
              "    .dataframe tbody tr th:only-of-type {\n",
              "        vertical-align: middle;\n",
              "    }\n",
              "\n",
              "    .dataframe tbody tr th {\n",
              "        vertical-align: top;\n",
              "    }\n",
              "\n",
              "    .dataframe thead th {\n",
              "        text-align: right;\n",
              "    }\n",
              "</style>\n",
              "<table border=\"1\" class=\"dataframe\">\n",
              "  <thead>\n",
              "    <tr style=\"text-align: right;\">\n",
              "      <th></th>\n",
              "      <th>id</th>\n",
              "      <th>Recency</th>\n",
              "    </tr>\n",
              "  </thead>\n",
              "  <tbody>\n",
              "    <tr>\n",
              "      <th>0</th>\n",
              "      <td>1001772396</td>\n",
              "      <td>941</td>\n",
              "    </tr>\n",
              "    <tr>\n",
              "      <th>1</th>\n",
              "      <td>1004398895</td>\n",
              "      <td>1136</td>\n",
              "    </tr>\n",
              "    <tr>\n",
              "      <th>2</th>\n",
              "      <td>1005295963</td>\n",
              "      <td>89</td>\n",
              "    </tr>\n",
              "    <tr>\n",
              "      <th>3</th>\n",
              "      <td>1018688725</td>\n",
              "      <td>480</td>\n",
              "    </tr>\n",
              "    <tr>\n",
              "      <th>4</th>\n",
              "      <td>1018994080</td>\n",
              "      <td>44</td>\n",
              "    </tr>\n",
              "    <tr>\n",
              "      <th>...</th>\n",
              "      <td>...</td>\n",
              "      <td>...</td>\n",
              "    </tr>\n",
              "    <tr>\n",
              "      <th>2601</th>\n",
              "      <td>9969596156</td>\n",
              "      <td>516</td>\n",
              "    </tr>\n",
              "    <tr>\n",
              "      <th>2602</th>\n",
              "      <td>9971307432</td>\n",
              "      <td>871</td>\n",
              "    </tr>\n",
              "    <tr>\n",
              "      <th>2603</th>\n",
              "      <td>9983031996</td>\n",
              "      <td>110</td>\n",
              "    </tr>\n",
              "    <tr>\n",
              "      <th>2604</th>\n",
              "      <td>9986718355</td>\n",
              "      <td>1143</td>\n",
              "    </tr>\n",
              "    <tr>\n",
              "      <th>2605</th>\n",
              "      <td>9986921047</td>\n",
              "      <td>167</td>\n",
              "    </tr>\n",
              "  </tbody>\n",
              "</table>\n",
              "<p>2606 rows × 2 columns</p>\n",
              "</div>\n",
              "      <button class=\"colab-df-convert\" onclick=\"convertToInteractive('df-dffe9844-5477-47e6-afc5-c186d42bdcc1')\"\n",
              "              title=\"Convert this dataframe to an interactive table.\"\n",
              "              style=\"display:none;\">\n",
              "        \n",
              "  <svg xmlns=\"http://www.w3.org/2000/svg\" height=\"24px\"viewBox=\"0 0 24 24\"\n",
              "       width=\"24px\">\n",
              "    <path d=\"M0 0h24v24H0V0z\" fill=\"none\"/>\n",
              "    <path d=\"M18.56 5.44l.94 2.06.94-2.06 2.06-.94-2.06-.94-.94-2.06-.94 2.06-2.06.94zm-11 1L8.5 8.5l.94-2.06 2.06-.94-2.06-.94L8.5 2.5l-.94 2.06-2.06.94zm10 10l.94 2.06.94-2.06 2.06-.94-2.06-.94-.94-2.06-.94 2.06-2.06.94z\"/><path d=\"M17.41 7.96l-1.37-1.37c-.4-.4-.92-.59-1.43-.59-.52 0-1.04.2-1.43.59L10.3 9.45l-7.72 7.72c-.78.78-.78 2.05 0 2.83L4 21.41c.39.39.9.59 1.41.59.51 0 1.02-.2 1.41-.59l7.78-7.78 2.81-2.81c.8-.78.8-2.07 0-2.86zM5.41 20L4 18.59l7.72-7.72 1.47 1.35L5.41 20z\"/>\n",
              "  </svg>\n",
              "      </button>\n",
              "      \n",
              "  <style>\n",
              "    .colab-df-container {\n",
              "      display:flex;\n",
              "      flex-wrap:wrap;\n",
              "      gap: 12px;\n",
              "    }\n",
              "\n",
              "    .colab-df-convert {\n",
              "      background-color: #E8F0FE;\n",
              "      border: none;\n",
              "      border-radius: 50%;\n",
              "      cursor: pointer;\n",
              "      display: none;\n",
              "      fill: #1967D2;\n",
              "      height: 32px;\n",
              "      padding: 0 0 0 0;\n",
              "      width: 32px;\n",
              "    }\n",
              "\n",
              "    .colab-df-convert:hover {\n",
              "      background-color: #E2EBFA;\n",
              "      box-shadow: 0px 1px 2px rgba(60, 64, 67, 0.3), 0px 1px 3px 1px rgba(60, 64, 67, 0.15);\n",
              "      fill: #174EA6;\n",
              "    }\n",
              "\n",
              "    [theme=dark] .colab-df-convert {\n",
              "      background-color: #3B4455;\n",
              "      fill: #D2E3FC;\n",
              "    }\n",
              "\n",
              "    [theme=dark] .colab-df-convert:hover {\n",
              "      background-color: #434B5C;\n",
              "      box-shadow: 0px 1px 3px 1px rgba(0, 0, 0, 0.15);\n",
              "      filter: drop-shadow(0px 1px 2px rgba(0, 0, 0, 0.3));\n",
              "      fill: #FFFFFF;\n",
              "    }\n",
              "  </style>\n",
              "\n",
              "      <script>\n",
              "        const buttonEl =\n",
              "          document.querySelector('#df-dffe9844-5477-47e6-afc5-c186d42bdcc1 button.colab-df-convert');\n",
              "        buttonEl.style.display =\n",
              "          google.colab.kernel.accessAllowed ? 'block' : 'none';\n",
              "\n",
              "        async function convertToInteractive(key) {\n",
              "          const element = document.querySelector('#df-dffe9844-5477-47e6-afc5-c186d42bdcc1');\n",
              "          const dataTable =\n",
              "            await google.colab.kernel.invokeFunction('convertToInteractive',\n",
              "                                                     [key], {});\n",
              "          if (!dataTable) return;\n",
              "\n",
              "          const docLinkHtml = 'Like what you see? Visit the ' +\n",
              "            '<a target=\"_blank\" href=https://colab.research.google.com/notebooks/data_table.ipynb>data table notebook</a>'\n",
              "            + ' to learn more about interactive tables.';\n",
              "          element.innerHTML = '';\n",
              "          dataTable['output_type'] = 'display_data';\n",
              "          await google.colab.output.renderOutput(dataTable, element);\n",
              "          const docLink = document.createElement('div');\n",
              "          docLink.innerHTML = docLinkHtml;\n",
              "          element.appendChild(docLink);\n",
              "        }\n",
              "      </script>\n",
              "    </div>\n",
              "  </div>\n",
              "  "
            ]
          },
          "metadata": {},
          "execution_count": 264
        }
      ]
    },
    {
      "cell_type": "code",
      "source": [
        "recency_df['Recency'] = recency_df['Recency'].astype(int) #changing recency column to integer"
      ],
      "metadata": {
        "id": "lxxD3fxSDXHW"
      },
      "execution_count": 265,
      "outputs": []
    },
    {
      "cell_type": "markdown",
      "source": [
        "**Frequency**"
      ],
      "metadata": {
        "id": "3YyMvBRlfDe2"
      }
    },
    {
      "cell_type": "code",
      "source": [
        "frequency_df = data.drop_duplicates(subset=['order_id', 'id'], keep=\"first\")\n",
        "frequency_df = frequency_df.groupby(by=['id'], as_index=False)['order_id'].count()\n",
        "frequency_df.columns = ['id','Frequency']\n",
        "frequency_df"
      ],
      "metadata": {
        "colab": {
          "base_uri": "https://localhost:8080/",
          "height": 424
        },
        "id": "sMOwnNmyzXRu",
        "outputId": "3db9d719-95c0-4b96-b08a-cbeb4be96db3"
      },
      "execution_count": 266,
      "outputs": [
        {
          "output_type": "execute_result",
          "data": {
            "text/plain": [
              "              id  Frequency\n",
              "0     1001772396          2\n",
              "1     1004398895          1\n",
              "2     1005295963          3\n",
              "3     1018688725          5\n",
              "4     1018994080          2\n",
              "...          ...        ...\n",
              "2601  9969596156          2\n",
              "2602  9971307432          1\n",
              "2603  9983031996          2\n",
              "2604  9986718355          1\n",
              "2605  9986921047          5\n",
              "\n",
              "[2606 rows x 2 columns]"
            ],
            "text/html": [
              "\n",
              "  <div id=\"df-80710ada-87e7-454a-8739-c7a92b8ffd6a\">\n",
              "    <div class=\"colab-df-container\">\n",
              "      <div>\n",
              "<style scoped>\n",
              "    .dataframe tbody tr th:only-of-type {\n",
              "        vertical-align: middle;\n",
              "    }\n",
              "\n",
              "    .dataframe tbody tr th {\n",
              "        vertical-align: top;\n",
              "    }\n",
              "\n",
              "    .dataframe thead th {\n",
              "        text-align: right;\n",
              "    }\n",
              "</style>\n",
              "<table border=\"1\" class=\"dataframe\">\n",
              "  <thead>\n",
              "    <tr style=\"text-align: right;\">\n",
              "      <th></th>\n",
              "      <th>id</th>\n",
              "      <th>Frequency</th>\n",
              "    </tr>\n",
              "  </thead>\n",
              "  <tbody>\n",
              "    <tr>\n",
              "      <th>0</th>\n",
              "      <td>1001772396</td>\n",
              "      <td>2</td>\n",
              "    </tr>\n",
              "    <tr>\n",
              "      <th>1</th>\n",
              "      <td>1004398895</td>\n",
              "      <td>1</td>\n",
              "    </tr>\n",
              "    <tr>\n",
              "      <th>2</th>\n",
              "      <td>1005295963</td>\n",
              "      <td>3</td>\n",
              "    </tr>\n",
              "    <tr>\n",
              "      <th>3</th>\n",
              "      <td>1018688725</td>\n",
              "      <td>5</td>\n",
              "    </tr>\n",
              "    <tr>\n",
              "      <th>4</th>\n",
              "      <td>1018994080</td>\n",
              "      <td>2</td>\n",
              "    </tr>\n",
              "    <tr>\n",
              "      <th>...</th>\n",
              "      <td>...</td>\n",
              "      <td>...</td>\n",
              "    </tr>\n",
              "    <tr>\n",
              "      <th>2601</th>\n",
              "      <td>9969596156</td>\n",
              "      <td>2</td>\n",
              "    </tr>\n",
              "    <tr>\n",
              "      <th>2602</th>\n",
              "      <td>9971307432</td>\n",
              "      <td>1</td>\n",
              "    </tr>\n",
              "    <tr>\n",
              "      <th>2603</th>\n",
              "      <td>9983031996</td>\n",
              "      <td>2</td>\n",
              "    </tr>\n",
              "    <tr>\n",
              "      <th>2604</th>\n",
              "      <td>9986718355</td>\n",
              "      <td>1</td>\n",
              "    </tr>\n",
              "    <tr>\n",
              "      <th>2605</th>\n",
              "      <td>9986921047</td>\n",
              "      <td>5</td>\n",
              "    </tr>\n",
              "  </tbody>\n",
              "</table>\n",
              "<p>2606 rows × 2 columns</p>\n",
              "</div>\n",
              "      <button class=\"colab-df-convert\" onclick=\"convertToInteractive('df-80710ada-87e7-454a-8739-c7a92b8ffd6a')\"\n",
              "              title=\"Convert this dataframe to an interactive table.\"\n",
              "              style=\"display:none;\">\n",
              "        \n",
              "  <svg xmlns=\"http://www.w3.org/2000/svg\" height=\"24px\"viewBox=\"0 0 24 24\"\n",
              "       width=\"24px\">\n",
              "    <path d=\"M0 0h24v24H0V0z\" fill=\"none\"/>\n",
              "    <path d=\"M18.56 5.44l.94 2.06.94-2.06 2.06-.94-2.06-.94-.94-2.06-.94 2.06-2.06.94zm-11 1L8.5 8.5l.94-2.06 2.06-.94-2.06-.94L8.5 2.5l-.94 2.06-2.06.94zm10 10l.94 2.06.94-2.06 2.06-.94-2.06-.94-.94-2.06-.94 2.06-2.06.94z\"/><path d=\"M17.41 7.96l-1.37-1.37c-.4-.4-.92-.59-1.43-.59-.52 0-1.04.2-1.43.59L10.3 9.45l-7.72 7.72c-.78.78-.78 2.05 0 2.83L4 21.41c.39.39.9.59 1.41.59.51 0 1.02-.2 1.41-.59l7.78-7.78 2.81-2.81c.8-.78.8-2.07 0-2.86zM5.41 20L4 18.59l7.72-7.72 1.47 1.35L5.41 20z\"/>\n",
              "  </svg>\n",
              "      </button>\n",
              "      \n",
              "  <style>\n",
              "    .colab-df-container {\n",
              "      display:flex;\n",
              "      flex-wrap:wrap;\n",
              "      gap: 12px;\n",
              "    }\n",
              "\n",
              "    .colab-df-convert {\n",
              "      background-color: #E8F0FE;\n",
              "      border: none;\n",
              "      border-radius: 50%;\n",
              "      cursor: pointer;\n",
              "      display: none;\n",
              "      fill: #1967D2;\n",
              "      height: 32px;\n",
              "      padding: 0 0 0 0;\n",
              "      width: 32px;\n",
              "    }\n",
              "\n",
              "    .colab-df-convert:hover {\n",
              "      background-color: #E2EBFA;\n",
              "      box-shadow: 0px 1px 2px rgba(60, 64, 67, 0.3), 0px 1px 3px 1px rgba(60, 64, 67, 0.15);\n",
              "      fill: #174EA6;\n",
              "    }\n",
              "\n",
              "    [theme=dark] .colab-df-convert {\n",
              "      background-color: #3B4455;\n",
              "      fill: #D2E3FC;\n",
              "    }\n",
              "\n",
              "    [theme=dark] .colab-df-convert:hover {\n",
              "      background-color: #434B5C;\n",
              "      box-shadow: 0px 1px 3px 1px rgba(0, 0, 0, 0.15);\n",
              "      filter: drop-shadow(0px 1px 2px rgba(0, 0, 0, 0.3));\n",
              "      fill: #FFFFFF;\n",
              "    }\n",
              "  </style>\n",
              "\n",
              "      <script>\n",
              "        const buttonEl =\n",
              "          document.querySelector('#df-80710ada-87e7-454a-8739-c7a92b8ffd6a button.colab-df-convert');\n",
              "        buttonEl.style.display =\n",
              "          google.colab.kernel.accessAllowed ? 'block' : 'none';\n",
              "\n",
              "        async function convertToInteractive(key) {\n",
              "          const element = document.querySelector('#df-80710ada-87e7-454a-8739-c7a92b8ffd6a');\n",
              "          const dataTable =\n",
              "            await google.colab.kernel.invokeFunction('convertToInteractive',\n",
              "                                                     [key], {});\n",
              "          if (!dataTable) return;\n",
              "\n",
              "          const docLinkHtml = 'Like what you see? Visit the ' +\n",
              "            '<a target=\"_blank\" href=https://colab.research.google.com/notebooks/data_table.ipynb>data table notebook</a>'\n",
              "            + ' to learn more about interactive tables.';\n",
              "          element.innerHTML = '';\n",
              "          dataTable['output_type'] = 'display_data';\n",
              "          await google.colab.output.renderOutput(dataTable, element);\n",
              "          const docLink = document.createElement('div');\n",
              "          docLink.innerHTML = docLinkHtml;\n",
              "          element.appendChild(docLink);\n",
              "        }\n",
              "      </script>\n",
              "    </div>\n",
              "  </div>\n",
              "  "
            ]
          },
          "metadata": {},
          "execution_count": 266
        }
      ]
    },
    {
      "cell_type": "code",
      "source": [
        "frequency_df.dtypes"
      ],
      "metadata": {
        "colab": {
          "base_uri": "https://localhost:8080/"
        },
        "id": "PXry8v0TDgWi",
        "outputId": "1030aec9-ac4d-45db-ac04-1322442195ec"
      },
      "execution_count": 267,
      "outputs": [
        {
          "output_type": "execute_result",
          "data": {
            "text/plain": [
              "id           int64\n",
              "Frequency    int64\n",
              "dtype: object"
            ]
          },
          "metadata": {},
          "execution_count": 267
        }
      ]
    },
    {
      "cell_type": "markdown",
      "source": [
        "**Monetary**"
      ],
      "metadata": {
        "id": "JTHvugGBfN72"
      }
    },
    {
      "cell_type": "code",
      "source": [
        "monetary_df = data.groupby(by='id',as_index=False).agg({'sales': 'sum'})\n",
        "monetary_df.columns = ['id','Monetary']\n",
        "monetary_df"
      ],
      "metadata": {
        "colab": {
          "base_uri": "https://localhost:8080/",
          "height": 424
        },
        "id": "11wa7GDg7kRr",
        "outputId": "45e4c711-fda2-4f4e-faa4-eaaf6d9666c8"
      },
      "execution_count": 268,
      "outputs": [
        {
          "output_type": "execute_result",
          "data": {
            "text/plain": [
              "              id    Monetary\n",
              "0     1001772396    205.1500\n",
              "1     1004398895    496.1500\n",
              "2     1005295963   2490.3000\n",
              "3     1018688725  10972.1015\n",
              "4     1018994080  14470.6800\n",
              "...          ...         ...\n",
              "2601  9969596156   2171.7350\n",
              "2602  9971307432     12.8000\n",
              "2603  9983031996  26225.7915\n",
              "2604  9986718355    473.7000\n",
              "2605  9986921047  10313.8110\n",
              "\n",
              "[2606 rows x 2 columns]"
            ],
            "text/html": [
              "\n",
              "  <div id=\"df-d180e5f6-70d6-4f64-930c-4f3b9f1b6007\">\n",
              "    <div class=\"colab-df-container\">\n",
              "      <div>\n",
              "<style scoped>\n",
              "    .dataframe tbody tr th:only-of-type {\n",
              "        vertical-align: middle;\n",
              "    }\n",
              "\n",
              "    .dataframe tbody tr th {\n",
              "        vertical-align: top;\n",
              "    }\n",
              "\n",
              "    .dataframe thead th {\n",
              "        text-align: right;\n",
              "    }\n",
              "</style>\n",
              "<table border=\"1\" class=\"dataframe\">\n",
              "  <thead>\n",
              "    <tr style=\"text-align: right;\">\n",
              "      <th></th>\n",
              "      <th>id</th>\n",
              "      <th>Monetary</th>\n",
              "    </tr>\n",
              "  </thead>\n",
              "  <tbody>\n",
              "    <tr>\n",
              "      <th>0</th>\n",
              "      <td>1001772396</td>\n",
              "      <td>205.1500</td>\n",
              "    </tr>\n",
              "    <tr>\n",
              "      <th>1</th>\n",
              "      <td>1004398895</td>\n",
              "      <td>496.1500</td>\n",
              "    </tr>\n",
              "    <tr>\n",
              "      <th>2</th>\n",
              "      <td>1005295963</td>\n",
              "      <td>2490.3000</td>\n",
              "    </tr>\n",
              "    <tr>\n",
              "      <th>3</th>\n",
              "      <td>1018688725</td>\n",
              "      <td>10972.1015</td>\n",
              "    </tr>\n",
              "    <tr>\n",
              "      <th>4</th>\n",
              "      <td>1018994080</td>\n",
              "      <td>14470.6800</td>\n",
              "    </tr>\n",
              "    <tr>\n",
              "      <th>...</th>\n",
              "      <td>...</td>\n",
              "      <td>...</td>\n",
              "    </tr>\n",
              "    <tr>\n",
              "      <th>2601</th>\n",
              "      <td>9969596156</td>\n",
              "      <td>2171.7350</td>\n",
              "    </tr>\n",
              "    <tr>\n",
              "      <th>2602</th>\n",
              "      <td>9971307432</td>\n",
              "      <td>12.8000</td>\n",
              "    </tr>\n",
              "    <tr>\n",
              "      <th>2603</th>\n",
              "      <td>9983031996</td>\n",
              "      <td>26225.7915</td>\n",
              "    </tr>\n",
              "    <tr>\n",
              "      <th>2604</th>\n",
              "      <td>9986718355</td>\n",
              "      <td>473.7000</td>\n",
              "    </tr>\n",
              "    <tr>\n",
              "      <th>2605</th>\n",
              "      <td>9986921047</td>\n",
              "      <td>10313.8110</td>\n",
              "    </tr>\n",
              "  </tbody>\n",
              "</table>\n",
              "<p>2606 rows × 2 columns</p>\n",
              "</div>\n",
              "      <button class=\"colab-df-convert\" onclick=\"convertToInteractive('df-d180e5f6-70d6-4f64-930c-4f3b9f1b6007')\"\n",
              "              title=\"Convert this dataframe to an interactive table.\"\n",
              "              style=\"display:none;\">\n",
              "        \n",
              "  <svg xmlns=\"http://www.w3.org/2000/svg\" height=\"24px\"viewBox=\"0 0 24 24\"\n",
              "       width=\"24px\">\n",
              "    <path d=\"M0 0h24v24H0V0z\" fill=\"none\"/>\n",
              "    <path d=\"M18.56 5.44l.94 2.06.94-2.06 2.06-.94-2.06-.94-.94-2.06-.94 2.06-2.06.94zm-11 1L8.5 8.5l.94-2.06 2.06-.94-2.06-.94L8.5 2.5l-.94 2.06-2.06.94zm10 10l.94 2.06.94-2.06 2.06-.94-2.06-.94-.94-2.06-.94 2.06-2.06.94z\"/><path d=\"M17.41 7.96l-1.37-1.37c-.4-.4-.92-.59-1.43-.59-.52 0-1.04.2-1.43.59L10.3 9.45l-7.72 7.72c-.78.78-.78 2.05 0 2.83L4 21.41c.39.39.9.59 1.41.59.51 0 1.02-.2 1.41-.59l7.78-7.78 2.81-2.81c.8-.78.8-2.07 0-2.86zM5.41 20L4 18.59l7.72-7.72 1.47 1.35L5.41 20z\"/>\n",
              "  </svg>\n",
              "      </button>\n",
              "      \n",
              "  <style>\n",
              "    .colab-df-container {\n",
              "      display:flex;\n",
              "      flex-wrap:wrap;\n",
              "      gap: 12px;\n",
              "    }\n",
              "\n",
              "    .colab-df-convert {\n",
              "      background-color: #E8F0FE;\n",
              "      border: none;\n",
              "      border-radius: 50%;\n",
              "      cursor: pointer;\n",
              "      display: none;\n",
              "      fill: #1967D2;\n",
              "      height: 32px;\n",
              "      padding: 0 0 0 0;\n",
              "      width: 32px;\n",
              "    }\n",
              "\n",
              "    .colab-df-convert:hover {\n",
              "      background-color: #E2EBFA;\n",
              "      box-shadow: 0px 1px 2px rgba(60, 64, 67, 0.3), 0px 1px 3px 1px rgba(60, 64, 67, 0.15);\n",
              "      fill: #174EA6;\n",
              "    }\n",
              "\n",
              "    [theme=dark] .colab-df-convert {\n",
              "      background-color: #3B4455;\n",
              "      fill: #D2E3FC;\n",
              "    }\n",
              "\n",
              "    [theme=dark] .colab-df-convert:hover {\n",
              "      background-color: #434B5C;\n",
              "      box-shadow: 0px 1px 3px 1px rgba(0, 0, 0, 0.15);\n",
              "      filter: drop-shadow(0px 1px 2px rgba(0, 0, 0, 0.3));\n",
              "      fill: #FFFFFF;\n",
              "    }\n",
              "  </style>\n",
              "\n",
              "      <script>\n",
              "        const buttonEl =\n",
              "          document.querySelector('#df-d180e5f6-70d6-4f64-930c-4f3b9f1b6007 button.colab-df-convert');\n",
              "        buttonEl.style.display =\n",
              "          google.colab.kernel.accessAllowed ? 'block' : 'none';\n",
              "\n",
              "        async function convertToInteractive(key) {\n",
              "          const element = document.querySelector('#df-d180e5f6-70d6-4f64-930c-4f3b9f1b6007');\n",
              "          const dataTable =\n",
              "            await google.colab.kernel.invokeFunction('convertToInteractive',\n",
              "                                                     [key], {});\n",
              "          if (!dataTable) return;\n",
              "\n",
              "          const docLinkHtml = 'Like what you see? Visit the ' +\n",
              "            '<a target=\"_blank\" href=https://colab.research.google.com/notebooks/data_table.ipynb>data table notebook</a>'\n",
              "            + ' to learn more about interactive tables.';\n",
              "          element.innerHTML = '';\n",
              "          dataTable['output_type'] = 'display_data';\n",
              "          await google.colab.output.renderOutput(dataTable, element);\n",
              "          const docLink = document.createElement('div');\n",
              "          docLink.innerHTML = docLinkHtml;\n",
              "          element.appendChild(docLink);\n",
              "        }\n",
              "      </script>\n",
              "    </div>\n",
              "  </div>\n",
              "  "
            ]
          },
          "metadata": {},
          "execution_count": 268
        }
      ]
    },
    {
      "cell_type": "markdown",
      "source": [
        "**Creating RFM data**"
      ],
      "metadata": {
        "id": "dqtspwvRfSJP"
      }
    },
    {
      "cell_type": "code",
      "source": [
        "temp_df = recency_df.merge(frequency_df,on='id')\n",
        "temp_df.set_index('id',inplace=True)\n",
        "temp_df"
      ],
      "metadata": {
        "colab": {
          "base_uri": "https://localhost:8080/",
          "height": 455
        },
        "id": "NzBLcnbb8kR3",
        "outputId": "a72e1a0a-52a7-4ebd-e795-3ac4b697153b"
      },
      "execution_count": 269,
      "outputs": [
        {
          "output_type": "execute_result",
          "data": {
            "text/plain": [
              "            Recency  Frequency\n",
              "id                            \n",
              "1001772396      941          2\n",
              "1004398895     1136          1\n",
              "1005295963       89          3\n",
              "1018688725      480          5\n",
              "1018994080       44          2\n",
              "...             ...        ...\n",
              "9969596156      516          2\n",
              "9971307432      871          1\n",
              "9983031996      110          2\n",
              "9986718355     1143          1\n",
              "9986921047      167          5\n",
              "\n",
              "[2606 rows x 2 columns]"
            ],
            "text/html": [
              "\n",
              "  <div id=\"df-3213438d-32e9-4322-a950-22d075ad3e70\">\n",
              "    <div class=\"colab-df-container\">\n",
              "      <div>\n",
              "<style scoped>\n",
              "    .dataframe tbody tr th:only-of-type {\n",
              "        vertical-align: middle;\n",
              "    }\n",
              "\n",
              "    .dataframe tbody tr th {\n",
              "        vertical-align: top;\n",
              "    }\n",
              "\n",
              "    .dataframe thead th {\n",
              "        text-align: right;\n",
              "    }\n",
              "</style>\n",
              "<table border=\"1\" class=\"dataframe\">\n",
              "  <thead>\n",
              "    <tr style=\"text-align: right;\">\n",
              "      <th></th>\n",
              "      <th>Recency</th>\n",
              "      <th>Frequency</th>\n",
              "    </tr>\n",
              "    <tr>\n",
              "      <th>id</th>\n",
              "      <th></th>\n",
              "      <th></th>\n",
              "    </tr>\n",
              "  </thead>\n",
              "  <tbody>\n",
              "    <tr>\n",
              "      <th>1001772396</th>\n",
              "      <td>941</td>\n",
              "      <td>2</td>\n",
              "    </tr>\n",
              "    <tr>\n",
              "      <th>1004398895</th>\n",
              "      <td>1136</td>\n",
              "      <td>1</td>\n",
              "    </tr>\n",
              "    <tr>\n",
              "      <th>1005295963</th>\n",
              "      <td>89</td>\n",
              "      <td>3</td>\n",
              "    </tr>\n",
              "    <tr>\n",
              "      <th>1018688725</th>\n",
              "      <td>480</td>\n",
              "      <td>5</td>\n",
              "    </tr>\n",
              "    <tr>\n",
              "      <th>1018994080</th>\n",
              "      <td>44</td>\n",
              "      <td>2</td>\n",
              "    </tr>\n",
              "    <tr>\n",
              "      <th>...</th>\n",
              "      <td>...</td>\n",
              "      <td>...</td>\n",
              "    </tr>\n",
              "    <tr>\n",
              "      <th>9969596156</th>\n",
              "      <td>516</td>\n",
              "      <td>2</td>\n",
              "    </tr>\n",
              "    <tr>\n",
              "      <th>9971307432</th>\n",
              "      <td>871</td>\n",
              "      <td>1</td>\n",
              "    </tr>\n",
              "    <tr>\n",
              "      <th>9983031996</th>\n",
              "      <td>110</td>\n",
              "      <td>2</td>\n",
              "    </tr>\n",
              "    <tr>\n",
              "      <th>9986718355</th>\n",
              "      <td>1143</td>\n",
              "      <td>1</td>\n",
              "    </tr>\n",
              "    <tr>\n",
              "      <th>9986921047</th>\n",
              "      <td>167</td>\n",
              "      <td>5</td>\n",
              "    </tr>\n",
              "  </tbody>\n",
              "</table>\n",
              "<p>2606 rows × 2 columns</p>\n",
              "</div>\n",
              "      <button class=\"colab-df-convert\" onclick=\"convertToInteractive('df-3213438d-32e9-4322-a950-22d075ad3e70')\"\n",
              "              title=\"Convert this dataframe to an interactive table.\"\n",
              "              style=\"display:none;\">\n",
              "        \n",
              "  <svg xmlns=\"http://www.w3.org/2000/svg\" height=\"24px\"viewBox=\"0 0 24 24\"\n",
              "       width=\"24px\">\n",
              "    <path d=\"M0 0h24v24H0V0z\" fill=\"none\"/>\n",
              "    <path d=\"M18.56 5.44l.94 2.06.94-2.06 2.06-.94-2.06-.94-.94-2.06-.94 2.06-2.06.94zm-11 1L8.5 8.5l.94-2.06 2.06-.94-2.06-.94L8.5 2.5l-.94 2.06-2.06.94zm10 10l.94 2.06.94-2.06 2.06-.94-2.06-.94-.94-2.06-.94 2.06-2.06.94z\"/><path d=\"M17.41 7.96l-1.37-1.37c-.4-.4-.92-.59-1.43-.59-.52 0-1.04.2-1.43.59L10.3 9.45l-7.72 7.72c-.78.78-.78 2.05 0 2.83L4 21.41c.39.39.9.59 1.41.59.51 0 1.02-.2 1.41-.59l7.78-7.78 2.81-2.81c.8-.78.8-2.07 0-2.86zM5.41 20L4 18.59l7.72-7.72 1.47 1.35L5.41 20z\"/>\n",
              "  </svg>\n",
              "      </button>\n",
              "      \n",
              "  <style>\n",
              "    .colab-df-container {\n",
              "      display:flex;\n",
              "      flex-wrap:wrap;\n",
              "      gap: 12px;\n",
              "    }\n",
              "\n",
              "    .colab-df-convert {\n",
              "      background-color: #E8F0FE;\n",
              "      border: none;\n",
              "      border-radius: 50%;\n",
              "      cursor: pointer;\n",
              "      display: none;\n",
              "      fill: #1967D2;\n",
              "      height: 32px;\n",
              "      padding: 0 0 0 0;\n",
              "      width: 32px;\n",
              "    }\n",
              "\n",
              "    .colab-df-convert:hover {\n",
              "      background-color: #E2EBFA;\n",
              "      box-shadow: 0px 1px 2px rgba(60, 64, 67, 0.3), 0px 1px 3px 1px rgba(60, 64, 67, 0.15);\n",
              "      fill: #174EA6;\n",
              "    }\n",
              "\n",
              "    [theme=dark] .colab-df-convert {\n",
              "      background-color: #3B4455;\n",
              "      fill: #D2E3FC;\n",
              "    }\n",
              "\n",
              "    [theme=dark] .colab-df-convert:hover {\n",
              "      background-color: #434B5C;\n",
              "      box-shadow: 0px 1px 3px 1px rgba(0, 0, 0, 0.15);\n",
              "      filter: drop-shadow(0px 1px 2px rgba(0, 0, 0, 0.3));\n",
              "      fill: #FFFFFF;\n",
              "    }\n",
              "  </style>\n",
              "\n",
              "      <script>\n",
              "        const buttonEl =\n",
              "          document.querySelector('#df-3213438d-32e9-4322-a950-22d075ad3e70 button.colab-df-convert');\n",
              "        buttonEl.style.display =\n",
              "          google.colab.kernel.accessAllowed ? 'block' : 'none';\n",
              "\n",
              "        async function convertToInteractive(key) {\n",
              "          const element = document.querySelector('#df-3213438d-32e9-4322-a950-22d075ad3e70');\n",
              "          const dataTable =\n",
              "            await google.colab.kernel.invokeFunction('convertToInteractive',\n",
              "                                                     [key], {});\n",
              "          if (!dataTable) return;\n",
              "\n",
              "          const docLinkHtml = 'Like what you see? Visit the ' +\n",
              "            '<a target=\"_blank\" href=https://colab.research.google.com/notebooks/data_table.ipynb>data table notebook</a>'\n",
              "            + ' to learn more about interactive tables.';\n",
              "          element.innerHTML = '';\n",
              "          dataTable['output_type'] = 'display_data';\n",
              "          await google.colab.output.renderOutput(dataTable, element);\n",
              "          const docLink = document.createElement('div');\n",
              "          docLink.innerHTML = docLinkHtml;\n",
              "          element.appendChild(docLink);\n",
              "        }\n",
              "      </script>\n",
              "    </div>\n",
              "  </div>\n",
              "  "
            ]
          },
          "metadata": {},
          "execution_count": 269
        }
      ]
    },
    {
      "cell_type": "code",
      "source": [
        "rfm_df = temp_df.merge(monetary_df,on='id')\n",
        "\n",
        "rfm_df.set_index('id',inplace=True)\n",
        "\n",
        "rfm_df.head()\n",
        "rfm_df.to_csv('rfm_df.csv') #saving rfm data to csv for further analysis "
      ],
      "metadata": {
        "id": "LTV9Sf0t8zMM"
      },
      "execution_count": 270,
      "outputs": []
    },
    {
      "cell_type": "code",
      "source": [
        "rfm_df"
      ],
      "metadata": {
        "colab": {
          "base_uri": "https://localhost:8080/",
          "height": 455
        },
        "id": "fIkfJjVkfZEm",
        "outputId": "0673611e-d027-40dc-e133-9e912ad8d008"
      },
      "execution_count": 271,
      "outputs": [
        {
          "output_type": "execute_result",
          "data": {
            "text/plain": [
              "            Recency  Frequency    Monetary\n",
              "id                                        \n",
              "1001772396      941          2    205.1500\n",
              "1004398895     1136          1    496.1500\n",
              "1005295963       89          3   2490.3000\n",
              "1018688725      480          5  10972.1015\n",
              "1018994080       44          2  14470.6800\n",
              "...             ...        ...         ...\n",
              "9969596156      516          2   2171.7350\n",
              "9971307432      871          1     12.8000\n",
              "9983031996      110          2  26225.7915\n",
              "9986718355     1143          1    473.7000\n",
              "9986921047      167          5  10313.8110\n",
              "\n",
              "[2606 rows x 3 columns]"
            ],
            "text/html": [
              "\n",
              "  <div id=\"df-4311c5f9-3fae-4990-945d-64fd134efc80\">\n",
              "    <div class=\"colab-df-container\">\n",
              "      <div>\n",
              "<style scoped>\n",
              "    .dataframe tbody tr th:only-of-type {\n",
              "        vertical-align: middle;\n",
              "    }\n",
              "\n",
              "    .dataframe tbody tr th {\n",
              "        vertical-align: top;\n",
              "    }\n",
              "\n",
              "    .dataframe thead th {\n",
              "        text-align: right;\n",
              "    }\n",
              "</style>\n",
              "<table border=\"1\" class=\"dataframe\">\n",
              "  <thead>\n",
              "    <tr style=\"text-align: right;\">\n",
              "      <th></th>\n",
              "      <th>Recency</th>\n",
              "      <th>Frequency</th>\n",
              "      <th>Monetary</th>\n",
              "    </tr>\n",
              "    <tr>\n",
              "      <th>id</th>\n",
              "      <th></th>\n",
              "      <th></th>\n",
              "      <th></th>\n",
              "    </tr>\n",
              "  </thead>\n",
              "  <tbody>\n",
              "    <tr>\n",
              "      <th>1001772396</th>\n",
              "      <td>941</td>\n",
              "      <td>2</td>\n",
              "      <td>205.1500</td>\n",
              "    </tr>\n",
              "    <tr>\n",
              "      <th>1004398895</th>\n",
              "      <td>1136</td>\n",
              "      <td>1</td>\n",
              "      <td>496.1500</td>\n",
              "    </tr>\n",
              "    <tr>\n",
              "      <th>1005295963</th>\n",
              "      <td>89</td>\n",
              "      <td>3</td>\n",
              "      <td>2490.3000</td>\n",
              "    </tr>\n",
              "    <tr>\n",
              "      <th>1018688725</th>\n",
              "      <td>480</td>\n",
              "      <td>5</td>\n",
              "      <td>10972.1015</td>\n",
              "    </tr>\n",
              "    <tr>\n",
              "      <th>1018994080</th>\n",
              "      <td>44</td>\n",
              "      <td>2</td>\n",
              "      <td>14470.6800</td>\n",
              "    </tr>\n",
              "    <tr>\n",
              "      <th>...</th>\n",
              "      <td>...</td>\n",
              "      <td>...</td>\n",
              "      <td>...</td>\n",
              "    </tr>\n",
              "    <tr>\n",
              "      <th>9969596156</th>\n",
              "      <td>516</td>\n",
              "      <td>2</td>\n",
              "      <td>2171.7350</td>\n",
              "    </tr>\n",
              "    <tr>\n",
              "      <th>9971307432</th>\n",
              "      <td>871</td>\n",
              "      <td>1</td>\n",
              "      <td>12.8000</td>\n",
              "    </tr>\n",
              "    <tr>\n",
              "      <th>9983031996</th>\n",
              "      <td>110</td>\n",
              "      <td>2</td>\n",
              "      <td>26225.7915</td>\n",
              "    </tr>\n",
              "    <tr>\n",
              "      <th>9986718355</th>\n",
              "      <td>1143</td>\n",
              "      <td>1</td>\n",
              "      <td>473.7000</td>\n",
              "    </tr>\n",
              "    <tr>\n",
              "      <th>9986921047</th>\n",
              "      <td>167</td>\n",
              "      <td>5</td>\n",
              "      <td>10313.8110</td>\n",
              "    </tr>\n",
              "  </tbody>\n",
              "</table>\n",
              "<p>2606 rows × 3 columns</p>\n",
              "</div>\n",
              "      <button class=\"colab-df-convert\" onclick=\"convertToInteractive('df-4311c5f9-3fae-4990-945d-64fd134efc80')\"\n",
              "              title=\"Convert this dataframe to an interactive table.\"\n",
              "              style=\"display:none;\">\n",
              "        \n",
              "  <svg xmlns=\"http://www.w3.org/2000/svg\" height=\"24px\"viewBox=\"0 0 24 24\"\n",
              "       width=\"24px\">\n",
              "    <path d=\"M0 0h24v24H0V0z\" fill=\"none\"/>\n",
              "    <path d=\"M18.56 5.44l.94 2.06.94-2.06 2.06-.94-2.06-.94-.94-2.06-.94 2.06-2.06.94zm-11 1L8.5 8.5l.94-2.06 2.06-.94-2.06-.94L8.5 2.5l-.94 2.06-2.06.94zm10 10l.94 2.06.94-2.06 2.06-.94-2.06-.94-.94-2.06-.94 2.06-2.06.94z\"/><path d=\"M17.41 7.96l-1.37-1.37c-.4-.4-.92-.59-1.43-.59-.52 0-1.04.2-1.43.59L10.3 9.45l-7.72 7.72c-.78.78-.78 2.05 0 2.83L4 21.41c.39.39.9.59 1.41.59.51 0 1.02-.2 1.41-.59l7.78-7.78 2.81-2.81c.8-.78.8-2.07 0-2.86zM5.41 20L4 18.59l7.72-7.72 1.47 1.35L5.41 20z\"/>\n",
              "  </svg>\n",
              "      </button>\n",
              "      \n",
              "  <style>\n",
              "    .colab-df-container {\n",
              "      display:flex;\n",
              "      flex-wrap:wrap;\n",
              "      gap: 12px;\n",
              "    }\n",
              "\n",
              "    .colab-df-convert {\n",
              "      background-color: #E8F0FE;\n",
              "      border: none;\n",
              "      border-radius: 50%;\n",
              "      cursor: pointer;\n",
              "      display: none;\n",
              "      fill: #1967D2;\n",
              "      height: 32px;\n",
              "      padding: 0 0 0 0;\n",
              "      width: 32px;\n",
              "    }\n",
              "\n",
              "    .colab-df-convert:hover {\n",
              "      background-color: #E2EBFA;\n",
              "      box-shadow: 0px 1px 2px rgba(60, 64, 67, 0.3), 0px 1px 3px 1px rgba(60, 64, 67, 0.15);\n",
              "      fill: #174EA6;\n",
              "    }\n",
              "\n",
              "    [theme=dark] .colab-df-convert {\n",
              "      background-color: #3B4455;\n",
              "      fill: #D2E3FC;\n",
              "    }\n",
              "\n",
              "    [theme=dark] .colab-df-convert:hover {\n",
              "      background-color: #434B5C;\n",
              "      box-shadow: 0px 1px 3px 1px rgba(0, 0, 0, 0.15);\n",
              "      filter: drop-shadow(0px 1px 2px rgba(0, 0, 0, 0.3));\n",
              "      fill: #FFFFFF;\n",
              "    }\n",
              "  </style>\n",
              "\n",
              "      <script>\n",
              "        const buttonEl =\n",
              "          document.querySelector('#df-4311c5f9-3fae-4990-945d-64fd134efc80 button.colab-df-convert');\n",
              "        buttonEl.style.display =\n",
              "          google.colab.kernel.accessAllowed ? 'block' : 'none';\n",
              "\n",
              "        async function convertToInteractive(key) {\n",
              "          const element = document.querySelector('#df-4311c5f9-3fae-4990-945d-64fd134efc80');\n",
              "          const dataTable =\n",
              "            await google.colab.kernel.invokeFunction('convertToInteractive',\n",
              "                                                     [key], {});\n",
              "          if (!dataTable) return;\n",
              "\n",
              "          const docLinkHtml = 'Like what you see? Visit the ' +\n",
              "            '<a target=\"_blank\" href=https://colab.research.google.com/notebooks/data_table.ipynb>data table notebook</a>'\n",
              "            + ' to learn more about interactive tables.';\n",
              "          element.innerHTML = '';\n",
              "          dataTable['output_type'] = 'display_data';\n",
              "          await google.colab.output.renderOutput(dataTable, element);\n",
              "          const docLink = document.createElement('div');\n",
              "          docLink.innerHTML = docLinkHtml;\n",
              "          element.appendChild(docLink);\n",
              "        }\n",
              "      </script>\n",
              "    </div>\n",
              "  </div>\n",
              "  "
            ]
          },
          "metadata": {},
          "execution_count": 271
        }
      ]
    },
    {
      "cell_type": "code",
      "source": [
        "quintiles = rfm_df[['Recency', 'Frequency', 'Monetary']].quantile([.2, .4, .6, .8]).to_dict()\n",
        "quintiles #creating quintiles to do RFM analysis"
      ],
      "metadata": {
        "colab": {
          "base_uri": "https://localhost:8080/"
        },
        "id": "v9ohlHQD_77C",
        "outputId": "a4287824-e749-4e53-a66e-176dac254a38"
      },
      "execution_count": 272,
      "outputs": [
        {
          "output_type": "execute_result",
          "data": {
            "text/plain": [
              "{'Recency': {0.2: 134.0, 0.4: 304.0, 0.6: 536.0, 0.8: 886.0},\n",
              " 'Frequency': {0.2: 1.0, 0.4: 1.0, 0.6: 3.0, 0.8: 4.0},\n",
              " 'Monetary': {0.2: 430.41,\n",
              "  0.4: 1731.104,\n",
              "  0.6: 4453.61,\n",
              "  0.8: 9481.265500000001}}"
            ]
          },
          "metadata": {},
          "execution_count": 272
        }
      ]
    },
    {
      "cell_type": "code",
      "source": [
        "def r_score(x):\n",
        "    if x <= quintiles['Recency'][.2]:\n",
        "        return 5\n",
        "    elif x <= quintiles['Recency'][.4]:\n",
        "        return 4\n",
        "    elif x <= quintiles['Recency'][.6]:\n",
        "        return 3\n",
        "    elif x <= quintiles['Recency'][.8]:\n",
        "        return 2\n",
        "    else:\n",
        "        return 1\n",
        "    \n",
        "def fm_score(x, c):\n",
        "    if x <= quintiles[c][.2]:\n",
        "        return 1\n",
        "    elif x <= quintiles[c][.4]:\n",
        "        return 2\n",
        "    elif x <= quintiles[c][.6]:\n",
        "        return 3\n",
        "    elif x <= quintiles[c][.8]:\n",
        "        return 4\n",
        "    else:\n",
        "        return 5 "
      ],
      "metadata": {
        "id": "6XH23RnIDpgC"
      },
      "execution_count": 273,
      "outputs": []
    },
    {
      "cell_type": "code",
      "source": [
        "rfm_df['R'] = rfm_df['Recency'].apply(lambda x: r_score(x))\n",
        "rfm_df['F'] =rfm_df['Frequency'].apply(lambda x: fm_score(x, 'Frequency'))\n",
        "rfm_df['M'] = rfm_df['Monetary'].apply(lambda x: fm_score(x, 'Monetary'))"
      ],
      "metadata": {
        "id": "ZFTTPev8DuUF"
      },
      "execution_count": 274,
      "outputs": []
    },
    {
      "cell_type": "code",
      "source": [
        "rfm_df['RFM_Score'] = rfm_df['R'].map(str) + rfm_df['F'].map(str) + rfm_df['M'].map(str)\n",
        "rfm_df.head()"
      ],
      "metadata": {
        "colab": {
          "base_uri": "https://localhost:8080/",
          "height": 238
        },
        "id": "r3nGuFVxDws9",
        "outputId": "022644b2-46d9-4cd4-8af0-97a835324625"
      },
      "execution_count": 275,
      "outputs": [
        {
          "output_type": "execute_result",
          "data": {
            "text/plain": [
              "            Recency  Frequency    Monetary  R  F  M RFM_Score\n",
              "id                                                           \n",
              "1001772396      941          2    205.1500  1  3  1       131\n",
              "1004398895     1136          1    496.1500  1  1  2       112\n",
              "1005295963       89          3   2490.3000  5  3  3       533\n",
              "1018688725      480          5  10972.1015  3  5  5       355\n",
              "1018994080       44          2  14470.6800  5  3  5       535"
            ],
            "text/html": [
              "\n",
              "  <div id=\"df-d081f79e-bdab-4edd-b278-0183614cec3c\">\n",
              "    <div class=\"colab-df-container\">\n",
              "      <div>\n",
              "<style scoped>\n",
              "    .dataframe tbody tr th:only-of-type {\n",
              "        vertical-align: middle;\n",
              "    }\n",
              "\n",
              "    .dataframe tbody tr th {\n",
              "        vertical-align: top;\n",
              "    }\n",
              "\n",
              "    .dataframe thead th {\n",
              "        text-align: right;\n",
              "    }\n",
              "</style>\n",
              "<table border=\"1\" class=\"dataframe\">\n",
              "  <thead>\n",
              "    <tr style=\"text-align: right;\">\n",
              "      <th></th>\n",
              "      <th>Recency</th>\n",
              "      <th>Frequency</th>\n",
              "      <th>Monetary</th>\n",
              "      <th>R</th>\n",
              "      <th>F</th>\n",
              "      <th>M</th>\n",
              "      <th>RFM_Score</th>\n",
              "    </tr>\n",
              "    <tr>\n",
              "      <th>id</th>\n",
              "      <th></th>\n",
              "      <th></th>\n",
              "      <th></th>\n",
              "      <th></th>\n",
              "      <th></th>\n",
              "      <th></th>\n",
              "      <th></th>\n",
              "    </tr>\n",
              "  </thead>\n",
              "  <tbody>\n",
              "    <tr>\n",
              "      <th>1001772396</th>\n",
              "      <td>941</td>\n",
              "      <td>2</td>\n",
              "      <td>205.1500</td>\n",
              "      <td>1</td>\n",
              "      <td>3</td>\n",
              "      <td>1</td>\n",
              "      <td>131</td>\n",
              "    </tr>\n",
              "    <tr>\n",
              "      <th>1004398895</th>\n",
              "      <td>1136</td>\n",
              "      <td>1</td>\n",
              "      <td>496.1500</td>\n",
              "      <td>1</td>\n",
              "      <td>1</td>\n",
              "      <td>2</td>\n",
              "      <td>112</td>\n",
              "    </tr>\n",
              "    <tr>\n",
              "      <th>1005295963</th>\n",
              "      <td>89</td>\n",
              "      <td>3</td>\n",
              "      <td>2490.3000</td>\n",
              "      <td>5</td>\n",
              "      <td>3</td>\n",
              "      <td>3</td>\n",
              "      <td>533</td>\n",
              "    </tr>\n",
              "    <tr>\n",
              "      <th>1018688725</th>\n",
              "      <td>480</td>\n",
              "      <td>5</td>\n",
              "      <td>10972.1015</td>\n",
              "      <td>3</td>\n",
              "      <td>5</td>\n",
              "      <td>5</td>\n",
              "      <td>355</td>\n",
              "    </tr>\n",
              "    <tr>\n",
              "      <th>1018994080</th>\n",
              "      <td>44</td>\n",
              "      <td>2</td>\n",
              "      <td>14470.6800</td>\n",
              "      <td>5</td>\n",
              "      <td>3</td>\n",
              "      <td>5</td>\n",
              "      <td>535</td>\n",
              "    </tr>\n",
              "  </tbody>\n",
              "</table>\n",
              "</div>\n",
              "      <button class=\"colab-df-convert\" onclick=\"convertToInteractive('df-d081f79e-bdab-4edd-b278-0183614cec3c')\"\n",
              "              title=\"Convert this dataframe to an interactive table.\"\n",
              "              style=\"display:none;\">\n",
              "        \n",
              "  <svg xmlns=\"http://www.w3.org/2000/svg\" height=\"24px\"viewBox=\"0 0 24 24\"\n",
              "       width=\"24px\">\n",
              "    <path d=\"M0 0h24v24H0V0z\" fill=\"none\"/>\n",
              "    <path d=\"M18.56 5.44l.94 2.06.94-2.06 2.06-.94-2.06-.94-.94-2.06-.94 2.06-2.06.94zm-11 1L8.5 8.5l.94-2.06 2.06-.94-2.06-.94L8.5 2.5l-.94 2.06-2.06.94zm10 10l.94 2.06.94-2.06 2.06-.94-2.06-.94-.94-2.06-.94 2.06-2.06.94z\"/><path d=\"M17.41 7.96l-1.37-1.37c-.4-.4-.92-.59-1.43-.59-.52 0-1.04.2-1.43.59L10.3 9.45l-7.72 7.72c-.78.78-.78 2.05 0 2.83L4 21.41c.39.39.9.59 1.41.59.51 0 1.02-.2 1.41-.59l7.78-7.78 2.81-2.81c.8-.78.8-2.07 0-2.86zM5.41 20L4 18.59l7.72-7.72 1.47 1.35L5.41 20z\"/>\n",
              "  </svg>\n",
              "      </button>\n",
              "      \n",
              "  <style>\n",
              "    .colab-df-container {\n",
              "      display:flex;\n",
              "      flex-wrap:wrap;\n",
              "      gap: 12px;\n",
              "    }\n",
              "\n",
              "    .colab-df-convert {\n",
              "      background-color: #E8F0FE;\n",
              "      border: none;\n",
              "      border-radius: 50%;\n",
              "      cursor: pointer;\n",
              "      display: none;\n",
              "      fill: #1967D2;\n",
              "      height: 32px;\n",
              "      padding: 0 0 0 0;\n",
              "      width: 32px;\n",
              "    }\n",
              "\n",
              "    .colab-df-convert:hover {\n",
              "      background-color: #E2EBFA;\n",
              "      box-shadow: 0px 1px 2px rgba(60, 64, 67, 0.3), 0px 1px 3px 1px rgba(60, 64, 67, 0.15);\n",
              "      fill: #174EA6;\n",
              "    }\n",
              "\n",
              "    [theme=dark] .colab-df-convert {\n",
              "      background-color: #3B4455;\n",
              "      fill: #D2E3FC;\n",
              "    }\n",
              "\n",
              "    [theme=dark] .colab-df-convert:hover {\n",
              "      background-color: #434B5C;\n",
              "      box-shadow: 0px 1px 3px 1px rgba(0, 0, 0, 0.15);\n",
              "      filter: drop-shadow(0px 1px 2px rgba(0, 0, 0, 0.3));\n",
              "      fill: #FFFFFF;\n",
              "    }\n",
              "  </style>\n",
              "\n",
              "      <script>\n",
              "        const buttonEl =\n",
              "          document.querySelector('#df-d081f79e-bdab-4edd-b278-0183614cec3c button.colab-df-convert');\n",
              "        buttonEl.style.display =\n",
              "          google.colab.kernel.accessAllowed ? 'block' : 'none';\n",
              "\n",
              "        async function convertToInteractive(key) {\n",
              "          const element = document.querySelector('#df-d081f79e-bdab-4edd-b278-0183614cec3c');\n",
              "          const dataTable =\n",
              "            await google.colab.kernel.invokeFunction('convertToInteractive',\n",
              "                                                     [key], {});\n",
              "          if (!dataTable) return;\n",
              "\n",
              "          const docLinkHtml = 'Like what you see? Visit the ' +\n",
              "            '<a target=\"_blank\" href=https://colab.research.google.com/notebooks/data_table.ipynb>data table notebook</a>'\n",
              "            + ' to learn more about interactive tables.';\n",
              "          element.innerHTML = '';\n",
              "          dataTable['output_type'] = 'display_data';\n",
              "          await google.colab.output.renderOutput(dataTable, element);\n",
              "          const docLink = document.createElement('div');\n",
              "          docLink.innerHTML = docLinkHtml;\n",
              "          element.appendChild(docLink);\n",
              "        }\n",
              "      </script>\n",
              "    </div>\n",
              "  </div>\n",
              "  "
            ]
          },
          "metadata": {},
          "execution_count": 275
        }
      ]
    },
    {
      "cell_type": "code",
      "source": [
        "segments = {\n",
        "    '[1-2][1-4]': 'at risk',\n",
        "    '[1-2]5': 'can\\'t loose',\n",
        "    '3[1-3]': 'needs attention',\n",
        "    '[3-4][4-5]': 'loyal customers',\n",
        "    '[4-5]1': 'new customers',\n",
        "    '[4-5][2-5]': 'champions'\n",
        "    \n",
        "}\n",
        "\n",
        "rfm_df['Segment'] = rfm_df['R'].map(str) + rfm_df['F'].map(str)\n",
        "rfm_df['Segment'] = rfm_df['Segment'].replace(segments, regex=True)\n",
        "rfm_df.head()"
      ],
      "metadata": {
        "colab": {
          "base_uri": "https://localhost:8080/",
          "height": 238
        },
        "id": "dHZNRrENDz-h",
        "outputId": "8a92baff-d5c3-48b4-f38f-fa9bc4dd5d19"
      },
      "execution_count": 276,
      "outputs": [
        {
          "output_type": "execute_result",
          "data": {
            "text/plain": [
              "            Recency  Frequency    Monetary  R  F  M RFM_Score          Segment\n",
              "id                                                                            \n",
              "1001772396      941          2    205.1500  1  3  1       131          at risk\n",
              "1004398895     1136          1    496.1500  1  1  2       112          at risk\n",
              "1005295963       89          3   2490.3000  5  3  3       533        champions\n",
              "1018688725      480          5  10972.1015  3  5  5       355  loyal customers\n",
              "1018994080       44          2  14470.6800  5  3  5       535        champions"
            ],
            "text/html": [
              "\n",
              "  <div id=\"df-cb285b35-8149-4365-ae87-d976378a1c7f\">\n",
              "    <div class=\"colab-df-container\">\n",
              "      <div>\n",
              "<style scoped>\n",
              "    .dataframe tbody tr th:only-of-type {\n",
              "        vertical-align: middle;\n",
              "    }\n",
              "\n",
              "    .dataframe tbody tr th {\n",
              "        vertical-align: top;\n",
              "    }\n",
              "\n",
              "    .dataframe thead th {\n",
              "        text-align: right;\n",
              "    }\n",
              "</style>\n",
              "<table border=\"1\" class=\"dataframe\">\n",
              "  <thead>\n",
              "    <tr style=\"text-align: right;\">\n",
              "      <th></th>\n",
              "      <th>Recency</th>\n",
              "      <th>Frequency</th>\n",
              "      <th>Monetary</th>\n",
              "      <th>R</th>\n",
              "      <th>F</th>\n",
              "      <th>M</th>\n",
              "      <th>RFM_Score</th>\n",
              "      <th>Segment</th>\n",
              "    </tr>\n",
              "    <tr>\n",
              "      <th>id</th>\n",
              "      <th></th>\n",
              "      <th></th>\n",
              "      <th></th>\n",
              "      <th></th>\n",
              "      <th></th>\n",
              "      <th></th>\n",
              "      <th></th>\n",
              "      <th></th>\n",
              "    </tr>\n",
              "  </thead>\n",
              "  <tbody>\n",
              "    <tr>\n",
              "      <th>1001772396</th>\n",
              "      <td>941</td>\n",
              "      <td>2</td>\n",
              "      <td>205.1500</td>\n",
              "      <td>1</td>\n",
              "      <td>3</td>\n",
              "      <td>1</td>\n",
              "      <td>131</td>\n",
              "      <td>at risk</td>\n",
              "    </tr>\n",
              "    <tr>\n",
              "      <th>1004398895</th>\n",
              "      <td>1136</td>\n",
              "      <td>1</td>\n",
              "      <td>496.1500</td>\n",
              "      <td>1</td>\n",
              "      <td>1</td>\n",
              "      <td>2</td>\n",
              "      <td>112</td>\n",
              "      <td>at risk</td>\n",
              "    </tr>\n",
              "    <tr>\n",
              "      <th>1005295963</th>\n",
              "      <td>89</td>\n",
              "      <td>3</td>\n",
              "      <td>2490.3000</td>\n",
              "      <td>5</td>\n",
              "      <td>3</td>\n",
              "      <td>3</td>\n",
              "      <td>533</td>\n",
              "      <td>champions</td>\n",
              "    </tr>\n",
              "    <tr>\n",
              "      <th>1018688725</th>\n",
              "      <td>480</td>\n",
              "      <td>5</td>\n",
              "      <td>10972.1015</td>\n",
              "      <td>3</td>\n",
              "      <td>5</td>\n",
              "      <td>5</td>\n",
              "      <td>355</td>\n",
              "      <td>loyal customers</td>\n",
              "    </tr>\n",
              "    <tr>\n",
              "      <th>1018994080</th>\n",
              "      <td>44</td>\n",
              "      <td>2</td>\n",
              "      <td>14470.6800</td>\n",
              "      <td>5</td>\n",
              "      <td>3</td>\n",
              "      <td>5</td>\n",
              "      <td>535</td>\n",
              "      <td>champions</td>\n",
              "    </tr>\n",
              "  </tbody>\n",
              "</table>\n",
              "</div>\n",
              "      <button class=\"colab-df-convert\" onclick=\"convertToInteractive('df-cb285b35-8149-4365-ae87-d976378a1c7f')\"\n",
              "              title=\"Convert this dataframe to an interactive table.\"\n",
              "              style=\"display:none;\">\n",
              "        \n",
              "  <svg xmlns=\"http://www.w3.org/2000/svg\" height=\"24px\"viewBox=\"0 0 24 24\"\n",
              "       width=\"24px\">\n",
              "    <path d=\"M0 0h24v24H0V0z\" fill=\"none\"/>\n",
              "    <path d=\"M18.56 5.44l.94 2.06.94-2.06 2.06-.94-2.06-.94-.94-2.06-.94 2.06-2.06.94zm-11 1L8.5 8.5l.94-2.06 2.06-.94-2.06-.94L8.5 2.5l-.94 2.06-2.06.94zm10 10l.94 2.06.94-2.06 2.06-.94-2.06-.94-.94-2.06-.94 2.06-2.06.94z\"/><path d=\"M17.41 7.96l-1.37-1.37c-.4-.4-.92-.59-1.43-.59-.52 0-1.04.2-1.43.59L10.3 9.45l-7.72 7.72c-.78.78-.78 2.05 0 2.83L4 21.41c.39.39.9.59 1.41.59.51 0 1.02-.2 1.41-.59l7.78-7.78 2.81-2.81c.8-.78.8-2.07 0-2.86zM5.41 20L4 18.59l7.72-7.72 1.47 1.35L5.41 20z\"/>\n",
              "  </svg>\n",
              "      </button>\n",
              "      \n",
              "  <style>\n",
              "    .colab-df-container {\n",
              "      display:flex;\n",
              "      flex-wrap:wrap;\n",
              "      gap: 12px;\n",
              "    }\n",
              "\n",
              "    .colab-df-convert {\n",
              "      background-color: #E8F0FE;\n",
              "      border: none;\n",
              "      border-radius: 50%;\n",
              "      cursor: pointer;\n",
              "      display: none;\n",
              "      fill: #1967D2;\n",
              "      height: 32px;\n",
              "      padding: 0 0 0 0;\n",
              "      width: 32px;\n",
              "    }\n",
              "\n",
              "    .colab-df-convert:hover {\n",
              "      background-color: #E2EBFA;\n",
              "      box-shadow: 0px 1px 2px rgba(60, 64, 67, 0.3), 0px 1px 3px 1px rgba(60, 64, 67, 0.15);\n",
              "      fill: #174EA6;\n",
              "    }\n",
              "\n",
              "    [theme=dark] .colab-df-convert {\n",
              "      background-color: #3B4455;\n",
              "      fill: #D2E3FC;\n",
              "    }\n",
              "\n",
              "    [theme=dark] .colab-df-convert:hover {\n",
              "      background-color: #434B5C;\n",
              "      box-shadow: 0px 1px 3px 1px rgba(0, 0, 0, 0.15);\n",
              "      filter: drop-shadow(0px 1px 2px rgba(0, 0, 0, 0.3));\n",
              "      fill: #FFFFFF;\n",
              "    }\n",
              "  </style>\n",
              "\n",
              "      <script>\n",
              "        const buttonEl =\n",
              "          document.querySelector('#df-cb285b35-8149-4365-ae87-d976378a1c7f button.colab-df-convert');\n",
              "        buttonEl.style.display =\n",
              "          google.colab.kernel.accessAllowed ? 'block' : 'none';\n",
              "\n",
              "        async function convertToInteractive(key) {\n",
              "          const element = document.querySelector('#df-cb285b35-8149-4365-ae87-d976378a1c7f');\n",
              "          const dataTable =\n",
              "            await google.colab.kernel.invokeFunction('convertToInteractive',\n",
              "                                                     [key], {});\n",
              "          if (!dataTable) return;\n",
              "\n",
              "          const docLinkHtml = 'Like what you see? Visit the ' +\n",
              "            '<a target=\"_blank\" href=https://colab.research.google.com/notebooks/data_table.ipynb>data table notebook</a>'\n",
              "            + ' to learn more about interactive tables.';\n",
              "          element.innerHTML = '';\n",
              "          dataTable['output_type'] = 'display_data';\n",
              "          await google.colab.output.renderOutput(dataTable, element);\n",
              "          const docLink = document.createElement('div');\n",
              "          docLink.innerHTML = docLinkHtml;\n",
              "          element.appendChild(docLink);\n",
              "        }\n",
              "      </script>\n",
              "    </div>\n",
              "  </div>\n",
              "  "
            ]
          },
          "metadata": {},
          "execution_count": 276
        }
      ]
    },
    {
      "cell_type": "code",
      "source": [
        "# count the number of customers in each segment\n",
        "segments_counts = rfm_df['Segment'].value_counts().sort_values(ascending=True)\n",
        "segments_counts"
      ],
      "metadata": {
        "colab": {
          "base_uri": "https://localhost:8080/"
        },
        "id": "PjWv2wAXZdEX",
        "outputId": "174730d0-9064-4f65-a064-66c6ed83b4e1"
      },
      "execution_count": 277,
      "outputs": [
        {
          "output_type": "execute_result",
          "data": {
            "text/plain": [
              "can't loose          33\n",
              "new customers       206\n",
              "loyal customers     329\n",
              "needs attention     397\n",
              "champions           634\n",
              "at risk            1007\n",
              "Name: Segment, dtype: int64"
            ]
          },
          "metadata": {},
          "execution_count": 277
        }
      ]
    },
    {
      "cell_type": "code",
      "source": [
        "rfm_df['RFM_Score'].astype('int')"
      ],
      "metadata": {
        "colab": {
          "base_uri": "https://localhost:8080/"
        },
        "id": "xPZlPglnb9cc",
        "outputId": "90761a67-8f48-46e3-bf35-42f788355751"
      },
      "execution_count": 278,
      "outputs": [
        {
          "output_type": "execute_result",
          "data": {
            "text/plain": [
              "id\n",
              "1001772396    131\n",
              "1004398895    112\n",
              "1005295963    533\n",
              "1018688725    355\n",
              "1018994080    535\n",
              "             ... \n",
              "9969596156    333\n",
              "9971307432    211\n",
              "9983031996    535\n",
              "9986718355    112\n",
              "9986921047    455\n",
              "Name: RFM_Score, Length: 2606, dtype: int64"
            ]
          },
          "metadata": {},
          "execution_count": 278
        }
      ]
    },
    {
      "cell_type": "code",
      "source": [
        "# Distribution of Segments\n",
        "fig, ax = plt.subplots()\n",
        "\n",
        "bars = ax.barh(range(len(segments_counts)),\n",
        "              segments_counts,\n",
        "              color='gray')\n",
        "ax.set_frame_on(False)\n",
        "ax.tick_params(left=False,\n",
        "               bottom=False,\n",
        "               labelbottom=False)\n",
        "ax.set_yticks(range(len(segments_counts)))\n",
        "ax.set_yticklabels(segments_counts.index)\n",
        "\n",
        "for i, bar in enumerate(bars):\n",
        "        value = bar.get_width()\n",
        "        if segments_counts.index[i] in ['champions', 'loyal customers']:\n",
        "            bar.set_color('green')\n",
        "        ax.text(value,\n",
        "                bar.get_y() + bar.get_height()/2,\n",
        "                '{:,} ({:}%)'.format(int(value),\n",
        "                                   int(value*100/segments_counts.sum())),\n",
        "                va='center',\n",
        "                ha='left'\n",
        "               )\n",
        "\n",
        "plt.show()"
      ],
      "metadata": {
        "colab": {
          "base_uri": "https://localhost:8080/",
          "height": 248
        },
        "id": "3gaHwEyHZw3e",
        "outputId": "b4d50f0d-dfe5-4c31-fe5a-3d3872916317"
      },
      "execution_count": 279,
      "outputs": [
        {
          "output_type": "display_data",
          "data": {
            "text/plain": [
              "<Figure size 432x288 with 1 Axes>"
            ],
            "image/png": "[encoded data removed]"
          },
          "metadata": {
            "needs_background": "light"
          }
        }
      ]
    },
    {
      "cell_type": "markdown",
      "source": [
        "According to the above graph, the majority of customers are vulnerable and require attention, hence Walmart needs to concentrate on them in order to boost sales. In addition, 24% of Walmart consumers are considered champions, which means that they are likely to spend a lot of money there. 12% of Walmart's consumers are devoted, which indicates they frequently make purchases there."
      ],
      "metadata": {
        "id": "-C3wMiivhfh6"
      }
    },
    {
      "cell_type": "code",
      "source": [
        "rfm = pd.read_csv('/content/rfm_df.csv', index_col ='id')"
      ],
      "metadata": {
        "id": "a8VqiSt3brSy"
      },
      "execution_count": 280,
      "outputs": []
    },
    {
      "cell_type": "code",
      "source": [
        "rfm"
      ],
      "metadata": {
        "colab": {
          "base_uri": "https://localhost:8080/",
          "height": 455
        },
        "id": "iHQm76dLf6pS",
        "outputId": "440d01c1-35fa-4265-e786-e5494d0e26c1"
      },
      "execution_count": 281,
      "outputs": [
        {
          "output_type": "execute_result",
          "data": {
            "text/plain": [
              "            Recency  Frequency    Monetary\n",
              "id                                        \n",
              "1001772396      941          2    205.1500\n",
              "1004398895     1136          1    496.1500\n",
              "1005295963       89          3   2490.3000\n",
              "1018688725      480          5  10972.1015\n",
              "1018994080       44          2  14470.6800\n",
              "...             ...        ...         ...\n",
              "9969596156      516          2   2171.7350\n",
              "9971307432      871          1     12.8000\n",
              "9983031996      110          2  26225.7915\n",
              "9986718355     1143          1    473.7000\n",
              "9986921047      167          5  10313.8110\n",
              "\n",
              "[2606 rows x 3 columns]"
            ],
            "text/html": [
              "\n",
              "  <div id=\"df-57dad9c6-8d34-4c0e-ab4a-30a96f08dd0d\">\n",
              "    <div class=\"colab-df-container\">\n",
              "      <div>\n",
              "<style scoped>\n",
              "    .dataframe tbody tr th:only-of-type {\n",
              "        vertical-align: middle;\n",
              "    }\n",
              "\n",
              "    .dataframe tbody tr th {\n",
              "        vertical-align: top;\n",
              "    }\n",
              "\n",
              "    .dataframe thead th {\n",
              "        text-align: right;\n",
              "    }\n",
              "</style>\n",
              "<table border=\"1\" class=\"dataframe\">\n",
              "  <thead>\n",
              "    <tr style=\"text-align: right;\">\n",
              "      <th></th>\n",
              "      <th>Recency</th>\n",
              "      <th>Frequency</th>\n",
              "      <th>Monetary</th>\n",
              "    </tr>\n",
              "    <tr>\n",
              "      <th>id</th>\n",
              "      <th></th>\n",
              "      <th></th>\n",
              "      <th></th>\n",
              "    </tr>\n",
              "  </thead>\n",
              "  <tbody>\n",
              "    <tr>\n",
              "      <th>1001772396</th>\n",
              "      <td>941</td>\n",
              "      <td>2</td>\n",
              "      <td>205.1500</td>\n",
              "    </tr>\n",
              "    <tr>\n",
              "      <th>1004398895</th>\n",
              "      <td>1136</td>\n",
              "      <td>1</td>\n",
              "      <td>496.1500</td>\n",
              "    </tr>\n",
              "    <tr>\n",
              "      <th>1005295963</th>\n",
              "      <td>89</td>\n",
              "      <td>3</td>\n",
              "      <td>2490.3000</td>\n",
              "    </tr>\n",
              "    <tr>\n",
              "      <th>1018688725</th>\n",
              "      <td>480</td>\n",
              "      <td>5</td>\n",
              "      <td>10972.1015</td>\n",
              "    </tr>\n",
              "    <tr>\n",
              "      <th>1018994080</th>\n",
              "      <td>44</td>\n",
              "      <td>2</td>\n",
              "      <td>14470.6800</td>\n",
              "    </tr>\n",
              "    <tr>\n",
              "      <th>...</th>\n",
              "      <td>...</td>\n",
              "      <td>...</td>\n",
              "      <td>...</td>\n",
              "    </tr>\n",
              "    <tr>\n",
              "      <th>9969596156</th>\n",
              "      <td>516</td>\n",
              "      <td>2</td>\n",
              "      <td>2171.7350</td>\n",
              "    </tr>\n",
              "    <tr>\n",
              "      <th>9971307432</th>\n",
              "      <td>871</td>\n",
              "      <td>1</td>\n",
              "      <td>12.8000</td>\n",
              "    </tr>\n",
              "    <tr>\n",
              "      <th>9983031996</th>\n",
              "      <td>110</td>\n",
              "      <td>2</td>\n",
              "      <td>26225.7915</td>\n",
              "    </tr>\n",
              "    <tr>\n",
              "      <th>9986718355</th>\n",
              "      <td>1143</td>\n",
              "      <td>1</td>\n",
              "      <td>473.7000</td>\n",
              "    </tr>\n",
              "    <tr>\n",
              "      <th>9986921047</th>\n",
              "      <td>167</td>\n",
              "      <td>5</td>\n",
              "      <td>10313.8110</td>\n",
              "    </tr>\n",
              "  </tbody>\n",
              "</table>\n",
              "<p>2606 rows × 3 columns</p>\n",
              "</div>\n",
              "      <button class=\"colab-df-convert\" onclick=\"convertToInteractive('df-57dad9c6-8d34-4c0e-ab4a-30a96f08dd0d')\"\n",
              "              title=\"Convert this dataframe to an interactive table.\"\n",
              "              style=\"display:none;\">\n",
              "        \n",
              "  <svg xmlns=\"http://www.w3.org/2000/svg\" height=\"24px\"viewBox=\"0 0 24 24\"\n",
              "       width=\"24px\">\n",
              "    <path d=\"M0 0h24v24H0V0z\" fill=\"none\"/>\n",
              "    <path d=\"M18.56 5.44l.94 2.06.94-2.06 2.06-.94-2.06-.94-.94-2.06-.94 2.06-2.06.94zm-11 1L8.5 8.5l.94-2.06 2.06-.94-2.06-.94L8.5 2.5l-.94 2.06-2.06.94zm10 10l.94 2.06.94-2.06 2.06-.94-2.06-.94-.94-2.06-.94 2.06-2.06.94z\"/><path d=\"M17.41 7.96l-1.37-1.37c-.4-.4-.92-.59-1.43-.59-.52 0-1.04.2-1.43.59L10.3 9.45l-7.72 7.72c-.78.78-.78 2.05 0 2.83L4 21.41c.39.39.9.59 1.41.59.51 0 1.02-.2 1.41-.59l7.78-7.78 2.81-2.81c.8-.78.8-2.07 0-2.86zM5.41 20L4 18.59l7.72-7.72 1.47 1.35L5.41 20z\"/>\n",
              "  </svg>\n",
              "      </button>\n",
              "      \n",
              "  <style>\n",
              "    .colab-df-container {\n",
              "      display:flex;\n",
              "      flex-wrap:wrap;\n",
              "      gap: 12px;\n",
              "    }\n",
              "\n",
              "    .colab-df-convert {\n",
              "      background-color: #E8F0FE;\n",
              "      border: none;\n",
              "      border-radius: 50%;\n",
              "      cursor: pointer;\n",
              "      display: none;\n",
              "      fill: #1967D2;\n",
              "      height: 32px;\n",
              "      padding: 0 0 0 0;\n",
              "      width: 32px;\n",
              "    }\n",
              "\n",
              "    .colab-df-convert:hover {\n",
              "      background-color: #E2EBFA;\n",
              "      box-shadow: 0px 1px 2px rgba(60, 64, 67, 0.3), 0px 1px 3px 1px rgba(60, 64, 67, 0.15);\n",
              "      fill: #174EA6;\n",
              "    }\n",
              "\n",
              "    [theme=dark] .colab-df-convert {\n",
              "      background-color: #3B4455;\n",
              "      fill: #D2E3FC;\n",
              "    }\n",
              "\n",
              "    [theme=dark] .colab-df-convert:hover {\n",
              "      background-color: #434B5C;\n",
              "      box-shadow: 0px 1px 3px 1px rgba(0, 0, 0, 0.15);\n",
              "      filter: drop-shadow(0px 1px 2px rgba(0, 0, 0, 0.3));\n",
              "      fill: #FFFFFF;\n",
              "    }\n",
              "  </style>\n",
              "\n",
              "      <script>\n",
              "        const buttonEl =\n",
              "          document.querySelector('#df-57dad9c6-8d34-4c0e-ab4a-30a96f08dd0d button.colab-df-convert');\n",
              "        buttonEl.style.display =\n",
              "          google.colab.kernel.accessAllowed ? 'block' : 'none';\n",
              "\n",
              "        async function convertToInteractive(key) {\n",
              "          const element = document.querySelector('#df-57dad9c6-8d34-4c0e-ab4a-30a96f08dd0d');\n",
              "          const dataTable =\n",
              "            await google.colab.kernel.invokeFunction('convertToInteractive',\n",
              "                                                     [key], {});\n",
              "          if (!dataTable) return;\n",
              "\n",
              "          const docLinkHtml = 'Like what you see? Visit the ' +\n",
              "            '<a target=\"_blank\" href=https://colab.research.google.com/notebooks/data_table.ipynb>data table notebook</a>'\n",
              "            + ' to learn more about interactive tables.';\n",
              "          element.innerHTML = '';\n",
              "          dataTable['output_type'] = 'display_data';\n",
              "          await google.colab.output.renderOutput(dataTable, element);\n",
              "          const docLink = document.createElement('div');\n",
              "          docLink.innerHTML = docLinkHtml;\n",
              "          element.appendChild(docLink);\n",
              "        }\n",
              "      </script>\n",
              "    </div>\n",
              "  </div>\n",
              "  "
            ]
          },
          "metadata": {},
          "execution_count": 281
        }
      ]
    },
    {
      "cell_type": "code",
      "source": [
        "from scipy import stats\n",
        "import numpy as np\n",
        "z = np.abs(stats.zscore(rfm))\n",
        "print(z)"
      ],
      "metadata": {
        "colab": {
          "base_uri": "https://localhost:8080/"
        },
        "id": "DxNVLOE3f7rX",
        "outputId": "6657c98f-c2bc-4159-e76a-64b963e839dc"
      },
      "execution_count": 282,
      "outputs": [
        {
          "output_type": "stream",
          "name": "stdout",
          "text": [
            "[[1.08853375 0.26155995 0.72290284]\n",
            " [1.58165233 0.93245093 0.68478232]\n",
            " [1.06601509 0.40933103 0.42355193]\n",
            " ...\n",
            " [1.01291001 0.26155995 2.68575855]\n",
            " [1.59935402 0.93245093 0.68772323]\n",
            " [0.86876766 1.75111299 0.60131518]]\n"
          ]
        }
      ]
    },
    {
      "cell_type": "code",
      "source": [
        "rfm_clean = rfm[(z < 3).all(axis=1)]"
      ],
      "metadata": {
        "id": "BYoALYvngLrT"
      },
      "execution_count": 283,
      "outputs": []
    },
    {
      "cell_type": "code",
      "source": [
        "rfm.shape"
      ],
      "metadata": {
        "colab": {
          "base_uri": "https://localhost:8080/"
        },
        "id": "IzFNqaizgQVe",
        "outputId": "9d636919-8a55-4265-b787-da3139c7cce7"
      },
      "execution_count": 284,
      "outputs": [
        {
          "output_type": "execute_result",
          "data": {
            "text/plain": [
              "(2606, 3)"
            ]
          },
          "metadata": {},
          "execution_count": 284
        }
      ]
    },
    {
      "cell_type": "code",
      "source": [
        "rfm_clean.shape"
      ],
      "metadata": {
        "colab": {
          "base_uri": "https://localhost:8080/"
        },
        "id": "vt5_hO0ygTH0",
        "outputId": "bb28b288-1b7e-448e-936d-b35496042a91"
      },
      "execution_count": 285,
      "outputs": [
        {
          "output_type": "execute_result",
          "data": {
            "text/plain": [
              "(2532, 3)"
            ]
          },
          "metadata": {},
          "execution_count": 285
        }
      ]
    },
    {
      "cell_type": "code",
      "source": [
        "rfm_clean.boxplot()"
      ],
      "metadata": {
        "colab": {
          "base_uri": "https://localhost:8080/",
          "height": 282
        },
        "id": "a_kxdvKAgVSH",
        "outputId": "dd9c2878-f356-411c-f85f-e69b70e8e11e"
      },
      "execution_count": 286,
      "outputs": [
        {
          "output_type": "execute_result",
          "data": {
            "text/plain": [
              "<matplotlib.axes._subplots.AxesSubplot at 0x7fa85cbb63a0>"
            ]
          },
          "metadata": {},
          "execution_count": 286
        },
        {
          "output_type": "display_data",
          "data": {
            "text/plain": [
              "<Figure size 432x288 with 1 Axes>"
            ],
            "image/png": "[encoded data removed]"
          },
          "metadata": {
            "needs_background": "light"
          }
        }
      ]
    },
    {
      "cell_type": "code",
      "source": [
        "import seaborn as sns"
      ],
      "metadata": {
        "id": "7u_bssyni6v5"
      },
      "execution_count": 287,
      "outputs": []
    },
    {
      "cell_type": "code",
      "source": [
        "plt.figure(1 , figsize = (15 , 6))\n",
        "n = 0 \n",
        "for x in ['Recency' , 'Frequency' , 'Monetary']:\n",
        "    n += 1\n",
        "    plt.subplot(1 , 3 , n)\n",
        "    plt.subplots_adjust(hspace =0.5 , wspace = 0.5)\n",
        "    sns.histplot(rfm[x] , bins = 20)\n",
        "    plt.title('Histplot of {}'.format(x))\n",
        "plt.show()"
      ],
      "metadata": {
        "colab": {
          "base_uri": "https://localhost:8080/",
          "height": 404
        },
        "id": "H7CcPBRXgcUf",
        "outputId": "f3393562-68f1-4a39-eb86-c60b1ace78e6"
      },
      "execution_count": 288,
      "outputs": [
        {
          "output_type": "display_data",
          "data": {
            "text/plain": [
              "<Figure size 1080x432 with 3 Axes>"
            ],
            "image/png": "[encoded data removed]"
          },
          "metadata": {
            "needs_background": "light"
          }
        }
      ]
    },
    {
      "cell_type": "code",
      "source": [
        "x = rfm"
      ],
      "metadata": {
        "id": "lwLr1vJEgjfV"
      },
      "execution_count": 289,
      "outputs": []
    },
    {
      "cell_type": "code",
      "source": [
        "x.head()"
      ],
      "metadata": {
        "colab": {
          "base_uri": "https://localhost:8080/",
          "height": 238
        },
        "id": "g9ZUIye_hCmd",
        "outputId": "749c75ac-a0e3-4df1-cfe6-a9bb50ae806b"
      },
      "execution_count": 290,
      "outputs": [
        {
          "output_type": "execute_result",
          "data": {
            "text/plain": [
              "            Recency  Frequency    Monetary\n",
              "id                                        \n",
              "1001772396      941          2    205.1500\n",
              "1004398895     1136          1    496.1500\n",
              "1005295963       89          3   2490.3000\n",
              "1018688725      480          5  10972.1015\n",
              "1018994080       44          2  14470.6800"
            ],
            "text/html": [
              "\n",
              "  <div id=\"df-65399286-2827-4fa6-9063-130766eb78bc\">\n",
              "    <div class=\"colab-df-container\">\n",
              "      <div>\n",
              "<style scoped>\n",
              "    .dataframe tbody tr th:only-of-type {\n",
              "        vertical-align: middle;\n",
              "    }\n",
              "\n",
              "    .dataframe tbody tr th {\n",
              "        vertical-align: top;\n",
              "    }\n",
              "\n",
              "    .dataframe thead th {\n",
              "        text-align: right;\n",
              "    }\n",
              "</style>\n",
              "<table border=\"1\" class=\"dataframe\">\n",
              "  <thead>\n",
              "    <tr style=\"text-align: right;\">\n",
              "      <th></th>\n",
              "      <th>Recency</th>\n",
              "      <th>Frequency</th>\n",
              "      <th>Monetary</th>\n",
              "    </tr>\n",
              "    <tr>\n",
              "      <th>id</th>\n",
              "      <th></th>\n",
              "      <th></th>\n",
              "      <th></th>\n",
              "    </tr>\n",
              "  </thead>\n",
              "  <tbody>\n",
              "    <tr>\n",
              "      <th>1001772396</th>\n",
              "      <td>941</td>\n",
              "      <td>2</td>\n",
              "      <td>205.1500</td>\n",
              "    </tr>\n",
              "    <tr>\n",
              "      <th>1004398895</th>\n",
              "      <td>1136</td>\n",
              "      <td>1</td>\n",
              "      <td>496.1500</td>\n",
              "    </tr>\n",
              "    <tr>\n",
              "      <th>1005295963</th>\n",
              "      <td>89</td>\n",
              "      <td>3</td>\n",
              "      <td>2490.3000</td>\n",
              "    </tr>\n",
              "    <tr>\n",
              "      <th>1018688725</th>\n",
              "      <td>480</td>\n",
              "      <td>5</td>\n",
              "      <td>10972.1015</td>\n",
              "    </tr>\n",
              "    <tr>\n",
              "      <th>1018994080</th>\n",
              "      <td>44</td>\n",
              "      <td>2</td>\n",
              "      <td>14470.6800</td>\n",
              "    </tr>\n",
              "  </tbody>\n",
              "</table>\n",
              "</div>\n",
              "      <button class=\"colab-df-convert\" onclick=\"convertToInteractive('df-65399286-2827-4fa6-9063-130766eb78bc')\"\n",
              "              title=\"Convert this dataframe to an interactive table.\"\n",
              "              style=\"display:none;\">\n",
              "        \n",
              "  <svg xmlns=\"http://www.w3.org/2000/svg\" height=\"24px\"viewBox=\"0 0 24 24\"\n",
              "       width=\"24px\">\n",
              "    <path d=\"M0 0h24v24H0V0z\" fill=\"none\"/>\n",
              "    <path d=\"M18.56 5.44l.94 2.06.94-2.06 2.06-.94-2.06-.94-.94-2.06-.94 2.06-2.06.94zm-11 1L8.5 8.5l.94-2.06 2.06-.94-2.06-.94L8.5 2.5l-.94 2.06-2.06.94zm10 10l.94 2.06.94-2.06 2.06-.94-2.06-.94-.94-2.06-.94 2.06-2.06.94z\"/><path d=\"M17.41 7.96l-1.37-1.37c-.4-.4-.92-.59-1.43-.59-.52 0-1.04.2-1.43.59L10.3 9.45l-7.72 7.72c-.78.78-.78 2.05 0 2.83L4 21.41c.39.39.9.59 1.41.59.51 0 1.02-.2 1.41-.59l7.78-7.78 2.81-2.81c.8-.78.8-2.07 0-2.86zM5.41 20L4 18.59l7.72-7.72 1.47 1.35L5.41 20z\"/>\n",
              "  </svg>\n",
              "      </button>\n",
              "      \n",
              "  <style>\n",
              "    .colab-df-container {\n",
              "      display:flex;\n",
              "      flex-wrap:wrap;\n",
              "      gap: 12px;\n",
              "    }\n",
              "\n",
              "    .colab-df-convert {\n",
              "      background-color: #E8F0FE;\n",
              "      border: none;\n",
              "      border-radius: 50%;\n",
              "      cursor: pointer;\n",
              "      display: none;\n",
              "      fill: #1967D2;\n",
              "      height: 32px;\n",
              "      padding: 0 0 0 0;\n",
              "      width: 32px;\n",
              "    }\n",
              "\n",
              "    .colab-df-convert:hover {\n",
              "      background-color: #E2EBFA;\n",
              "      box-shadow: 0px 1px 2px rgba(60, 64, 67, 0.3), 0px 1px 3px 1px rgba(60, 64, 67, 0.15);\n",
              "      fill: #174EA6;\n",
              "    }\n",
              "\n",
              "    [theme=dark] .colab-df-convert {\n",
              "      background-color: #3B4455;\n",
              "      fill: #D2E3FC;\n",
              "    }\n",
              "\n",
              "    [theme=dark] .colab-df-convert:hover {\n",
              "      background-color: #434B5C;\n",
              "      box-shadow: 0px 1px 3px 1px rgba(0, 0, 0, 0.15);\n",
              "      filter: drop-shadow(0px 1px 2px rgba(0, 0, 0, 0.3));\n",
              "      fill: #FFFFFF;\n",
              "    }\n",
              "  </style>\n",
              "\n",
              "      <script>\n",
              "        const buttonEl =\n",
              "          document.querySelector('#df-65399286-2827-4fa6-9063-130766eb78bc button.colab-df-convert');\n",
              "        buttonEl.style.display =\n",
              "          google.colab.kernel.accessAllowed ? 'block' : 'none';\n",
              "\n",
              "        async function convertToInteractive(key) {\n",
              "          const element = document.querySelector('#df-65399286-2827-4fa6-9063-130766eb78bc');\n",
              "          const dataTable =\n",
              "            await google.colab.kernel.invokeFunction('convertToInteractive',\n",
              "                                                     [key], {});\n",
              "          if (!dataTable) return;\n",
              "\n",
              "          const docLinkHtml = 'Like what you see? Visit the ' +\n",
              "            '<a target=\"_blank\" href=https://colab.research.google.com/notebooks/data_table.ipynb>data table notebook</a>'\n",
              "            + ' to learn more about interactive tables.';\n",
              "          element.innerHTML = '';\n",
              "          dataTable['output_type'] = 'display_data';\n",
              "          await google.colab.output.renderOutput(dataTable, element);\n",
              "          const docLink = document.createElement('div');\n",
              "          docLink.innerHTML = docLinkHtml;\n",
              "          element.appendChild(docLink);\n",
              "        }\n",
              "      </script>\n",
              "    </div>\n",
              "  </div>\n",
              "  "
            ]
          },
          "metadata": {},
          "execution_count": 290
        }
      ]
    },
    {
      "cell_type": "code",
      "source": [
        "from sklearn.cluster import KMeans\n",
        "# Using elbow method to know number of clusters for modelling\n",
        "wcss = []\n",
        "for i in range(1,10):\n",
        "    kmeans = KMeans(n_clusters =i, init = 'k-means++', max_iter =300, n_init =10, random_state =0)\n",
        "    kmeans.fit(x)\n",
        "    wcss.append(kmeans.inertia_)\n",
        "plt.plot(range(1,10), wcss)\n",
        "plt.title('The Elbow Method')\n",
        "plt.xlabel('Number of Clusters')\n",
        "plt.ylabel('WCSS')\n",
        "plt.show()"
      ],
      "metadata": {
        "colab": {
          "base_uri": "https://localhost:8080/",
          "height": 295
        },
        "id": "QPBTHp96hEMB",
        "outputId": "0dd951ff-382e-4d4d-e3f5-3f60814ea25f"
      },
      "execution_count": 291,
      "outputs": [
        {
          "output_type": "display_data",
          "data": {
            "text/plain": [
              "<Figure size 432x288 with 1 Axes>"
            ],
            "image/png": "[encoded data removed]"
          },
          "metadata": {
            "needs_background": "light"
          }
        }
      ]
    },
    {
      "cell_type": "markdown",
      "source": [
        "**Three clusters** "
      ],
      "metadata": {
        "id": "VWpEsN2FpqXf"
      }
    },
    {
      "cell_type": "code",
      "source": [
        "kmeans = KMeans(n_clusters = 3) # creating kmeans model for 3 clusters\n",
        "y_kmeans = kmeans.fit_predict(x)\n"
      ],
      "metadata": {
        "id": "nXY_ZJlEhJTm"
      },
      "execution_count": 292,
      "outputs": []
    },
    {
      "cell_type": "code",
      "source": [
        "rfm['Cluster_ID'] = y_kmeans "
      ],
      "metadata": {
        "id": "BqZQbArthRxH"
      },
      "execution_count": 293,
      "outputs": []
    },
    {
      "cell_type": "code",
      "source": [
        "# Create a plot for frequency vs monetary \n",
        "facet = sns.lmplot(data=rfm, x='Frequency', y='Monetary', hue='Cluster_ID', \n",
        "                   fit_reg=False, legend=True, legend_out=True)\n",
        "# Create a plot for recency vs monetary\n",
        "facet2 = sns.lmplot(data=rfm, x='Recency', y='Monetary', hue='Cluster_ID', \n",
        "                   fit_reg=False, legend=True, legend_out=True)\n",
        "# Create a plot for recency vs frequency\n",
        "facet3 = sns.lmplot(data=rfm, x='Recency', y='Frequency', hue='Cluster_ID', \n",
        "                   fit_reg=False, legend=True, legend_out=True)"
      ],
      "metadata": {
        "colab": {
          "base_uri": "https://localhost:8080/",
          "height": 1000
        },
        "id": "g2YQEv7mhUoX",
        "outputId": "92cced8b-8404-4351-ed5b-ed5053cfe5c0"
      },
      "execution_count": 294,
      "outputs": [
        {
          "output_type": "stream",
          "name": "stderr",
          "text": [
            "/usr/local/lib/python3.8/dist-packages/seaborn/regression.py:592: UserWarning: legend_out is deprecated from the `lmplot` function signature. Please update your code to pass it using `facet_kws`.\n",
            "  warnings.warn(msg, UserWarning)\n",
            "/usr/local/lib/python3.8/dist-packages/seaborn/regression.py:592: UserWarning: legend_out is deprecated from the `lmplot` function signature. Please update your code to pass it using `facet_kws`.\n",
            "  warnings.warn(msg, UserWarning)\n",
            "/usr/local/lib/python3.8/dist-packages/seaborn/regression.py:592: UserWarning: legend_out is deprecated from the `lmplot` function signature. Please update your code to pass it using `facet_kws`.\n",
            "  warnings.warn(msg, UserWarning)\n"
          ]
        },
        {
          "output_type": "display_data",
          "data": {
            "text/plain": [
              "<Figure size 419.125x360 with 1 Axes>"
            ],
            "image/png": "[encoded data removed]"
          },
          "metadata": {
            "needs_background": "light"
          }
        },
        {
          "output_type": "display_data",
          "data": {
            "text/plain": [
              "<Figure size 419.125x360 with 1 Axes>"
            ],
            "image/png": "[encoded data removed]"
          },
          "metadata": {
            "needs_background": "light"
          }
        },
        {
          "output_type": "display_data",
          "data": {
            "text/plain": [
              "<Figure size 419.125x360 with 1 Axes>"
            ],
            "image/png": "[encoded data removed]"
          },
          "metadata": {
            "needs_background": "light"
          }
        }
      ]
    },
    {
      "cell_type": "markdown",
      "source": [
        "We can conclude from the frequency and money plot that individuals with frequencies between 5 and 7 often spend more money. After that, the value of money began to decline.\n",
        "In terms of money and recent purchases, we can see that clients who did not make a purchase a long time ago spent less money than those who made a purchase recently.\n",
        "The graph of recency and frequency does not reveal anything about the data."
      ],
      "metadata": {
        "id": "oC_nLExSoOGn"
      }
    },
    {
      "cell_type": "code",
      "source": [
        "for i in range(rfm['Cluster_ID'].nunique()):\n",
        "    rfm_clean_mean= rfm.groupby(['Cluster_ID']).mean()\n",
        "\n",
        "rfm_clean_mean"
      ],
      "metadata": {
        "colab": {
          "base_uri": "https://localhost:8080/",
          "height": 175
        },
        "id": "yq-U_4FeheAy",
        "outputId": "2baea1f9-bf80-466c-f05a-e430d8c2c9b3"
      },
      "execution_count": 295,
      "outputs": [
        {
          "output_type": "execute_result",
          "data": {
            "text/plain": [
              "               Recency  Frequency      Monetary\n",
              "Cluster_ID                                     \n",
              "0           569.000551   1.930579   1938.602847\n",
              "1           386.984848   3.342424  11322.321658\n",
              "2           323.213740   3.954198  29956.521847"
            ],
            "text/html": [
              "\n",
              "  <div id=\"df-2b0e3abc-231f-4a5d-bbf7-9173ee429ca7\">\n",
              "    <div class=\"colab-df-container\">\n",
              "      <div>\n",
              "<style scoped>\n",
              "    .dataframe tbody tr th:only-of-type {\n",
              "        vertical-align: middle;\n",
              "    }\n",
              "\n",
              "    .dataframe tbody tr th {\n",
              "        vertical-align: top;\n",
              "    }\n",
              "\n",
              "    .dataframe thead th {\n",
              "        text-align: right;\n",
              "    }\n",
              "</style>\n",
              "<table border=\"1\" class=\"dataframe\">\n",
              "  <thead>\n",
              "    <tr style=\"text-align: right;\">\n",
              "      <th></th>\n",
              "      <th>Recency</th>\n",
              "      <th>Frequency</th>\n",
              "      <th>Monetary</th>\n",
              "    </tr>\n",
              "    <tr>\n",
              "      <th>Cluster_ID</th>\n",
              "      <th></th>\n",
              "      <th></th>\n",
              "      <th></th>\n",
              "    </tr>\n",
              "  </thead>\n",
              "  <tbody>\n",
              "    <tr>\n",
              "      <th>0</th>\n",
              "      <td>569.000551</td>\n",
              "      <td>1.930579</td>\n",
              "      <td>1938.602847</td>\n",
              "    </tr>\n",
              "    <tr>\n",
              "      <th>1</th>\n",
              "      <td>386.984848</td>\n",
              "      <td>3.342424</td>\n",
              "      <td>11322.321658</td>\n",
              "    </tr>\n",
              "    <tr>\n",
              "      <th>2</th>\n",
              "      <td>323.213740</td>\n",
              "      <td>3.954198</td>\n",
              "      <td>29956.521847</td>\n",
              "    </tr>\n",
              "  </tbody>\n",
              "</table>\n",
              "</div>\n",
              "      <button class=\"colab-df-convert\" onclick=\"convertToInteractive('df-2b0e3abc-231f-4a5d-bbf7-9173ee429ca7')\"\n",
              "              title=\"Convert this dataframe to an interactive table.\"\n",
              "              style=\"display:none;\">\n",
              "        \n",
              "  <svg xmlns=\"http://www.w3.org/2000/svg\" height=\"24px\"viewBox=\"0 0 24 24\"\n",
              "       width=\"24px\">\n",
              "    <path d=\"M0 0h24v24H0V0z\" fill=\"none\"/>\n",
              "    <path d=\"M18.56 5.44l.94 2.06.94-2.06 2.06-.94-2.06-.94-.94-2.06-.94 2.06-2.06.94zm-11 1L8.5 8.5l.94-2.06 2.06-.94-2.06-.94L8.5 2.5l-.94 2.06-2.06.94zm10 10l.94 2.06.94-2.06 2.06-.94-2.06-.94-.94-2.06-.94 2.06-2.06.94z\"/><path d=\"M17.41 7.96l-1.37-1.37c-.4-.4-.92-.59-1.43-.59-.52 0-1.04.2-1.43.59L10.3 9.45l-7.72 7.72c-.78.78-.78 2.05 0 2.83L4 21.41c.39.39.9.59 1.41.59.51 0 1.02-.2 1.41-.59l7.78-7.78 2.81-2.81c.8-.78.8-2.07 0-2.86zM5.41 20L4 18.59l7.72-7.72 1.47 1.35L5.41 20z\"/>\n",
              "  </svg>\n",
              "      </button>\n",
              "      \n",
              "  <style>\n",
              "    .colab-df-container {\n",
              "      display:flex;\n",
              "      flex-wrap:wrap;\n",
              "      gap: 12px;\n",
              "    }\n",
              "\n",
              "    .colab-df-convert {\n",
              "      background-color: #E8F0FE;\n",
              "      border: none;\n",
              "      border-radius: 50%;\n",
              "      cursor: pointer;\n",
              "      display: none;\n",
              "      fill: #1967D2;\n",
              "      height: 32px;\n",
              "      padding: 0 0 0 0;\n",
              "      width: 32px;\n",
              "    }\n",
              "\n",
              "    .colab-df-convert:hover {\n",
              "      background-color: #E2EBFA;\n",
              "      box-shadow: 0px 1px 2px rgba(60, 64, 67, 0.3), 0px 1px 3px 1px rgba(60, 64, 67, 0.15);\n",
              "      fill: #174EA6;\n",
              "    }\n",
              "\n",
              "    [theme=dark] .colab-df-convert {\n",
              "      background-color: #3B4455;\n",
              "      fill: #D2E3FC;\n",
              "    }\n",
              "\n",
              "    [theme=dark] .colab-df-convert:hover {\n",
              "      background-color: #434B5C;\n",
              "      box-shadow: 0px 1px 3px 1px rgba(0, 0, 0, 0.15);\n",
              "      filter: drop-shadow(0px 1px 2px rgba(0, 0, 0, 0.3));\n",
              "      fill: #FFFFFF;\n",
              "    }\n",
              "  </style>\n",
              "\n",
              "      <script>\n",
              "        const buttonEl =\n",
              "          document.querySelector('#df-2b0e3abc-231f-4a5d-bbf7-9173ee429ca7 button.colab-df-convert');\n",
              "        buttonEl.style.display =\n",
              "          google.colab.kernel.accessAllowed ? 'block' : 'none';\n",
              "\n",
              "        async function convertToInteractive(key) {\n",
              "          const element = document.querySelector('#df-2b0e3abc-231f-4a5d-bbf7-9173ee429ca7');\n",
              "          const dataTable =\n",
              "            await google.colab.kernel.invokeFunction('convertToInteractive',\n",
              "                                                     [key], {});\n",
              "          if (!dataTable) return;\n",
              "\n",
              "          const docLinkHtml = 'Like what you see? Visit the ' +\n",
              "            '<a target=\"_blank\" href=https://colab.research.google.com/notebooks/data_table.ipynb>data table notebook</a>'\n",
              "            + ' to learn more about interactive tables.';\n",
              "          element.innerHTML = '';\n",
              "          dataTable['output_type'] = 'display_data';\n",
              "          await google.colab.output.renderOutput(dataTable, element);\n",
              "          const docLink = document.createElement('div');\n",
              "          docLink.innerHTML = docLinkHtml;\n",
              "          element.appendChild(docLink);\n",
              "        }\n",
              "      </script>\n",
              "    </div>\n",
              "  </div>\n",
              "  "
            ]
          },
          "metadata": {},
          "execution_count": 295
        }
      ]
    },
    {
      "cell_type": "markdown",
      "source": [
        "**Three clusters on cleaned data**"
      ],
      "metadata": {
        "id": "_6GfPyCWp0YH"
      }
    },
    {
      "cell_type": "code",
      "source": [
        "x2 =rfm_clean"
      ],
      "metadata": {
        "id": "jKSPd4Q4iC3g"
      },
      "execution_count": 296,
      "outputs": []
    },
    {
      "cell_type": "code",
      "source": [
        "kmeans_2 = KMeans(n_clusters = 3) #creating k means using 4 clusters\n",
        "y_kmeans_2= kmeans_2.fit_predict(x2)"
      ],
      "metadata": {
        "id": "yoFTFpsHigwK"
      },
      "execution_count": 297,
      "outputs": []
    },
    {
      "cell_type": "code",
      "source": [
        "rfm_clean['Cluster_ID_2'] = y_kmeans_2"
      ],
      "metadata": {
        "colab": {
          "base_uri": "https://localhost:8080/"
        },
        "id": "1p1RJOX2il82",
        "outputId": "38f35552-da5f-452c-dc6b-6027d0fc4668"
      },
      "execution_count": 298,
      "outputs": [
        {
          "output_type": "stream",
          "name": "stderr",
          "text": [
            "<ipython-input-298-bcbf7b7a48b1>:1: SettingWithCopyWarning: \n",
            "A value is trying to be set on a copy of a slice from a DataFrame.\n",
            "Try using .loc[row_indexer,col_indexer] = value instead\n",
            "\n",
            "See the caveats in the documentation: https://pandas.pydata.org/pandas-docs/stable/user_guide/indexing.html#returning-a-view-versus-a-copy\n",
            "  rfm_clean['Cluster_ID_2'] = y_kmeans_2\n"
          ]
        }
      ]
    },
    {
      "cell_type": "code",
      "source": [
        "# Create a plot for frequency vs monetary \n",
        "facet = sns.lmplot(data=rfm_clean, x='Frequency', y='Monetary', hue='Cluster_ID_2', \n",
        "                   fit_reg=False, legend=True, legend_out=True)\n",
        "# Create a plot for recency vs monetary\n",
        "facet2 = sns.lmplot(data=rfm_clean, x='Recency', y='Monetary', hue='Cluster_ID_2', \n",
        "                   fit_reg=False, legend=True, legend_out=True)\n",
        "# Create a plot for recency vs frequency\n",
        "facet3 = sns.lmplot(data=rfm_clean, x='Recency', y='Frequency', hue='Cluster_ID_2', \n",
        "                   fit_reg=False, legend=True, legend_out=True)"
      ],
      "metadata": {
        "colab": {
          "base_uri": "https://localhost:8080/",
          "height": 1000
        },
        "id": "wIZzui8YioUN",
        "outputId": "e1294f5d-7f29-4642-8ac7-67754274dcae"
      },
      "execution_count": 299,
      "outputs": [
        {
          "output_type": "stream",
          "name": "stderr",
          "text": [
            "/usr/local/lib/python3.8/dist-packages/seaborn/regression.py:592: UserWarning: legend_out is deprecated from the `lmplot` function signature. Please update your code to pass it using `facet_kws`.\n",
            "  warnings.warn(msg, UserWarning)\n",
            "/usr/local/lib/python3.8/dist-packages/seaborn/regression.py:592: UserWarning: legend_out is deprecated from the `lmplot` function signature. Please update your code to pass it using `facet_kws`.\n",
            "  warnings.warn(msg, UserWarning)\n",
            "/usr/local/lib/python3.8/dist-packages/seaborn/regression.py:592: UserWarning: legend_out is deprecated from the `lmplot` function signature. Please update your code to pass it using `facet_kws`.\n",
            "  warnings.warn(msg, UserWarning)\n"
          ]
        },
        {
          "output_type": "display_data",
          "data": {
            "text/plain": [
              "<Figure size 430.5x360 with 1 Axes>"
            ],
            "image/png": "[encoded data removed]"
          },
          "metadata": {
            "needs_background": "light"
          }
        },
        {
          "output_type": "display_data",
          "data": {
            "text/plain": [
              "<Figure size 430.5x360 with 1 Axes>"
            ],
            "image/png": "[encoded data removed]"
          },
          "metadata": {
            "needs_background": "light"
          }
        },
        {
          "output_type": "display_data",
          "data": {
            "text/plain": [
              "<Figure size 430.5x360 with 1 Axes>"
            ],
            "image/png": "[encoded data removed]"
          },
          "metadata": {
            "needs_background": "light"
          }
        }
      ]
    },
    {
      "cell_type": "code",
      "source": [],
      "metadata": {
        "id": "7Dd1hV4Lrnnn"
      },
      "execution_count": 299,
      "outputs": []
    },
    {
      "cell_type": "code",
      "source": [
        "for i in range(rfm_clean['Cluster_ID_2'].nunique()):\n",
        "    rfm_clean_mean= rfm_clean.groupby(['Cluster_ID_2']).mean()\n",
        "\n",
        "rfm_clean_mean"
      ],
      "metadata": {
        "colab": {
          "base_uri": "https://localhost:8080/",
          "height": 175
        },
        "id": "FRyZ0An1iwJz",
        "outputId": "09bf53d5-1d11-47d5-dbfa-9bb5f354776a"
      },
      "execution_count": 300,
      "outputs": [
        {
          "output_type": "execute_result",
          "data": {
            "text/plain": [
              "                 Recency  Frequency      Monetary\n",
              "Cluster_ID_2                                     \n",
              "0             586.546569   1.814951   1511.087917\n",
              "1             386.802691   3.426009  19203.831469\n",
              "2             394.069424   3.147710   8583.417133"
            ],
            "text/html": [
              "\n",
              "  <div id=\"df-a1760320-5d92-4b0b-8650-358c4cb1d621\">\n",
              "    <div class=\"colab-df-container\">\n",
              "      <div>\n",
              "<style scoped>\n",
              "    .dataframe tbody tr th:only-of-type {\n",
              "        vertical-align: middle;\n",
              "    }\n",
              "\n",
              "    .dataframe tbody tr th {\n",
              "        vertical-align: top;\n",
              "    }\n",
              "\n",
              "    .dataframe thead th {\n",
              "        text-align: right;\n",
              "    }\n",
              "</style>\n",
              "<table border=\"1\" class=\"dataframe\">\n",
              "  <thead>\n",
              "    <tr style=\"text-align: right;\">\n",
              "      <th></th>\n",
              "      <th>Recency</th>\n",
              "      <th>Frequency</th>\n",
              "      <th>Monetary</th>\n",
              "    </tr>\n",
              "    <tr>\n",
              "      <th>Cluster_ID_2</th>\n",
              "      <th></th>\n",
              "      <th></th>\n",
              "      <th></th>\n",
              "    </tr>\n",
              "  </thead>\n",
              "  <tbody>\n",
              "    <tr>\n",
              "      <th>0</th>\n",
              "      <td>586.546569</td>\n",
              "      <td>1.814951</td>\n",
              "      <td>1511.087917</td>\n",
              "    </tr>\n",
              "    <tr>\n",
              "      <th>1</th>\n",
              "      <td>386.802691</td>\n",
              "      <td>3.426009</td>\n",
              "      <td>19203.831469</td>\n",
              "    </tr>\n",
              "    <tr>\n",
              "      <th>2</th>\n",
              "      <td>394.069424</td>\n",
              "      <td>3.147710</td>\n",
              "      <td>8583.417133</td>\n",
              "    </tr>\n",
              "  </tbody>\n",
              "</table>\n",
              "</div>\n",
              "      <button class=\"colab-df-convert\" onclick=\"convertToInteractive('df-a1760320-5d92-4b0b-8650-358c4cb1d621')\"\n",
              "              title=\"Convert this dataframe to an interactive table.\"\n",
              "              style=\"display:none;\">\n",
              "        \n",
              "  <svg xmlns=\"http://www.w3.org/2000/svg\" height=\"24px\"viewBox=\"0 0 24 24\"\n",
              "       width=\"24px\">\n",
              "    <path d=\"M0 0h24v24H0V0z\" fill=\"none\"/>\n",
              "    <path d=\"M18.56 5.44l.94 2.06.94-2.06 2.06-.94-2.06-.94-.94-2.06-.94 2.06-2.06.94zm-11 1L8.5 8.5l.94-2.06 2.06-.94-2.06-.94L8.5 2.5l-.94 2.06-2.06.94zm10 10l.94 2.06.94-2.06 2.06-.94-2.06-.94-.94-2.06-.94 2.06-2.06.94z\"/><path d=\"M17.41 7.96l-1.37-1.37c-.4-.4-.92-.59-1.43-.59-.52 0-1.04.2-1.43.59L10.3 9.45l-7.72 7.72c-.78.78-.78 2.05 0 2.83L4 21.41c.39.39.9.59 1.41.59.51 0 1.02-.2 1.41-.59l7.78-7.78 2.81-2.81c.8-.78.8-2.07 0-2.86zM5.41 20L4 18.59l7.72-7.72 1.47 1.35L5.41 20z\"/>\n",
              "  </svg>\n",
              "      </button>\n",
              "      \n",
              "  <style>\n",
              "    .colab-df-container {\n",
              "      display:flex;\n",
              "      flex-wrap:wrap;\n",
              "      gap: 12px;\n",
              "    }\n",
              "\n",
              "    .colab-df-convert {\n",
              "      background-color: #E8F0FE;\n",
              "      border: none;\n",
              "      border-radius: 50%;\n",
              "      cursor: pointer;\n",
              "      display: none;\n",
              "      fill: #1967D2;\n",
              "      height: 32px;\n",
              "      padding: 0 0 0 0;\n",
              "      width: 32px;\n",
              "    }\n",
              "\n",
              "    .colab-df-convert:hover {\n",
              "      background-color: #E2EBFA;\n",
              "      box-shadow: 0px 1px 2px rgba(60, 64, 67, 0.3), 0px 1px 3px 1px rgba(60, 64, 67, 0.15);\n",
              "      fill: #174EA6;\n",
              "    }\n",
              "\n",
              "    [theme=dark] .colab-df-convert {\n",
              "      background-color: #3B4455;\n",
              "      fill: #D2E3FC;\n",
              "    }\n",
              "\n",
              "    [theme=dark] .colab-df-convert:hover {\n",
              "      background-color: #434B5C;\n",
              "      box-shadow: 0px 1px 3px 1px rgba(0, 0, 0, 0.15);\n",
              "      filter: drop-shadow(0px 1px 2px rgba(0, 0, 0, 0.3));\n",
              "      fill: #FFFFFF;\n",
              "    }\n",
              "  </style>\n",
              "\n",
              "      <script>\n",
              "        const buttonEl =\n",
              "          document.querySelector('#df-a1760320-5d92-4b0b-8650-358c4cb1d621 button.colab-df-convert');\n",
              "        buttonEl.style.display =\n",
              "          google.colab.kernel.accessAllowed ? 'block' : 'none';\n",
              "\n",
              "        async function convertToInteractive(key) {\n",
              "          const element = document.querySelector('#df-a1760320-5d92-4b0b-8650-358c4cb1d621');\n",
              "          const dataTable =\n",
              "            await google.colab.kernel.invokeFunction('convertToInteractive',\n",
              "                                                     [key], {});\n",
              "          if (!dataTable) return;\n",
              "\n",
              "          const docLinkHtml = 'Like what you see? Visit the ' +\n",
              "            '<a target=\"_blank\" href=https://colab.research.google.com/notebooks/data_table.ipynb>data table notebook</a>'\n",
              "            + ' to learn more about interactive tables.';\n",
              "          element.innerHTML = '';\n",
              "          dataTable['output_type'] = 'display_data';\n",
              "          await google.colab.output.renderOutput(dataTable, element);\n",
              "          const docLink = document.createElement('div');\n",
              "          docLink.innerHTML = docLinkHtml;\n",
              "          element.appendChild(docLink);\n",
              "        }\n",
              "      </script>\n",
              "    </div>\n",
              "  </div>\n",
              "  "
            ]
          },
          "metadata": {},
          "execution_count": 300
        }
      ]
    },
    {
      "cell_type": "markdown",
      "source": [
        "**Four clusters on cleaned data**"
      ],
      "metadata": {
        "id": "L3_zZgNQp8yE"
      }
    },
    {
      "cell_type": "code",
      "source": [
        "kmeans_4 = KMeans(n_clusters = 4) #creating k means using 4 clusters\n",
        "y_kmeans_4= kmeans_4.fit_predict(x2)"
      ],
      "metadata": {
        "id": "HHxQVRWtrssG"
      },
      "execution_count": 301,
      "outputs": []
    },
    {
      "cell_type": "code",
      "source": [
        "rfm_clean['Cluster_ID_4'] = y_kmeans_4"
      ],
      "metadata": {
        "colab": {
          "base_uri": "https://localhost:8080/"
        },
        "id": "Icdiw8gYrxOx",
        "outputId": "29ea00b9-5b0e-4bfe-8580-d335437bed76"
      },
      "execution_count": 302,
      "outputs": [
        {
          "output_type": "stream",
          "name": "stderr",
          "text": [
            "<ipython-input-302-dfa88bb3a3a3>:1: SettingWithCopyWarning: \n",
            "A value is trying to be set on a copy of a slice from a DataFrame.\n",
            "Try using .loc[row_indexer,col_indexer] = value instead\n",
            "\n",
            "See the caveats in the documentation: https://pandas.pydata.org/pandas-docs/stable/user_guide/indexing.html#returning-a-view-versus-a-copy\n",
            "  rfm_clean['Cluster_ID_4'] = y_kmeans_4\n"
          ]
        }
      ]
    },
    {
      "cell_type": "code",
      "source": [
        "# Create a plot for frequency vs monetary \n",
        "facet = sns.lmplot(data=rfm_clean, x='Frequency', y='Monetary', hue='Cluster_ID_4', \n",
        "                   fit_reg=False, legend=True, legend_out=True)\n",
        "# Create a plot for recency vs monetary\n",
        "facet2 = sns.lmplot(data=rfm_clean, x='Recency', y='Monetary', hue='Cluster_ID_4', \n",
        "                   fit_reg=False, legend=True, legend_out=True)\n",
        "# Create a plot for recency vs frequency\n",
        "facet3 = sns.lmplot(data=rfm_clean, x='Recency', y='Frequency', hue='Cluster_ID_4', \n",
        "                   fit_reg=False, legend=True, legend_out=True)"
      ],
      "metadata": {
        "colab": {
          "base_uri": "https://localhost:8080/",
          "height": 1000
        },
        "id": "HVivOOMVr4Mp",
        "outputId": "8f7c8327-0817-4fc5-dbb5-a9c17b084eb8"
      },
      "execution_count": 303,
      "outputs": [
        {
          "output_type": "stream",
          "name": "stderr",
          "text": [
            "/usr/local/lib/python3.8/dist-packages/seaborn/regression.py:592: UserWarning: legend_out is deprecated from the `lmplot` function signature. Please update your code to pass it using `facet_kws`.\n",
            "  warnings.warn(msg, UserWarning)\n",
            "/usr/local/lib/python3.8/dist-packages/seaborn/regression.py:592: UserWarning: legend_out is deprecated from the `lmplot` function signature. Please update your code to pass it using `facet_kws`.\n",
            "  warnings.warn(msg, UserWarning)\n",
            "/usr/local/lib/python3.8/dist-packages/seaborn/regression.py:592: UserWarning: legend_out is deprecated from the `lmplot` function signature. Please update your code to pass it using `facet_kws`.\n",
            "  warnings.warn(msg, UserWarning)\n"
          ]
        },
        {
          "output_type": "display_data",
          "data": {
            "text/plain": [
              "<Figure size 430.375x360 with 1 Axes>"
            ],
            "image/png": "[encoded data removed]"
          },
          "metadata": {
            "needs_background": "light"
          }
        },
        {
          "output_type": "display_data",
          "data": {
            "text/plain": [
              "<Figure size 430.375x360 with 1 Axes>"
            ],
            "image/png": "[encoded data removed]"
          },
          "metadata": {
            "needs_background": "light"
          }
        },
        {
          "output_type": "display_data",
          "data": {
            "text/plain": [
              "<Figure size 430.375x360 with 1 Axes>"
            ],
            "image/png": "[encoded data removed]"
          },
          "metadata": {
            "needs_background": "light"
          }
        }
      ]
    },
    {
      "cell_type": "markdown",
      "source": [
        "From the  above two types pf graphs for 3 clusters and 4 clusters we can easily say thay the 4 clusters are giving us more detailed insights to us above the data distribution based on recency, frequency and monetary of walmart data.rom the frequency and money plot that individuals with frequencies between 3 and 5 often spend more money. After that, the value of money began to decline. In terms of money and recent purchases, we can see that clients who did not make a purchase a long time ago spent less money than those who made a purchase recently. At cluster 4th the monetary decreased with increase in recency  The graph of recency and frequency does not reveal anything about the data.\n",
        "\n"
      ],
      "metadata": {
        "id": "7y9yjjy0sCQ0"
      }
    },
    {
      "cell_type": "code",
      "source": [
        "fig, axes = plt.subplots(nrows=1, ncols=3, figsize=(12, 7))\n",
        "sns.boxplot(x=rfm_clean['Cluster_ID_4'], y=rfm_clean['Recency'], ax=axes[0])\n",
        "sns.boxplot(x=rfm_clean['Cluster_ID_4'], y=rfm_clean['Frequency'], ax=axes[1])\n",
        "sns.boxplot(x=rfm_clean['Cluster_ID_4'], y=rfm_clean['Monetary'], ax=axes[2])\n",
        "plt.suptitle('Variables per cluster')\n",
        "plt.show()"
      ],
      "metadata": {
        "colab": {
          "base_uri": "https://localhost:8080/",
          "height": 494
        },
        "id": "bFfsWiRGi53k",
        "outputId": "0b2d5c9a-9cbd-48f0-f010-958c9daf2af3"
      },
      "execution_count": 304,
      "outputs": [
        {
          "output_type": "display_data",
          "data": {
            "text/plain": [
              "<Figure size 864x504 with 3 Axes>"
            ],
            "image/png": "[encoded data removed]"
          },
          "metadata": {
            "needs_background": "light"
          }
        }
      ]
    },
    {
      "cell_type": "code",
      "source": [
        "fig, axes = plt.subplots(nrows=1, ncols=3, figsize=(15, 9))\n",
        "sns.boxplot(x=rfm_clean['Cluster_ID_2'], y=rfm['Recency'], ax=axes[0])\n",
        "sns.boxplot(x=rfm_clean['Cluster_ID_2'], y=rfm['Frequency'], ax=axes[1])\n",
        "sns.boxplot(x=rfm_clean['Cluster_ID_2'], y=rfm['Monetary'], ax=axes[2])\n",
        "plt.suptitle('Variables per cluster')\n",
        "plt.show()"
      ],
      "metadata": {
        "colab": {
          "base_uri": "https://localhost:8080/",
          "height": 617
        },
        "id": "e5mSTnpii8Dp",
        "outputId": "c1520cb2-27b2-4b53-8408-bebff9a5e612"
      },
      "execution_count": 305,
      "outputs": [
        {
          "output_type": "display_data",
          "data": {
            "text/plain": [
              "<Figure size 1080x648 with 3 Axes>"
            ],
            "image/png": "[encoded data removed]"
          },
          "metadata": {
            "needs_background": "light"
          }
        }
      ]
    },
    {
      "cell_type": "code",
      "source": [
        "fig, axes = plt.subplots(nrows=1, ncols=3, figsize=(15, 9))\n",
        "sns.boxplot(x=rfm['Cluster_ID'], y=rfm['Recency'], ax=axes[0])\n",
        "sns.boxplot(x=rfm['Cluster_ID'], y=rfm['Frequency'], ax=axes[1])\n",
        "sns.boxplot(x=rfm['Cluster_ID'], y=rfm['Monetary'], ax=axes[2])\n",
        "plt.suptitle('Variables per cluster')\n",
        "plt.show()"
      ],
      "metadata": {
        "colab": {
          "base_uri": "https://localhost:8080/",
          "height": 617
        },
        "id": "CrgHt8bOzMUw",
        "outputId": "6bb716f1-46f3-4f1a-abec-4a5bdb1cc504"
      },
      "execution_count": 306,
      "outputs": [
        {
          "output_type": "display_data",
          "data": {
            "text/plain": [
              "<Figure size 1080x648 with 3 Axes>"
            ],
            "image/png": "[encoded data removed]"
          },
          "metadata": {
            "needs_background": "light"
          }
        }
      ]
    },
    {
      "cell_type": "markdown",
      "source": [
        "With fewer outliers and lower recency than cluster 1, cluster 2 has the highest financial and frequency values in the first graphs. We can see that the third cluster has the largest frequency and monetary values in plots with three clusters. In my perspective, 3 clusters do not accurately depict the general distribution of division based on the rfm clean dataset because it is visually obvious from the scatter plots and boxplots that certain segments are more indicative of the consumers. "
      ],
      "metadata": {
        "id": "BzbTcv8SyOjE"
      }
    },
    {
      "cell_type": "markdown",
      "source": [
        "**Marketing recommendations**"
      ],
      "metadata": {
        "id": "kPd5rKFg0Pci"
      }
    },
    {
      "cell_type": "markdown",
      "source": [
        "1. Company can introduce the personalized email marketing campaigns for the customers who need attention  and are at risk so that customers do not stop shopping.\n",
        "2. To avoid churning of customers Company can provide offers to customers who purchase same item repeatedly \n",
        "3. Other way to keep a follow up with new customers and loyal customers, champions with relevant promotions and informative information that will probably boost their interest. \n",
        "4. Company should focus more on the product category which is sold most and are ordered frequently by adverstising them. Also company should focus on office supplies and technology category to increase their profit.\n"
      ],
      "metadata": {
        "id": "P15lc7ly0XB4"
      }
    }
  ]
}